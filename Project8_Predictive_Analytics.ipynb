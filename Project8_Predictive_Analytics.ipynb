{
 "cells": [
  {
   "cell_type": "markdown",
   "metadata": {
    "id": "WWbqxNLZlFII"
   },
   "source": [
    "# Project 8: Machine Learning for Predictive Analytics"
   ]
  },
  {
   "cell_type": "markdown",
   "metadata": {
    "id": "RCrmVhYDlFIJ"
   },
   "source": [
    "## Packages and setup"
   ]
  },
  {
   "cell_type": "code",
   "execution_count": 1,
   "metadata": {
    "id": "duCWbBPRlFIK"
   },
   "outputs": [],
   "source": [
    "import numpy as np\n",
    "import pandas as pd \n",
    "import seaborn as sns\n",
    "import matplotlib.pyplot as plt\n",
    "import os\n",
    "\n",
    "from scipy.stats import shapiro\n",
    "import scipy.stats as stats\n",
    "\n",
    "#parameter settings\n",
    "from IPython.core.interactiveshell import InteractiveShell\n",
    "InteractiveShell.ast_node_interactivity = \"all\"\n",
    "import warnings\n",
    "warnings.filterwarnings(\"ignore\")\n",
    "warnings.simplefilter(action='ignore', category=FutureWarning)"
   ]
  },
  {
   "cell_type": "markdown",
   "metadata": {
    "id": "VoDtZpyJlFIK"
   },
   "source": [
    "## Reading data and initial processing"
   ]
  },
  {
   "cell_type": "code",
   "execution_count": 2,
   "metadata": {
    "id": "br8Y20g5lFIL"
   },
   "outputs": [],
   "source": [
    "#edit the file location of raw data set\n",
    "cust_df=pd.read_csv(\"e:/aine/project8/project8/data/Telecom Data.csv\")"
   ]
  },
  {
   "cell_type": "markdown",
   "metadata": {
    "id": "arTuXCYclFIL"
   },
   "source": [
    "## Exercise"
   ]
  },
  {
   "cell_type": "markdown",
   "metadata": {
    "id": "46n6OhqOlFIN"
   },
   "source": [
    "## Placeholder for your analysis"
   ]
  },
  {
   "cell_type": "code",
   "execution_count": 3,
   "metadata": {
    "id": "xDu2UNTvlFIO"
   },
   "outputs": [
    {
     "data": {
      "text/plain": [
       "(51047, 58)"
      ]
     },
     "execution_count": 3,
     "metadata": {},
     "output_type": "execute_result"
    }
   ],
   "source": [
    "# Type your code here to explore and understand the data better\n",
    "\n",
    "#e.g., identify the dimension of cust_df\n",
    "cust_df.shape"
   ]
  },
  {
   "cell_type": "code",
   "execution_count": 4,
   "metadata": {
    "scrolled": true
   },
   "outputs": [
    {
     "data": {
      "text/html": [
       "<div>\n",
       "<style scoped>\n",
       "    .dataframe tbody tr th:only-of-type {\n",
       "        vertical-align: middle;\n",
       "    }\n",
       "\n",
       "    .dataframe tbody tr th {\n",
       "        vertical-align: top;\n",
       "    }\n",
       "\n",
       "    .dataframe thead th {\n",
       "        text-align: right;\n",
       "    }\n",
       "</style>\n",
       "<table border=\"1\" class=\"dataframe\">\n",
       "  <thead>\n",
       "    <tr style=\"text-align: right;\">\n",
       "      <th></th>\n",
       "      <th>CustomerID</th>\n",
       "      <th>Churn</th>\n",
       "      <th>MonthlyRevenue</th>\n",
       "      <th>MonthlyMinutes</th>\n",
       "      <th>TotalRecurringCharge</th>\n",
       "      <th>DirectorAssistedCalls</th>\n",
       "      <th>OverageMinutes</th>\n",
       "      <th>RoamingCalls</th>\n",
       "      <th>PercChangeMinutes</th>\n",
       "      <th>PercChangeRevenues</th>\n",
       "      <th>...</th>\n",
       "      <th>ReferralsMadeBySubscriber</th>\n",
       "      <th>IncomeGroup</th>\n",
       "      <th>OwnsMotorcycle</th>\n",
       "      <th>AdjustmentsToCreditRating</th>\n",
       "      <th>HandsetPrice</th>\n",
       "      <th>MadeCallToRetentionTeam</th>\n",
       "      <th>CreditRating</th>\n",
       "      <th>PrizmCode</th>\n",
       "      <th>Occupation</th>\n",
       "      <th>MaritalStatus</th>\n",
       "    </tr>\n",
       "  </thead>\n",
       "  <tbody>\n",
       "    <tr>\n",
       "      <th>0</th>\n",
       "      <td>3000002</td>\n",
       "      <td>Yes</td>\n",
       "      <td>24.00</td>\n",
       "      <td>219.0</td>\n",
       "      <td>22.0</td>\n",
       "      <td>0.25</td>\n",
       "      <td>0.0</td>\n",
       "      <td>0.0</td>\n",
       "      <td>-157.0</td>\n",
       "      <td>-19.0</td>\n",
       "      <td>...</td>\n",
       "      <td>0</td>\n",
       "      <td>4</td>\n",
       "      <td>No</td>\n",
       "      <td>0</td>\n",
       "      <td>30</td>\n",
       "      <td>Yes</td>\n",
       "      <td>1-Highest</td>\n",
       "      <td>Suburban</td>\n",
       "      <td>Professional</td>\n",
       "      <td>No</td>\n",
       "    </tr>\n",
       "    <tr>\n",
       "      <th>1</th>\n",
       "      <td>3000010</td>\n",
       "      <td>Yes</td>\n",
       "      <td>16.99</td>\n",
       "      <td>10.0</td>\n",
       "      <td>17.0</td>\n",
       "      <td>0.00</td>\n",
       "      <td>0.0</td>\n",
       "      <td>0.0</td>\n",
       "      <td>-4.0</td>\n",
       "      <td>0.0</td>\n",
       "      <td>...</td>\n",
       "      <td>0</td>\n",
       "      <td>5</td>\n",
       "      <td>No</td>\n",
       "      <td>0</td>\n",
       "      <td>30</td>\n",
       "      <td>No</td>\n",
       "      <td>4-Medium</td>\n",
       "      <td>Suburban</td>\n",
       "      <td>Professional</td>\n",
       "      <td>Yes</td>\n",
       "    </tr>\n",
       "    <tr>\n",
       "      <th>2</th>\n",
       "      <td>3000014</td>\n",
       "      <td>No</td>\n",
       "      <td>38.00</td>\n",
       "      <td>8.0</td>\n",
       "      <td>38.0</td>\n",
       "      <td>0.00</td>\n",
       "      <td>0.0</td>\n",
       "      <td>0.0</td>\n",
       "      <td>-2.0</td>\n",
       "      <td>0.0</td>\n",
       "      <td>...</td>\n",
       "      <td>0</td>\n",
       "      <td>6</td>\n",
       "      <td>No</td>\n",
       "      <td>0</td>\n",
       "      <td>Unknown</td>\n",
       "      <td>No</td>\n",
       "      <td>3-Good</td>\n",
       "      <td>Town</td>\n",
       "      <td>Crafts</td>\n",
       "      <td>Yes</td>\n",
       "    </tr>\n",
       "    <tr>\n",
       "      <th>3</th>\n",
       "      <td>3000022</td>\n",
       "      <td>No</td>\n",
       "      <td>82.28</td>\n",
       "      <td>1312.0</td>\n",
       "      <td>75.0</td>\n",
       "      <td>1.24</td>\n",
       "      <td>0.0</td>\n",
       "      <td>0.0</td>\n",
       "      <td>157.0</td>\n",
       "      <td>8.1</td>\n",
       "      <td>...</td>\n",
       "      <td>0</td>\n",
       "      <td>6</td>\n",
       "      <td>No</td>\n",
       "      <td>0</td>\n",
       "      <td>10</td>\n",
       "      <td>No</td>\n",
       "      <td>4-Medium</td>\n",
       "      <td>Other</td>\n",
       "      <td>Other</td>\n",
       "      <td>No</td>\n",
       "    </tr>\n",
       "    <tr>\n",
       "      <th>4</th>\n",
       "      <td>3000026</td>\n",
       "      <td>Yes</td>\n",
       "      <td>17.14</td>\n",
       "      <td>0.0</td>\n",
       "      <td>17.0</td>\n",
       "      <td>0.00</td>\n",
       "      <td>0.0</td>\n",
       "      <td>0.0</td>\n",
       "      <td>0.0</td>\n",
       "      <td>-0.2</td>\n",
       "      <td>...</td>\n",
       "      <td>0</td>\n",
       "      <td>9</td>\n",
       "      <td>No</td>\n",
       "      <td>1</td>\n",
       "      <td>10</td>\n",
       "      <td>No</td>\n",
       "      <td>1-Highest</td>\n",
       "      <td>Other</td>\n",
       "      <td>Professional</td>\n",
       "      <td>Yes</td>\n",
       "    </tr>\n",
       "  </tbody>\n",
       "</table>\n",
       "<p>5 rows × 58 columns</p>\n",
       "</div>"
      ],
      "text/plain": [
       "   CustomerID Churn  MonthlyRevenue  MonthlyMinutes  TotalRecurringCharge  \\\n",
       "0     3000002   Yes           24.00           219.0                  22.0   \n",
       "1     3000010   Yes           16.99            10.0                  17.0   \n",
       "2     3000014    No           38.00             8.0                  38.0   \n",
       "3     3000022    No           82.28          1312.0                  75.0   \n",
       "4     3000026   Yes           17.14             0.0                  17.0   \n",
       "\n",
       "   DirectorAssistedCalls  OverageMinutes  RoamingCalls  PercChangeMinutes  \\\n",
       "0                   0.25             0.0           0.0             -157.0   \n",
       "1                   0.00             0.0           0.0               -4.0   \n",
       "2                   0.00             0.0           0.0               -2.0   \n",
       "3                   1.24             0.0           0.0              157.0   \n",
       "4                   0.00             0.0           0.0                0.0   \n",
       "\n",
       "   PercChangeRevenues  ...  ReferralsMadeBySubscriber  IncomeGroup  \\\n",
       "0               -19.0  ...                          0            4   \n",
       "1                 0.0  ...                          0            5   \n",
       "2                 0.0  ...                          0            6   \n",
       "3                 8.1  ...                          0            6   \n",
       "4                -0.2  ...                          0            9   \n",
       "\n",
       "   OwnsMotorcycle  AdjustmentsToCreditRating  HandsetPrice  \\\n",
       "0              No                          0            30   \n",
       "1              No                          0            30   \n",
       "2              No                          0       Unknown   \n",
       "3              No                          0            10   \n",
       "4              No                          1            10   \n",
       "\n",
       "   MadeCallToRetentionTeam  CreditRating  PrizmCode    Occupation  \\\n",
       "0                      Yes     1-Highest   Suburban  Professional   \n",
       "1                       No      4-Medium   Suburban  Professional   \n",
       "2                       No        3-Good       Town        Crafts   \n",
       "3                       No      4-Medium      Other         Other   \n",
       "4                       No     1-Highest      Other  Professional   \n",
       "\n",
       "   MaritalStatus  \n",
       "0             No  \n",
       "1            Yes  \n",
       "2            Yes  \n",
       "3             No  \n",
       "4            Yes  \n",
       "\n",
       "[5 rows x 58 columns]"
      ]
     },
     "execution_count": 4,
     "metadata": {},
     "output_type": "execute_result"
    }
   ],
   "source": [
    "cust_df.head()"
   ]
  },
  {
   "cell_type": "code",
   "execution_count": 5,
   "metadata": {},
   "outputs": [
    {
     "data": {
      "text/html": [
       "<div>\n",
       "<style scoped>\n",
       "    .dataframe tbody tr th:only-of-type {\n",
       "        vertical-align: middle;\n",
       "    }\n",
       "\n",
       "    .dataframe tbody tr th {\n",
       "        vertical-align: top;\n",
       "    }\n",
       "\n",
       "    .dataframe thead th {\n",
       "        text-align: right;\n",
       "    }\n",
       "</style>\n",
       "<table border=\"1\" class=\"dataframe\">\n",
       "  <thead>\n",
       "    <tr style=\"text-align: right;\">\n",
       "      <th></th>\n",
       "      <th>CustomerID</th>\n",
       "      <th>MonthlyRevenue</th>\n",
       "      <th>MonthlyMinutes</th>\n",
       "      <th>TotalRecurringCharge</th>\n",
       "      <th>DirectorAssistedCalls</th>\n",
       "      <th>OverageMinutes</th>\n",
       "      <th>RoamingCalls</th>\n",
       "      <th>PercChangeMinutes</th>\n",
       "      <th>PercChangeRevenues</th>\n",
       "      <th>DroppedCalls</th>\n",
       "      <th>...</th>\n",
       "      <th>Handsets</th>\n",
       "      <th>HandsetModels</th>\n",
       "      <th>CurrentEquipmentDays</th>\n",
       "      <th>AgeHH1</th>\n",
       "      <th>AgeHH2</th>\n",
       "      <th>RetentionCalls</th>\n",
       "      <th>RetentionOffersAccepted</th>\n",
       "      <th>ReferralsMadeBySubscriber</th>\n",
       "      <th>IncomeGroup</th>\n",
       "      <th>AdjustmentsToCreditRating</th>\n",
       "    </tr>\n",
       "  </thead>\n",
       "  <tbody>\n",
       "    <tr>\n",
       "      <th>count</th>\n",
       "      <td>5.104700e+04</td>\n",
       "      <td>50891.000000</td>\n",
       "      <td>50891.000000</td>\n",
       "      <td>50891.000000</td>\n",
       "      <td>50891.000000</td>\n",
       "      <td>50891.000000</td>\n",
       "      <td>50891.000000</td>\n",
       "      <td>50680.000000</td>\n",
       "      <td>50680.000000</td>\n",
       "      <td>51047.000000</td>\n",
       "      <td>...</td>\n",
       "      <td>51046.000000</td>\n",
       "      <td>51046.000000</td>\n",
       "      <td>51046.000000</td>\n",
       "      <td>50138.000000</td>\n",
       "      <td>50138.000000</td>\n",
       "      <td>51047.000000</td>\n",
       "      <td>51047.000000</td>\n",
       "      <td>51047.000000</td>\n",
       "      <td>51047.000000</td>\n",
       "      <td>51047.000000</td>\n",
       "    </tr>\n",
       "    <tr>\n",
       "      <th>mean</th>\n",
       "      <td>3.201957e+06</td>\n",
       "      <td>58.834492</td>\n",
       "      <td>525.653416</td>\n",
       "      <td>46.830088</td>\n",
       "      <td>0.895229</td>\n",
       "      <td>40.027785</td>\n",
       "      <td>1.236244</td>\n",
       "      <td>-11.547908</td>\n",
       "      <td>-1.191985</td>\n",
       "      <td>6.011489</td>\n",
       "      <td>...</td>\n",
       "      <td>1.805646</td>\n",
       "      <td>1.558751</td>\n",
       "      <td>380.545841</td>\n",
       "      <td>31.338127</td>\n",
       "      <td>21.144142</td>\n",
       "      <td>0.037201</td>\n",
       "      <td>0.018277</td>\n",
       "      <td>0.052070</td>\n",
       "      <td>4.324524</td>\n",
       "      <td>0.053911</td>\n",
       "    </tr>\n",
       "    <tr>\n",
       "      <th>std</th>\n",
       "      <td>1.169056e+05</td>\n",
       "      <td>44.507336</td>\n",
       "      <td>529.871063</td>\n",
       "      <td>23.848871</td>\n",
       "      <td>2.228546</td>\n",
       "      <td>96.588076</td>\n",
       "      <td>9.818294</td>\n",
       "      <td>257.514772</td>\n",
       "      <td>39.574915</td>\n",
       "      <td>9.043955</td>\n",
       "      <td>...</td>\n",
       "      <td>1.331173</td>\n",
       "      <td>0.905932</td>\n",
       "      <td>253.801982</td>\n",
       "      <td>22.094635</td>\n",
       "      <td>23.931368</td>\n",
       "      <td>0.206483</td>\n",
       "      <td>0.142458</td>\n",
       "      <td>0.307592</td>\n",
       "      <td>3.138236</td>\n",
       "      <td>0.383147</td>\n",
       "    </tr>\n",
       "    <tr>\n",
       "      <th>min</th>\n",
       "      <td>3.000002e+06</td>\n",
       "      <td>-6.170000</td>\n",
       "      <td>0.000000</td>\n",
       "      <td>-11.000000</td>\n",
       "      <td>0.000000</td>\n",
       "      <td>0.000000</td>\n",
       "      <td>0.000000</td>\n",
       "      <td>-3875.000000</td>\n",
       "      <td>-1107.700000</td>\n",
       "      <td>0.000000</td>\n",
       "      <td>...</td>\n",
       "      <td>1.000000</td>\n",
       "      <td>1.000000</td>\n",
       "      <td>-5.000000</td>\n",
       "      <td>0.000000</td>\n",
       "      <td>0.000000</td>\n",
       "      <td>0.000000</td>\n",
       "      <td>0.000000</td>\n",
       "      <td>0.000000</td>\n",
       "      <td>0.000000</td>\n",
       "      <td>0.000000</td>\n",
       "    </tr>\n",
       "    <tr>\n",
       "      <th>25%</th>\n",
       "      <td>3.100632e+06</td>\n",
       "      <td>33.610000</td>\n",
       "      <td>158.000000</td>\n",
       "      <td>30.000000</td>\n",
       "      <td>0.000000</td>\n",
       "      <td>0.000000</td>\n",
       "      <td>0.000000</td>\n",
       "      <td>-83.000000</td>\n",
       "      <td>-7.100000</td>\n",
       "      <td>0.700000</td>\n",
       "      <td>...</td>\n",
       "      <td>1.000000</td>\n",
       "      <td>1.000000</td>\n",
       "      <td>205.000000</td>\n",
       "      <td>0.000000</td>\n",
       "      <td>0.000000</td>\n",
       "      <td>0.000000</td>\n",
       "      <td>0.000000</td>\n",
       "      <td>0.000000</td>\n",
       "      <td>0.000000</td>\n",
       "      <td>0.000000</td>\n",
       "    </tr>\n",
       "    <tr>\n",
       "      <th>50%</th>\n",
       "      <td>3.201534e+06</td>\n",
       "      <td>48.460000</td>\n",
       "      <td>366.000000</td>\n",
       "      <td>45.000000</td>\n",
       "      <td>0.250000</td>\n",
       "      <td>3.000000</td>\n",
       "      <td>0.000000</td>\n",
       "      <td>-5.000000</td>\n",
       "      <td>-0.300000</td>\n",
       "      <td>3.000000</td>\n",
       "      <td>...</td>\n",
       "      <td>1.000000</td>\n",
       "      <td>1.000000</td>\n",
       "      <td>329.000000</td>\n",
       "      <td>36.000000</td>\n",
       "      <td>0.000000</td>\n",
       "      <td>0.000000</td>\n",
       "      <td>0.000000</td>\n",
       "      <td>0.000000</td>\n",
       "      <td>5.000000</td>\n",
       "      <td>0.000000</td>\n",
       "    </tr>\n",
       "    <tr>\n",
       "      <th>75%</th>\n",
       "      <td>3.305376e+06</td>\n",
       "      <td>71.065000</td>\n",
       "      <td>723.000000</td>\n",
       "      <td>60.000000</td>\n",
       "      <td>0.990000</td>\n",
       "      <td>41.000000</td>\n",
       "      <td>0.300000</td>\n",
       "      <td>66.000000</td>\n",
       "      <td>1.600000</td>\n",
       "      <td>7.700000</td>\n",
       "      <td>...</td>\n",
       "      <td>2.000000</td>\n",
       "      <td>2.000000</td>\n",
       "      <td>515.000000</td>\n",
       "      <td>48.000000</td>\n",
       "      <td>42.000000</td>\n",
       "      <td>0.000000</td>\n",
       "      <td>0.000000</td>\n",
       "      <td>0.000000</td>\n",
       "      <td>7.000000</td>\n",
       "      <td>0.000000</td>\n",
       "    </tr>\n",
       "    <tr>\n",
       "      <th>max</th>\n",
       "      <td>3.399994e+06</td>\n",
       "      <td>1223.380000</td>\n",
       "      <td>7359.000000</td>\n",
       "      <td>400.000000</td>\n",
       "      <td>159.390000</td>\n",
       "      <td>4321.000000</td>\n",
       "      <td>1112.400000</td>\n",
       "      <td>5192.000000</td>\n",
       "      <td>2483.500000</td>\n",
       "      <td>221.700000</td>\n",
       "      <td>...</td>\n",
       "      <td>24.000000</td>\n",
       "      <td>15.000000</td>\n",
       "      <td>1812.000000</td>\n",
       "      <td>99.000000</td>\n",
       "      <td>99.000000</td>\n",
       "      <td>4.000000</td>\n",
       "      <td>3.000000</td>\n",
       "      <td>35.000000</td>\n",
       "      <td>9.000000</td>\n",
       "      <td>25.000000</td>\n",
       "    </tr>\n",
       "  </tbody>\n",
       "</table>\n",
       "<p>8 rows × 35 columns</p>\n",
       "</div>"
      ],
      "text/plain": [
       "         CustomerID  MonthlyRevenue  MonthlyMinutes  TotalRecurringCharge  \\\n",
       "count  5.104700e+04    50891.000000    50891.000000          50891.000000   \n",
       "mean   3.201957e+06       58.834492      525.653416             46.830088   \n",
       "std    1.169056e+05       44.507336      529.871063             23.848871   \n",
       "min    3.000002e+06       -6.170000        0.000000            -11.000000   \n",
       "25%    3.100632e+06       33.610000      158.000000             30.000000   \n",
       "50%    3.201534e+06       48.460000      366.000000             45.000000   \n",
       "75%    3.305376e+06       71.065000      723.000000             60.000000   \n",
       "max    3.399994e+06     1223.380000     7359.000000            400.000000   \n",
       "\n",
       "       DirectorAssistedCalls  OverageMinutes  RoamingCalls  PercChangeMinutes  \\\n",
       "count           50891.000000    50891.000000  50891.000000       50680.000000   \n",
       "mean                0.895229       40.027785      1.236244         -11.547908   \n",
       "std                 2.228546       96.588076      9.818294         257.514772   \n",
       "min                 0.000000        0.000000      0.000000       -3875.000000   \n",
       "25%                 0.000000        0.000000      0.000000         -83.000000   \n",
       "50%                 0.250000        3.000000      0.000000          -5.000000   \n",
       "75%                 0.990000       41.000000      0.300000          66.000000   \n",
       "max               159.390000     4321.000000   1112.400000        5192.000000   \n",
       "\n",
       "       PercChangeRevenues  DroppedCalls  ...      Handsets  HandsetModels  \\\n",
       "count        50680.000000  51047.000000  ...  51046.000000   51046.000000   \n",
       "mean            -1.191985      6.011489  ...      1.805646       1.558751   \n",
       "std             39.574915      9.043955  ...      1.331173       0.905932   \n",
       "min          -1107.700000      0.000000  ...      1.000000       1.000000   \n",
       "25%             -7.100000      0.700000  ...      1.000000       1.000000   \n",
       "50%             -0.300000      3.000000  ...      1.000000       1.000000   \n",
       "75%              1.600000      7.700000  ...      2.000000       2.000000   \n",
       "max           2483.500000    221.700000  ...     24.000000      15.000000   \n",
       "\n",
       "       CurrentEquipmentDays        AgeHH1        AgeHH2  RetentionCalls  \\\n",
       "count          51046.000000  50138.000000  50138.000000    51047.000000   \n",
       "mean             380.545841     31.338127     21.144142        0.037201   \n",
       "std              253.801982     22.094635     23.931368        0.206483   \n",
       "min               -5.000000      0.000000      0.000000        0.000000   \n",
       "25%              205.000000      0.000000      0.000000        0.000000   \n",
       "50%              329.000000     36.000000      0.000000        0.000000   \n",
       "75%              515.000000     48.000000     42.000000        0.000000   \n",
       "max             1812.000000     99.000000     99.000000        4.000000   \n",
       "\n",
       "       RetentionOffersAccepted  ReferralsMadeBySubscriber   IncomeGroup  \\\n",
       "count             51047.000000               51047.000000  51047.000000   \n",
       "mean                  0.018277                   0.052070      4.324524   \n",
       "std                   0.142458                   0.307592      3.138236   \n",
       "min                   0.000000                   0.000000      0.000000   \n",
       "25%                   0.000000                   0.000000      0.000000   \n",
       "50%                   0.000000                   0.000000      5.000000   \n",
       "75%                   0.000000                   0.000000      7.000000   \n",
       "max                   3.000000                  35.000000      9.000000   \n",
       "\n",
       "       AdjustmentsToCreditRating  \n",
       "count               51047.000000  \n",
       "mean                    0.053911  \n",
       "std                     0.383147  \n",
       "min                     0.000000  \n",
       "25%                     0.000000  \n",
       "50%                     0.000000  \n",
       "75%                     0.000000  \n",
       "max                    25.000000  \n",
       "\n",
       "[8 rows x 35 columns]"
      ]
     },
     "execution_count": 5,
     "metadata": {},
     "output_type": "execute_result"
    }
   ],
   "source": [
    "cust_df.describe()"
   ]
  },
  {
   "cell_type": "code",
   "execution_count": 6,
   "metadata": {},
   "outputs": [
    {
     "data": {
      "text/plain": [
       "1.0"
      ]
     },
     "execution_count": 6,
     "metadata": {},
     "output_type": "execute_result"
    }
   ],
   "source": [
    "#check any duplicate customer are present\n",
    "cust_df.CustomerID.nunique()/cust_df.shape[0]"
   ]
  },
  {
   "cell_type": "code",
   "execution_count": 7,
   "metadata": {},
   "outputs": [
    {
     "data": {
      "text/plain": [
       "Index(['CustomerID', 'Churn', 'MonthlyRevenue', 'MonthlyMinutes',\n",
       "       'TotalRecurringCharge', 'DirectorAssistedCalls', 'OverageMinutes',\n",
       "       'RoamingCalls', 'PercChangeMinutes', 'PercChangeRevenues',\n",
       "       'DroppedCalls', 'BlockedCalls', 'UnansweredCalls', 'CustomerCareCalls',\n",
       "       'ThreewayCalls', 'ReceivedCalls', 'OutboundCalls', 'InboundCalls',\n",
       "       'PeakCallsInOut', 'OffPeakCallsInOut', 'DroppedBlockedCalls',\n",
       "       'CallForwardingCalls', 'CallWaitingCalls', 'MonthsInService',\n",
       "       'UniqueSubs', 'ActiveSubs', 'ServiceArea', 'Handsets', 'HandsetModels',\n",
       "       'CurrentEquipmentDays', 'AgeHH1', 'AgeHH2', 'ChildrenInHH',\n",
       "       'HandsetRefurbished', 'HandsetWebCapable', 'TruckOwner', 'RVOwner',\n",
       "       'Homeownership', 'BuysViaMailOrder', 'RespondsToMailOffers',\n",
       "       'OptOutMailings', 'NonUSTravel', 'OwnsComputer', 'HasCreditCard',\n",
       "       'RetentionCalls', 'RetentionOffersAccepted', 'NewCellphoneUser',\n",
       "       'NotNewCellphoneUser', 'ReferralsMadeBySubscriber', 'IncomeGroup',\n",
       "       'OwnsMotorcycle', 'AdjustmentsToCreditRating', 'HandsetPrice',\n",
       "       'MadeCallToRetentionTeam', 'CreditRating', 'PrizmCode', 'Occupation',\n",
       "       'MaritalStatus'],\n",
       "      dtype='object')"
      ]
     },
     "execution_count": 7,
     "metadata": {},
     "output_type": "execute_result"
    }
   ],
   "source": [
    "cust_df.columns"
   ]
  },
  {
   "cell_type": "code",
   "execution_count": 8,
   "metadata": {},
   "outputs": [
    {
     "data": {
      "text/plain": [
       "No     36336\n",
       "Yes    14711\n",
       "Name: Churn, dtype: int64"
      ]
     },
     "execution_count": 8,
     "metadata": {},
     "output_type": "execute_result"
    }
   ],
   "source": [
    "cust_df.Churn.value_counts()"
   ]
  },
  {
   "cell_type": "code",
   "execution_count": 9,
   "metadata": {},
   "outputs": [
    {
     "data": {
      "text/plain": [
       "No     71.18146\n",
       "Yes    28.81854\n",
       "Name: Churn, dtype: float64"
      ]
     },
     "execution_count": 9,
     "metadata": {},
     "output_type": "execute_result"
    }
   ],
   "source": [
    "100*cust_df.Churn.value_counts()/cust_df.shape[0]"
   ]
  },
  {
   "cell_type": "markdown",
   "metadata": {
    "id": "rsOVIvHSlFIO"
   },
   "source": [
    "## Q1. Detect and resolve problems in the data (Missing value, Outliers, Unexpected value, etc.)"
   ]
  },
  {
   "cell_type": "markdown",
   "metadata": {
    "id": "qoX4uCUIlFIP"
   },
   "source": [
    "### Q1.1 How many customers had zero monthly revenue?"
   ]
  },
  {
   "cell_type": "code",
   "execution_count": 10,
   "metadata": {
    "id": "qSmjZ8QQlFIP"
   },
   "outputs": [
    {
     "data": {
      "text/plain": [
       "6"
      ]
     },
     "execution_count": 10,
     "metadata": {},
     "output_type": "execute_result"
    }
   ],
   "source": [
    "#How many customers had zero monthly revenue?\n",
    "cust_df[cust_df.MonthlyRevenue==0].shape[0]\n",
    "\n"
   ]
  },
  {
   "cell_type": "markdown",
   "metadata": {},
   "source": [
    "<mark>__Result:__\n",
    "    \n",
    "<span style='font-size:30px;'>&#9997; </span>\n",
    "    6 customers have 0 monthly revenue"
   ]
  },
  {
   "cell_type": "code",
   "execution_count": 11,
   "metadata": {},
   "outputs": [
    {
     "data": {
      "text/plain": [
       "(50162, 58)"
      ]
     },
     "execution_count": 11,
     "metadata": {},
     "output_type": "execute_result"
    }
   ],
   "source": [
    "#Exclude the customers with zero monthly revenue from cust_df\n",
    "cust_df=cust_df[cust_df.MonthlyRevenue>0.0]\n",
    "#Exclude the customers with zero Monthly Minutes from cust_df\n",
    "cust_df=cust_df[cust_df[\"MonthlyMinutes\"]>0.0]\n",
    "\n",
    "cust_df.shape"
   ]
  },
  {
   "cell_type": "markdown",
   "metadata": {
    "id": "IEil-5AblFIP"
   },
   "source": [
    "### Q1.2 How many columns has missing values percentage > 5%"
   ]
  },
  {
   "cell_type": "code",
   "execution_count": 12,
   "metadata": {
    "id": "9r1UrF0PlFIQ"
   },
   "outputs": [
    {
     "data": {
      "text/plain": [
       "CustomerID                   0.000000\n",
       "Churn                        0.000000\n",
       "MonthlyRevenue               0.000000\n",
       "MonthlyMinutes               0.000000\n",
       "TotalRecurringCharge         0.000000\n",
       "DirectorAssistedCalls        0.000000\n",
       "OverageMinutes               0.000000\n",
       "RoamingCalls                 0.000000\n",
       "PercChangeMinutes            0.344883\n",
       "PercChangeRevenues           0.344883\n",
       "DroppedCalls                 0.000000\n",
       "BlockedCalls                 0.000000\n",
       "UnansweredCalls              0.000000\n",
       "CustomerCareCalls            0.000000\n",
       "ThreewayCalls                0.000000\n",
       "ReceivedCalls                0.000000\n",
       "OutboundCalls                0.000000\n",
       "InboundCalls                 0.000000\n",
       "PeakCallsInOut               0.000000\n",
       "OffPeakCallsInOut            0.000000\n",
       "DroppedBlockedCalls          0.000000\n",
       "CallForwardingCalls          0.000000\n",
       "CallWaitingCalls             0.000000\n",
       "MonthsInService              0.000000\n",
       "UniqueSubs                   0.000000\n",
       "ActiveSubs                   0.000000\n",
       "ServiceArea                  0.047845\n",
       "Handsets                     0.000000\n",
       "HandsetModels                0.000000\n",
       "CurrentEquipmentDays         0.000000\n",
       "AgeHH1                       1.772258\n",
       "AgeHH2                       1.772258\n",
       "ChildrenInHH                 0.000000\n",
       "HandsetRefurbished           0.000000\n",
       "HandsetWebCapable            0.000000\n",
       "TruckOwner                   0.000000\n",
       "RVOwner                      0.000000\n",
       "Homeownership                0.000000\n",
       "BuysViaMailOrder             0.000000\n",
       "RespondsToMailOffers         0.000000\n",
       "OptOutMailings               0.000000\n",
       "NonUSTravel                  0.000000\n",
       "OwnsComputer                 0.000000\n",
       "HasCreditCard                0.000000\n",
       "RetentionCalls               0.000000\n",
       "RetentionOffersAccepted      0.000000\n",
       "NewCellphoneUser             0.000000\n",
       "NotNewCellphoneUser          0.000000\n",
       "ReferralsMadeBySubscriber    0.000000\n",
       "IncomeGroup                  0.000000\n",
       "OwnsMotorcycle               0.000000\n",
       "AdjustmentsToCreditRating    0.000000\n",
       "HandsetPrice                 0.000000\n",
       "MadeCallToRetentionTeam      0.000000\n",
       "CreditRating                 0.000000\n",
       "PrizmCode                    0.000000\n",
       "Occupation                   0.000000\n",
       "MaritalStatus                0.000000\n",
       "dtype: float64"
      ]
     },
     "execution_count": 12,
     "metadata": {},
     "output_type": "execute_result"
    }
   ],
   "source": [
    "#Calculate for each column % of missing value in the data\n",
    "#How many columns has missing values percentage > 5%\n",
    "\n",
    "100*cust_df.isnull().sum()/cust_df.shape[0]"
   ]
  },
  {
   "cell_type": "markdown",
   "metadata": {
    "id": "wtaCwTMqlFIQ"
   },
   "source": [
    "<mark>__Result:__\n",
    "    \n",
    "<span style='font-size:30px;'>&#9997; </span>\n",
    "\n",
    "Below 5 features are having missing values. None of columns has missing values percentage > 5%\n",
    "\n",
    "|Feature |%Percetage of Missing Values|\n",
    "|:-----|:----:|\n",
    "|PercChangeMinutes |0.3449|\n",
    "|PercChangeRevenues|0.3449|\n",
    "|AgeHH1|1.7723|\n",
    "|AgeHH2|1.7723|\n",
    "|ServiceArea|0.0478|\n",
    "   "
   ]
  },
  {
   "cell_type": "code",
   "execution_count": 13,
   "metadata": {},
   "outputs": [
    {
     "data": {
      "text/plain": [
       "(49078, 58)"
      ]
     },
     "execution_count": 13,
     "metadata": {},
     "output_type": "execute_result"
    }
   ],
   "source": [
    "#What strategy should be used for imputation?\n",
    "cust_df.dropna(axis=0,inplace=True)\n",
    "cust_df.shape"
   ]
  },
  {
   "cell_type": "markdown",
   "metadata": {},
   "source": [
    "<mark>__Result:__\n",
    "    \n",
    "<span style='font-size:30px;'>&#9997; </span>\n",
    "    Dropped rows which are having missing values. Around 2% of rows are dropped (records reduced from 50162 to 49078)"
   ]
  },
  {
   "cell_type": "markdown",
   "metadata": {
    "id": "MMq6xiX_lFIQ"
   },
   "source": [
    "### Q1.3 For columns, \"UniqueSubs\" and \"DirectorAssistedCalls\" remove outliers, if any"
   ]
  },
  {
   "cell_type": "code",
   "execution_count": 14,
   "metadata": {
    "id": "RurTZpXRlFIR",
    "outputId": "79b9bba5-8ccb-47ef-db45-a49f5e4f1168"
   },
   "outputs": [
    {
     "data": {
      "text/plain": [
       "<matplotlib.axes._subplots.AxesSubplot at 0x1b347fcdb50>"
      ]
     },
     "execution_count": 14,
     "metadata": {},
     "output_type": "execute_result"
    },
    {
     "data": {
      "image/png": "[encoded data removed]",
      "text/plain": [
       "<Figure size 432x288 with 1 Axes>"
      ]
     },
     "metadata": {
      "needs_background": "light"
     },
     "output_type": "display_data"
    }
   ],
   "source": [
    "#plot box plot using pandas for columns \"UniqueSubs\" and \"DirectorAssistedCalls\"\n",
    "cols=[\"UniqueSubs\",\"DirectorAssistedCalls\"]\n",
    "cust_df.boxplot(column=cols)"
   ]
  },
  {
   "cell_type": "code",
   "execution_count": 15,
   "metadata": {
    "id": "MXMbtk5TlFIS"
   },
   "outputs": [
    {
     "data": {
      "text/html": [
       "<div>\n",
       "<style scoped>\n",
       "    .dataframe tbody tr th:only-of-type {\n",
       "        vertical-align: middle;\n",
       "    }\n",
       "\n",
       "    .dataframe tbody tr th {\n",
       "        vertical-align: top;\n",
       "    }\n",
       "\n",
       "    .dataframe thead th {\n",
       "        text-align: right;\n",
       "    }\n",
       "</style>\n",
       "<table border=\"1\" class=\"dataframe\">\n",
       "  <thead>\n",
       "    <tr style=\"text-align: right;\">\n",
       "      <th></th>\n",
       "      <th>UniqueSubs</th>\n",
       "      <th>DirectorAssistedCalls</th>\n",
       "    </tr>\n",
       "  </thead>\n",
       "  <tbody>\n",
       "    <tr>\n",
       "      <th>0.95</th>\n",
       "      <td>3.0</td>\n",
       "      <td>4.21</td>\n",
       "    </tr>\n",
       "    <tr>\n",
       "      <th>0.96</th>\n",
       "      <td>3.0</td>\n",
       "      <td>4.70</td>\n",
       "    </tr>\n",
       "    <tr>\n",
       "      <th>0.97</th>\n",
       "      <td>4.0</td>\n",
       "      <td>5.69</td>\n",
       "    </tr>\n",
       "    <tr>\n",
       "      <th>0.98</th>\n",
       "      <td>4.0</td>\n",
       "      <td>6.93</td>\n",
       "    </tr>\n",
       "    <tr>\n",
       "      <th>0.99</th>\n",
       "      <td>5.0</td>\n",
       "      <td>9.65</td>\n",
       "    </tr>\n",
       "    <tr>\n",
       "      <th>1.00</th>\n",
       "      <td>18.0</td>\n",
       "      <td>159.39</td>\n",
       "    </tr>\n",
       "  </tbody>\n",
       "</table>\n",
       "</div>"
      ],
      "text/plain": [
       "      UniqueSubs  DirectorAssistedCalls\n",
       "0.95         3.0                   4.21\n",
       "0.96         3.0                   4.70\n",
       "0.97         4.0                   5.69\n",
       "0.98         4.0                   6.93\n",
       "0.99         5.0                   9.65\n",
       "1.00        18.0                 159.39"
      ]
     },
     "execution_count": 15,
     "metadata": {},
     "output_type": "execute_result"
    }
   ],
   "source": [
    "#Remove top 1% outliers from the above mentioned two columns and plot the box plot again\n",
    "#Use \"quantile\" function to identify top 1% outliers\n",
    "q_value=[i/100 for i in range (95,101,1)]\n",
    "cust_df[cols].quantile(q_value)\n",
    "\n"
   ]
  },
  {
   "cell_type": "code",
   "execution_count": 16,
   "metadata": {},
   "outputs": [],
   "source": [
    "## filtering cust_df data with 99% value\n",
    "cust_df=cust_df[(cust_df.UniqueSubs<=5) & (cust_df.DirectorAssistedCalls<9.6156)]\n"
   ]
  },
  {
   "cell_type": "code",
   "execution_count": 17,
   "metadata": {},
   "outputs": [
    {
     "data": {
      "text/plain": [
       "<matplotlib.axes._subplots.AxesSubplot at 0x1b3480aa820>"
      ]
     },
     "execution_count": 17,
     "metadata": {},
     "output_type": "execute_result"
    },
    {
     "data": {
      "image/png": "[encoded data removed]",
      "text/plain": [
       "<Figure size 432x288 with 1 Axes>"
      ]
     },
     "metadata": {
      "needs_background": "light"
     },
     "output_type": "display_data"
    }
   ],
   "source": [
    "cust_df.boxplot(column=cols)"
   ]
  },
  {
   "cell_type": "markdown",
   "metadata": {
    "id": "j9nGdg_jlFIS"
   },
   "source": [
    "## Q2. Perform exploratory analysis to analyze customer churn"
   ]
  },
  {
   "cell_type": "markdown",
   "metadata": {
    "id": "kuLvZj8LlFIS"
   },
   "source": [
    "### Q2.1 Does customers with high overage minutes also have high revenue?"
   ]
  },
  {
   "cell_type": "code",
   "execution_count": 18,
   "metadata": {
    "id": "9iwrU-MelFIT"
   },
   "outputs": [
    {
     "data": {
      "text/plain": [
       "<matplotlib.axes._subplots.AxesSubplot at 0x1b34812fc70>"
      ]
     },
     "execution_count": 18,
     "metadata": {},
     "output_type": "execute_result"
    },
    {
     "data": {
      "image/png": "[encoded data removed]",
      "text/plain": [
       "<Figure size 432x288 with 1 Axes>"
      ]
     },
     "metadata": {
      "needs_background": "light"
     },
     "output_type": "display_data"
    }
   ],
   "source": [
    "#use scatter plot to find the correlation between monthly revenue and overage minutes\n",
    "sns.scatterplot(x = 'MonthlyRevenue', y = 'OverageMinutes', data = cust_df)"
   ]
  },
  {
   "cell_type": "code",
   "execution_count": 19,
   "metadata": {},
   "outputs": [
    {
     "data": {
      "text/plain": [
       "Text(0.5, 1.0, 'Non Churned customer')"
      ]
     },
     "execution_count": 19,
     "metadata": {},
     "output_type": "execute_result"
    },
    {
     "data": {
      "text/plain": [
       "<matplotlib.axes._subplots.AxesSubplot at 0x1b34870bb80>"
      ]
     },
     "execution_count": 19,
     "metadata": {},
     "output_type": "execute_result"
    },
    {
     "data": {
      "image/png": "[encoded data removed]",
      "text/plain": [
       "<Figure size 432x288 with 1 Axes>"
      ]
     },
     "metadata": {
      "needs_background": "light"
     },
     "output_type": "display_data"
    }
   ],
   "source": [
    "#use scatter plot to find the correlation between monthly revenue and overage minutes for Non Churned Customers\n",
    "plt.title(\"Non Churned customer\")\n",
    "sns.scatterplot(x = 'MonthlyRevenue', y = 'OverageMinutes', data = cust_df[cust_df.Churn==\"No\"])\n",
    "plt.show()"
   ]
  },
  {
   "cell_type": "code",
   "execution_count": 20,
   "metadata": {},
   "outputs": [
    {
     "data": {
      "text/plain": [
       "Text(0.5, 1.0, 'Churned customer')"
      ]
     },
     "execution_count": 20,
     "metadata": {},
     "output_type": "execute_result"
    },
    {
     "data": {
      "text/plain": [
       "<matplotlib.axes._subplots.AxesSubplot at 0x1b348174400>"
      ]
     },
     "execution_count": 20,
     "metadata": {},
     "output_type": "execute_result"
    },
    {
     "data": {
      "image/png": "[encoded data removed]",
      "text/plain": [
       "<Figure size 432x288 with 1 Axes>"
      ]
     },
     "metadata": {
      "needs_background": "light"
     },
     "output_type": "display_data"
    }
   ],
   "source": [
    "#use scatter plot to find the correlation between monthly revenue and overage minutes for Churned Customers\n",
    "plt.title(\"Churned customer\")\n",
    "sns.scatterplot(x = 'MonthlyRevenue', y = 'OverageMinutes', data = cust_df[cust_df.Churn==\"Yes\"])\n",
    "plt.show()"
   ]
  },
  {
   "cell_type": "markdown",
   "metadata": {
    "id": "p0c7mh47lFIT"
   },
   "source": [
    "<mark>__Result:__\n",
    "    \n",
    "<span style='font-size:30px;'>&#9997; </span>\n",
    "MonthlyRevenue and OverageMinutes has positive correlation. Few outliers are present. Churned Customer has  more outliers."
   ]
  },
  {
   "cell_type": "markdown",
   "metadata": {
    "id": "ypcm12s6lFIT"
   },
   "source": [
    "### Q2.2 Does high number of active subscribers lead to low monthly revenue?"
   ]
  },
  {
   "cell_type": "code",
   "execution_count": 21,
   "metadata": {
    "id": "K_Hbu6DvlFIU"
   },
   "outputs": [
    {
     "data": {
      "text/plain": [
       "<seaborn.axisgrid.FacetGrid at 0x1b348068550>"
      ]
     },
     "execution_count": 21,
     "metadata": {},
     "output_type": "execute_result"
    },
    {
     "data": {
      "image/png": "[encoded data removed]",
      "text/plain": [
       "<Figure size 360x360 with 1 Axes>"
      ]
     },
     "metadata": {
      "needs_background": "light"
     },
     "output_type": "display_data"
    }
   ],
   "source": [
    "#use category plot to plot monthly revenue for each active subs category\n",
    "sns.catplot(x=\"ActiveSubs\",y=\"MonthlyRevenue\",data=cust_df) "
   ]
  },
  {
   "cell_type": "markdown",
   "metadata": {
    "id": "mkrnwbZhlFIU"
   },
   "source": [
    "<mark>__Result:__\n",
    "    \n",
    "<span style='font-size:30px;'>&#9997; </span>\n",
    "\n",
    "When number of active subscriptions increases, monthly revenue decreases"
   ]
  },
  {
   "cell_type": "markdown",
   "metadata": {
    "id": "uZYchMbslFIU"
   },
   "source": [
    "### Q2.3 Does credit rating have an impact in churn rate?"
   ]
  },
  {
   "cell_type": "code",
   "execution_count": 22,
   "metadata": {},
   "outputs": [
    {
     "data": {
      "text/html": [
       "<div>\n",
       "<style scoped>\n",
       "    .dataframe tbody tr th:only-of-type {\n",
       "        vertical-align: middle;\n",
       "    }\n",
       "\n",
       "    .dataframe tbody tr th {\n",
       "        vertical-align: top;\n",
       "    }\n",
       "\n",
       "    .dataframe thead th {\n",
       "        text-align: right;\n",
       "    }\n",
       "</style>\n",
       "<table border=\"1\" class=\"dataframe\">\n",
       "  <thead>\n",
       "    <tr style=\"text-align: right;\">\n",
       "      <th>CreditRating</th>\n",
       "      <th>1-Highest</th>\n",
       "      <th>2-High</th>\n",
       "      <th>3-Good</th>\n",
       "      <th>4-Medium</th>\n",
       "      <th>5-Low</th>\n",
       "      <th>6-VeryLow</th>\n",
       "      <th>7-Lowest</th>\n",
       "    </tr>\n",
       "    <tr>\n",
       "      <th>Churn</th>\n",
       "      <th></th>\n",
       "      <th></th>\n",
       "      <th></th>\n",
       "      <th></th>\n",
       "      <th></th>\n",
       "      <th></th>\n",
       "      <th></th>\n",
       "    </tr>\n",
       "  </thead>\n",
       "  <tbody>\n",
       "    <tr>\n",
       "      <th>No</th>\n",
       "      <td>0.698608</td>\n",
       "      <td>0.7039</td>\n",
       "      <td>0.69738</td>\n",
       "      <td>0.745876</td>\n",
       "      <td>0.785889</td>\n",
       "      <td>0.739905</td>\n",
       "      <td>0.718026</td>\n",
       "    </tr>\n",
       "    <tr>\n",
       "      <th>Yes</th>\n",
       "      <td>0.301392</td>\n",
       "      <td>0.2961</td>\n",
       "      <td>0.30262</td>\n",
       "      <td>0.254124</td>\n",
       "      <td>0.214111</td>\n",
       "      <td>0.260095</td>\n",
       "      <td>0.281974</td>\n",
       "    </tr>\n",
       "  </tbody>\n",
       "</table>\n",
       "</div>"
      ],
      "text/plain": [
       "CreditRating  1-Highest  2-High   3-Good  4-Medium     5-Low  6-VeryLow  \\\n",
       "Churn                                                                     \n",
       "No             0.698608  0.7039  0.69738  0.745876  0.785889   0.739905   \n",
       "Yes            0.301392  0.2961  0.30262  0.254124  0.214111   0.260095   \n",
       "\n",
       "CreditRating  7-Lowest  \n",
       "Churn                   \n",
       "No            0.718026  \n",
       "Yes           0.281974  "
      ]
     },
     "execution_count": 22,
     "metadata": {},
     "output_type": "execute_result"
    },
    {
     "data": {
      "text/html": [
       "<div>\n",
       "<style scoped>\n",
       "    .dataframe tbody tr th:only-of-type {\n",
       "        vertical-align: middle;\n",
       "    }\n",
       "\n",
       "    .dataframe tbody tr th {\n",
       "        vertical-align: top;\n",
       "    }\n",
       "\n",
       "    .dataframe thead th {\n",
       "        text-align: right;\n",
       "    }\n",
       "</style>\n",
       "<table border=\"1\" class=\"dataframe\">\n",
       "  <thead>\n",
       "    <tr style=\"text-align: right;\">\n",
       "      <th>CreditRating</th>\n",
       "      <th>1-Highest</th>\n",
       "      <th>2-High</th>\n",
       "      <th>3-Good</th>\n",
       "      <th>4-Medium</th>\n",
       "      <th>5-Low</th>\n",
       "      <th>6-VeryLow</th>\n",
       "      <th>7-Lowest</th>\n",
       "    </tr>\n",
       "    <tr>\n",
       "      <th>Churn</th>\n",
       "      <th></th>\n",
       "      <th></th>\n",
       "      <th></th>\n",
       "      <th></th>\n",
       "      <th></th>\n",
       "      <th></th>\n",
       "      <th></th>\n",
       "    </tr>\n",
       "  </thead>\n",
       "  <tbody>\n",
       "    <tr>\n",
       "      <th>No</th>\n",
       "      <td>0.161849</td>\n",
       "      <td>0.371062</td>\n",
       "      <td>0.160179</td>\n",
       "      <td>0.109358</td>\n",
       "      <td>0.138555</td>\n",
       "      <td>0.017938</td>\n",
       "      <td>0.041060</td>\n",
       "    </tr>\n",
       "    <tr>\n",
       "      <th>Yes</th>\n",
       "      <td>0.177734</td>\n",
       "      <td>0.397318</td>\n",
       "      <td>0.176928</td>\n",
       "      <td>0.094840</td>\n",
       "      <td>0.096086</td>\n",
       "      <td>0.016051</td>\n",
       "      <td>0.041044</td>\n",
       "    </tr>\n",
       "  </tbody>\n",
       "</table>\n",
       "</div>"
      ],
      "text/plain": [
       "CreditRating  1-Highest    2-High    3-Good  4-Medium     5-Low  6-VeryLow  \\\n",
       "Churn                                                                        \n",
       "No             0.161849  0.371062  0.160179  0.109358  0.138555   0.017938   \n",
       "Yes            0.177734  0.397318  0.176928  0.094840  0.096086   0.016051   \n",
       "\n",
       "CreditRating  7-Lowest  \n",
       "Churn                   \n",
       "No            0.041060  \n",
       "Yes           0.041044  "
      ]
     },
     "execution_count": 22,
     "metadata": {},
     "output_type": "execute_result"
    }
   ],
   "source": [
    "pd.crosstab(cust_df.Churn,cust_df.CreditRating).apply(lambda r:r/r.sum(),axis=0)\n",
    "pd.crosstab(cust_df.Churn,cust_df.CreditRating).apply(lambda r:r/r.sum(),axis=1)"
   ]
  },
  {
   "cell_type": "markdown",
   "metadata": {
    "id": "Tm9Kkol0lFIV"
   },
   "source": [
    "<mark>__Result:__\n",
    "    \n",
    "<span style='font-size:30px;'>&#9997; </span>\n",
    "Proportion of churned customer is high on 'high credit score'. There is no definite trend found, with respect to credit score."
   ]
  },
  {
   "cell_type": "markdown",
   "metadata": {
    "id": "okgnaKbclFIV"
   },
   "source": [
    "### Placeholder for additional exploratory analysis"
   ]
  },
  {
   "cell_type": "code",
   "execution_count": 23,
   "metadata": {
    "id": "bJkZDBualFIV"
   },
   "outputs": [],
   "source": [
    "#type your code here for any additional exploratory analysis (if any)\n",
    "\n"
   ]
  },
  {
   "cell_type": "markdown",
   "metadata": {
    "id": "1v8DwkhPlFIV"
   },
   "source": [
    "## Q3. Create additional features to help predict churn"
   ]
  },
  {
   "cell_type": "code",
   "execution_count": 24,
   "metadata": {
    "id": "Qtk8mg8OlFIW"
   },
   "outputs": [],
   "source": [
    "#wrapper function to create additional features for churn prediction\n",
    "def create_features(cust_df):\n",
    "    \n",
    "    #3.1 Percent of current active subs over total subs\n",
    "    cust_df['perc_active_subs'] = cust_df['ActiveSubs'] / cust_df['UniqueSubs']\n",
    "    \n",
    "    #3.2 Percent of recurrent charge to monthly charge\n",
    "    #type your code here to create a new column in cust_df\n",
    "    cust_df['perc_recurrent_charge']=cust_df['TotalRecurringCharge']/cust_df['MonthlyRevenue']\n",
    "    \n",
    "    #3.3 Percent of overage minutes over total monthly minutes\n",
    "    #type your code here to create a new column in cust_df\n",
    "    cust_df['perc_overage_minute']=cust_df['OverageMinutes']/cust_df['MonthlyMinutes']\n",
    "\n",
    "   \n",
    "\n",
    "    #type your code here to creat any other additional features which you think will help improve your model accuracy\n",
    "    cust_df['perc_roaming_calls']=cust_df['RoamingCalls']/cust_df['MonthlyMinutes']\n",
    "    \n",
    "    cust_df['perc_droppped_calls']=cust_df['DroppedCalls']/cust_df['MonthlyMinutes']\n",
    "    \n",
    "    cust_df['perc_blocked_calls']=cust_df['BlockedCalls']/cust_df['MonthlyMinutes']\n",
    "    cust_df['perc_unanswered_calls']=cust_df['UnansweredCalls']/cust_df['MonthlyMinutes']\n",
    "    cust_df['perc_customercare_calls']=cust_df['CustomerCareCalls']/cust_df['MonthlyMinutes']\n",
    "    cust_df['perc_threeway_calls']=cust_df['ThreewayCalls']/cust_df['MonthlyMinutes']\n",
    "    cust_df['perc_received_calls']=cust_df['ReceivedCalls']/cust_df['MonthlyMinutes']\n",
    "    cust_df['perc_outbound_calls']=cust_df['OutboundCalls']/cust_df['MonthlyMinutes']\n",
    "    cust_df['perc_inbound_calls']=cust_df['InboundCalls']/cust_df['MonthlyMinutes']\n",
    "\n",
    "\n",
    "\n",
    "    return cust_df  \n"
   ]
  },
  {
   "cell_type": "code",
   "execution_count": 25,
   "metadata": {
    "id": "aVqGUbRIlFIW"
   },
   "outputs": [],
   "source": [
    "#Make a call to the feature engineering wrapper function for churn prediction\n",
    "cust_df=create_features(cust_df)\n"
   ]
  },
  {
   "cell_type": "code",
   "execution_count": 26,
   "metadata": {},
   "outputs": [
    {
     "data": {
      "text/html": [
       "<div>\n",
       "<style scoped>\n",
       "    .dataframe tbody tr th:only-of-type {\n",
       "        vertical-align: middle;\n",
       "    }\n",
       "\n",
       "    .dataframe tbody tr th {\n",
       "        vertical-align: top;\n",
       "    }\n",
       "\n",
       "    .dataframe thead th {\n",
       "        text-align: right;\n",
       "    }\n",
       "</style>\n",
       "<table border=\"1\" class=\"dataframe\">\n",
       "  <thead>\n",
       "    <tr style=\"text-align: right;\">\n",
       "      <th></th>\n",
       "      <th>CustomerID</th>\n",
       "      <th>Churn</th>\n",
       "      <th>MonthlyRevenue</th>\n",
       "      <th>MonthlyMinutes</th>\n",
       "      <th>TotalRecurringCharge</th>\n",
       "      <th>DirectorAssistedCalls</th>\n",
       "      <th>OverageMinutes</th>\n",
       "      <th>RoamingCalls</th>\n",
       "      <th>PercChangeMinutes</th>\n",
       "      <th>PercChangeRevenues</th>\n",
       "      <th>...</th>\n",
       "      <th>perc_overage_minute</th>\n",
       "      <th>perc_roaming_calls</th>\n",
       "      <th>perc_droppped_calls</th>\n",
       "      <th>perc_blocked_calls</th>\n",
       "      <th>perc_unanswered_calls</th>\n",
       "      <th>perc_customercare_calls</th>\n",
       "      <th>perc_threeway_calls</th>\n",
       "      <th>perc_received_calls</th>\n",
       "      <th>perc_outbound_calls</th>\n",
       "      <th>perc_inbound_calls</th>\n",
       "    </tr>\n",
       "  </thead>\n",
       "  <tbody>\n",
       "    <tr>\n",
       "      <th>0</th>\n",
       "      <td>3000002</td>\n",
       "      <td>Yes</td>\n",
       "      <td>24.00</td>\n",
       "      <td>219.0</td>\n",
       "      <td>22.0</td>\n",
       "      <td>0.25</td>\n",
       "      <td>0.0</td>\n",
       "      <td>0.0</td>\n",
       "      <td>-157.0</td>\n",
       "      <td>-19.0</td>\n",
       "      <td>...</td>\n",
       "      <td>0.0</td>\n",
       "      <td>0.0</td>\n",
       "      <td>0.003196</td>\n",
       "      <td>0.003196</td>\n",
       "      <td>0.028767</td>\n",
       "      <td>0.000000</td>\n",
       "      <td>0.000000</td>\n",
       "      <td>0.443836</td>\n",
       "      <td>0.000000</td>\n",
       "      <td>0.000000</td>\n",
       "    </tr>\n",
       "    <tr>\n",
       "      <th>1</th>\n",
       "      <td>3000010</td>\n",
       "      <td>Yes</td>\n",
       "      <td>16.99</td>\n",
       "      <td>10.0</td>\n",
       "      <td>17.0</td>\n",
       "      <td>0.00</td>\n",
       "      <td>0.0</td>\n",
       "      <td>0.0</td>\n",
       "      <td>-4.0</td>\n",
       "      <td>0.0</td>\n",
       "      <td>...</td>\n",
       "      <td>0.0</td>\n",
       "      <td>0.0</td>\n",
       "      <td>0.030000</td>\n",
       "      <td>0.000000</td>\n",
       "      <td>0.270000</td>\n",
       "      <td>0.000000</td>\n",
       "      <td>0.000000</td>\n",
       "      <td>0.000000</td>\n",
       "      <td>0.000000</td>\n",
       "      <td>0.000000</td>\n",
       "    </tr>\n",
       "    <tr>\n",
       "      <th>2</th>\n",
       "      <td>3000014</td>\n",
       "      <td>No</td>\n",
       "      <td>38.00</td>\n",
       "      <td>8.0</td>\n",
       "      <td>38.0</td>\n",
       "      <td>0.00</td>\n",
       "      <td>0.0</td>\n",
       "      <td>0.0</td>\n",
       "      <td>-2.0</td>\n",
       "      <td>0.0</td>\n",
       "      <td>...</td>\n",
       "      <td>0.0</td>\n",
       "      <td>0.0</td>\n",
       "      <td>0.000000</td>\n",
       "      <td>0.000000</td>\n",
       "      <td>0.000000</td>\n",
       "      <td>0.000000</td>\n",
       "      <td>0.000000</td>\n",
       "      <td>0.050000</td>\n",
       "      <td>0.037500</td>\n",
       "      <td>0.000000</td>\n",
       "    </tr>\n",
       "    <tr>\n",
       "      <th>3</th>\n",
       "      <td>3000022</td>\n",
       "      <td>No</td>\n",
       "      <td>82.28</td>\n",
       "      <td>1312.0</td>\n",
       "      <td>75.0</td>\n",
       "      <td>1.24</td>\n",
       "      <td>0.0</td>\n",
       "      <td>0.0</td>\n",
       "      <td>157.0</td>\n",
       "      <td>8.1</td>\n",
       "      <td>...</td>\n",
       "      <td>0.0</td>\n",
       "      <td>0.0</td>\n",
       "      <td>0.039634</td>\n",
       "      <td>0.005869</td>\n",
       "      <td>0.057927</td>\n",
       "      <td>0.003277</td>\n",
       "      <td>0.000991</td>\n",
       "      <td>0.152668</td>\n",
       "      <td>0.282241</td>\n",
       "      <td>0.112043</td>\n",
       "    </tr>\n",
       "    <tr>\n",
       "      <th>5</th>\n",
       "      <td>3000030</td>\n",
       "      <td>No</td>\n",
       "      <td>38.05</td>\n",
       "      <td>682.0</td>\n",
       "      <td>52.0</td>\n",
       "      <td>0.25</td>\n",
       "      <td>0.0</td>\n",
       "      <td>0.0</td>\n",
       "      <td>148.0</td>\n",
       "      <td>-3.1</td>\n",
       "      <td>...</td>\n",
       "      <td>0.0</td>\n",
       "      <td>0.0</td>\n",
       "      <td>0.013196</td>\n",
       "      <td>0.002493</td>\n",
       "      <td>0.019062</td>\n",
       "      <td>0.001026</td>\n",
       "      <td>0.000000</td>\n",
       "      <td>0.061877</td>\n",
       "      <td>0.009824</td>\n",
       "      <td>0.000000</td>\n",
       "    </tr>\n",
       "  </tbody>\n",
       "</table>\n",
       "<p>5 rows × 70 columns</p>\n",
       "</div>"
      ],
      "text/plain": [
       "   CustomerID Churn  MonthlyRevenue  MonthlyMinutes  TotalRecurringCharge  \\\n",
       "0     3000002   Yes           24.00           219.0                  22.0   \n",
       "1     3000010   Yes           16.99            10.0                  17.0   \n",
       "2     3000014    No           38.00             8.0                  38.0   \n",
       "3     3000022    No           82.28          1312.0                  75.0   \n",
       "5     3000030    No           38.05           682.0                  52.0   \n",
       "\n",
       "   DirectorAssistedCalls  OverageMinutes  RoamingCalls  PercChangeMinutes  \\\n",
       "0                   0.25             0.0           0.0             -157.0   \n",
       "1                   0.00             0.0           0.0               -4.0   \n",
       "2                   0.00             0.0           0.0               -2.0   \n",
       "3                   1.24             0.0           0.0              157.0   \n",
       "5                   0.25             0.0           0.0              148.0   \n",
       "\n",
       "   PercChangeRevenues  ...  perc_overage_minute  perc_roaming_calls  \\\n",
       "0               -19.0  ...                  0.0                 0.0   \n",
       "1                 0.0  ...                  0.0                 0.0   \n",
       "2                 0.0  ...                  0.0                 0.0   \n",
       "3                 8.1  ...                  0.0                 0.0   \n",
       "5                -3.1  ...                  0.0                 0.0   \n",
       "\n",
       "   perc_droppped_calls  perc_blocked_calls  perc_unanswered_calls  \\\n",
       "0             0.003196            0.003196               0.028767   \n",
       "1             0.030000            0.000000               0.270000   \n",
       "2             0.000000            0.000000               0.000000   \n",
       "3             0.039634            0.005869               0.057927   \n",
       "5             0.013196            0.002493               0.019062   \n",
       "\n",
       "   perc_customercare_calls  perc_threeway_calls  perc_received_calls  \\\n",
       "0                 0.000000             0.000000             0.443836   \n",
       "1                 0.000000             0.000000             0.000000   \n",
       "2                 0.000000             0.000000             0.050000   \n",
       "3                 0.003277             0.000991             0.152668   \n",
       "5                 0.001026             0.000000             0.061877   \n",
       "\n",
       "   perc_outbound_calls  perc_inbound_calls  \n",
       "0             0.000000            0.000000  \n",
       "1             0.000000            0.000000  \n",
       "2             0.037500            0.000000  \n",
       "3             0.282241            0.112043  \n",
       "5             0.009824            0.000000  \n",
       "\n",
       "[5 rows x 70 columns]"
      ]
     },
     "execution_count": 26,
     "metadata": {},
     "output_type": "execute_result"
    }
   ],
   "source": [
    "cust_df.head()"
   ]
  },
  {
   "cell_type": "code",
   "execution_count": 27,
   "metadata": {},
   "outputs": [],
   "source": [
    "def check_categorical(cust_df):\n",
    "    colnames=cust_df.columns\n",
    "    categorical_cols=[]\n",
    "    continous_cols=[]\n",
    "    \n",
    "    for i in colnames:\n",
    "        \n",
    "        if cust_df[i].nunique() < 20:\n",
    "            if i!=\"Churn\":\n",
    "                categorical_cols.append(i)\n",
    "        else:\n",
    "            if i not in [\"CustomerID\",\"ServiceArea\"]:\n",
    "                continous_cols.append(i)\n",
    "    return(categorical_cols,continous_cols)\n",
    "                "
   ]
  },
  {
   "cell_type": "code",
   "execution_count": 28,
   "metadata": {},
   "outputs": [],
   "source": [
    "def check_categorical_imp(cust_df,categorical_cols):\n",
    "    new_categorical_cols=[]\n",
    "    for i in categorical_cols:\n",
    "        if stats.chi2_contingency(pd.crosstab(cust_df.Churn,cust_df[i]))[1]>0.05:\n",
    "            pass\n",
    "        else:\n",
    "            new_categorical_cols.append(i)\n",
    "    return new_categorical_cols"
   ]
  },
  {
   "cell_type": "code",
   "execution_count": 29,
   "metadata": {},
   "outputs": [],
   "source": [
    "categorical_cols,continous_cols=check_categorical(cust_df)"
   ]
  },
  {
   "cell_type": "code",
   "execution_count": 30,
   "metadata": {},
   "outputs": [
    {
     "data": {
      "text/plain": [
       "['UniqueSubs',\n",
       " 'ActiveSubs',\n",
       " 'HandsetModels',\n",
       " 'ChildrenInHH',\n",
       " 'HandsetRefurbished',\n",
       " 'HandsetWebCapable',\n",
       " 'TruckOwner',\n",
       " 'RVOwner',\n",
       " 'Homeownership',\n",
       " 'BuysViaMailOrder',\n",
       " 'RespondsToMailOffers',\n",
       " 'OptOutMailings',\n",
       " 'NonUSTravel',\n",
       " 'OwnsComputer',\n",
       " 'HasCreditCard',\n",
       " 'RetentionCalls',\n",
       " 'RetentionOffersAccepted',\n",
       " 'NewCellphoneUser',\n",
       " 'NotNewCellphoneUser',\n",
       " 'ReferralsMadeBySubscriber',\n",
       " 'IncomeGroup',\n",
       " 'OwnsMotorcycle',\n",
       " 'AdjustmentsToCreditRating',\n",
       " 'HandsetPrice',\n",
       " 'MadeCallToRetentionTeam',\n",
       " 'CreditRating',\n",
       " 'PrizmCode',\n",
       " 'Occupation',\n",
       " 'MaritalStatus',\n",
       " 'perc_active_subs']"
      ]
     },
     "execution_count": 30,
     "metadata": {},
     "output_type": "execute_result"
    }
   ],
   "source": [
    "categorical_cols"
   ]
  },
  {
   "cell_type": "code",
   "execution_count": 31,
   "metadata": {
    "scrolled": true
   },
   "outputs": [
    {
     "data": {
      "text/plain": [
       "['MonthlyRevenue',\n",
       " 'MonthlyMinutes',\n",
       " 'TotalRecurringCharge',\n",
       " 'DirectorAssistedCalls',\n",
       " 'OverageMinutes',\n",
       " 'RoamingCalls',\n",
       " 'PercChangeMinutes',\n",
       " 'PercChangeRevenues',\n",
       " 'DroppedCalls',\n",
       " 'BlockedCalls',\n",
       " 'UnansweredCalls',\n",
       " 'CustomerCareCalls',\n",
       " 'ThreewayCalls',\n",
       " 'ReceivedCalls',\n",
       " 'OutboundCalls',\n",
       " 'InboundCalls',\n",
       " 'PeakCallsInOut',\n",
       " 'OffPeakCallsInOut',\n",
       " 'DroppedBlockedCalls',\n",
       " 'CallForwardingCalls',\n",
       " 'CallWaitingCalls',\n",
       " 'MonthsInService',\n",
       " 'Handsets',\n",
       " 'CurrentEquipmentDays',\n",
       " 'AgeHH1',\n",
       " 'AgeHH2',\n",
       " 'perc_recurrent_charge',\n",
       " 'perc_overage_minute',\n",
       " 'perc_roaming_calls',\n",
       " 'perc_droppped_calls',\n",
       " 'perc_blocked_calls',\n",
       " 'perc_unanswered_calls',\n",
       " 'perc_customercare_calls',\n",
       " 'perc_threeway_calls',\n",
       " 'perc_received_calls',\n",
       " 'perc_outbound_calls',\n",
       " 'perc_inbound_calls']"
      ]
     },
     "execution_count": 31,
     "metadata": {},
     "output_type": "execute_result"
    }
   ],
   "source": [
    "continous_cols"
   ]
  },
  {
   "cell_type": "code",
   "execution_count": 32,
   "metadata": {},
   "outputs": [],
   "source": [
    "imp_categorical_cols=check_categorical_imp(cust_df,categorical_cols)"
   ]
  },
  {
   "cell_type": "code",
   "execution_count": 33,
   "metadata": {},
   "outputs": [
    {
     "data": {
      "text/plain": [
       "18"
      ]
     },
     "execution_count": 33,
     "metadata": {},
     "output_type": "execute_result"
    }
   ],
   "source": [
    "len(imp_categorical_cols)"
   ]
  },
  {
   "cell_type": "code",
   "execution_count": 34,
   "metadata": {},
   "outputs": [
    {
     "data": {
      "text/plain": [
       "30"
      ]
     },
     "execution_count": 34,
     "metadata": {},
     "output_type": "execute_result"
    }
   ],
   "source": [
    "len(categorical_cols)"
   ]
  },
  {
   "cell_type": "code",
   "execution_count": 35,
   "metadata": {},
   "outputs": [
    {
     "data": {
      "text/plain": [
       "(48374, 70)"
      ]
     },
     "execution_count": 35,
     "metadata": {},
     "output_type": "execute_result"
    }
   ],
   "source": [
    "cust_df.shape"
   ]
  },
  {
   "cell_type": "code",
   "execution_count": 36,
   "metadata": {},
   "outputs": [
    {
     "data": {
      "text/plain": [
       "No     34730\n",
       "Yes    13644\n",
       "Name: Churn, dtype: int64"
      ]
     },
     "execution_count": 36,
     "metadata": {},
     "output_type": "execute_result"
    }
   ],
   "source": [
    "cust_df.Churn.value_counts()"
   ]
  },
  {
   "cell_type": "code",
   "execution_count": 37,
   "metadata": {},
   "outputs": [],
   "source": [
    "cust_df['Churn']=cust_df['Churn'].replace([\"Yes\",\"No\"],[1,0])\n",
    "class_count_0,class_count_1=cust_df[\"Churn\"].value_counts()"
   ]
  },
  {
   "cell_type": "code",
   "execution_count": 38,
   "metadata": {},
   "outputs": [
    {
     "data": {
      "text/plain": [
       "(34730, 13644)"
      ]
     },
     "execution_count": 38,
     "metadata": {},
     "output_type": "execute_result"
    }
   ],
   "source": [
    "class_count_0,class_count_1"
   ]
  },
  {
   "cell_type": "code",
   "execution_count": 39,
   "metadata": {},
   "outputs": [
    {
     "data": {
      "text/html": [
       "<div>\n",
       "<style scoped>\n",
       "    .dataframe tbody tr th:only-of-type {\n",
       "        vertical-align: middle;\n",
       "    }\n",
       "\n",
       "    .dataframe tbody tr th {\n",
       "        vertical-align: top;\n",
       "    }\n",
       "\n",
       "    .dataframe thead th {\n",
       "        text-align: right;\n",
       "    }\n",
       "</style>\n",
       "<table border=\"1\" class=\"dataframe\">\n",
       "  <thead>\n",
       "    <tr style=\"text-align: right;\">\n",
       "      <th></th>\n",
       "      <th>CustomerID</th>\n",
       "      <th>Churn</th>\n",
       "      <th>MonthlyRevenue</th>\n",
       "      <th>MonthlyMinutes</th>\n",
       "      <th>TotalRecurringCharge</th>\n",
       "      <th>DirectorAssistedCalls</th>\n",
       "      <th>OverageMinutes</th>\n",
       "      <th>RoamingCalls</th>\n",
       "      <th>PercChangeMinutes</th>\n",
       "      <th>PercChangeRevenues</th>\n",
       "      <th>...</th>\n",
       "      <th>perc_overage_minute</th>\n",
       "      <th>perc_roaming_calls</th>\n",
       "      <th>perc_droppped_calls</th>\n",
       "      <th>perc_blocked_calls</th>\n",
       "      <th>perc_unanswered_calls</th>\n",
       "      <th>perc_customercare_calls</th>\n",
       "      <th>perc_threeway_calls</th>\n",
       "      <th>perc_received_calls</th>\n",
       "      <th>perc_outbound_calls</th>\n",
       "      <th>perc_inbound_calls</th>\n",
       "    </tr>\n",
       "  </thead>\n",
       "  <tbody>\n",
       "    <tr>\n",
       "      <th>0</th>\n",
       "      <td>3000002</td>\n",
       "      <td>1</td>\n",
       "      <td>24.00</td>\n",
       "      <td>219.0</td>\n",
       "      <td>22.0</td>\n",
       "      <td>0.25</td>\n",
       "      <td>0.0</td>\n",
       "      <td>0.0</td>\n",
       "      <td>-157.0</td>\n",
       "      <td>-19.0</td>\n",
       "      <td>...</td>\n",
       "      <td>0.0</td>\n",
       "      <td>0.0</td>\n",
       "      <td>0.003196</td>\n",
       "      <td>0.003196</td>\n",
       "      <td>0.028767</td>\n",
       "      <td>0.000000</td>\n",
       "      <td>0.000000</td>\n",
       "      <td>0.443836</td>\n",
       "      <td>0.000000</td>\n",
       "      <td>0.000000</td>\n",
       "    </tr>\n",
       "    <tr>\n",
       "      <th>1</th>\n",
       "      <td>3000010</td>\n",
       "      <td>1</td>\n",
       "      <td>16.99</td>\n",
       "      <td>10.0</td>\n",
       "      <td>17.0</td>\n",
       "      <td>0.00</td>\n",
       "      <td>0.0</td>\n",
       "      <td>0.0</td>\n",
       "      <td>-4.0</td>\n",
       "      <td>0.0</td>\n",
       "      <td>...</td>\n",
       "      <td>0.0</td>\n",
       "      <td>0.0</td>\n",
       "      <td>0.030000</td>\n",
       "      <td>0.000000</td>\n",
       "      <td>0.270000</td>\n",
       "      <td>0.000000</td>\n",
       "      <td>0.000000</td>\n",
       "      <td>0.000000</td>\n",
       "      <td>0.000000</td>\n",
       "      <td>0.000000</td>\n",
       "    </tr>\n",
       "    <tr>\n",
       "      <th>2</th>\n",
       "      <td>3000014</td>\n",
       "      <td>0</td>\n",
       "      <td>38.00</td>\n",
       "      <td>8.0</td>\n",
       "      <td>38.0</td>\n",
       "      <td>0.00</td>\n",
       "      <td>0.0</td>\n",
       "      <td>0.0</td>\n",
       "      <td>-2.0</td>\n",
       "      <td>0.0</td>\n",
       "      <td>...</td>\n",
       "      <td>0.0</td>\n",
       "      <td>0.0</td>\n",
       "      <td>0.000000</td>\n",
       "      <td>0.000000</td>\n",
       "      <td>0.000000</td>\n",
       "      <td>0.000000</td>\n",
       "      <td>0.000000</td>\n",
       "      <td>0.050000</td>\n",
       "      <td>0.037500</td>\n",
       "      <td>0.000000</td>\n",
       "    </tr>\n",
       "    <tr>\n",
       "      <th>3</th>\n",
       "      <td>3000022</td>\n",
       "      <td>0</td>\n",
       "      <td>82.28</td>\n",
       "      <td>1312.0</td>\n",
       "      <td>75.0</td>\n",
       "      <td>1.24</td>\n",
       "      <td>0.0</td>\n",
       "      <td>0.0</td>\n",
       "      <td>157.0</td>\n",
       "      <td>8.1</td>\n",
       "      <td>...</td>\n",
       "      <td>0.0</td>\n",
       "      <td>0.0</td>\n",
       "      <td>0.039634</td>\n",
       "      <td>0.005869</td>\n",
       "      <td>0.057927</td>\n",
       "      <td>0.003277</td>\n",
       "      <td>0.000991</td>\n",
       "      <td>0.152668</td>\n",
       "      <td>0.282241</td>\n",
       "      <td>0.112043</td>\n",
       "    </tr>\n",
       "    <tr>\n",
       "      <th>5</th>\n",
       "      <td>3000030</td>\n",
       "      <td>0</td>\n",
       "      <td>38.05</td>\n",
       "      <td>682.0</td>\n",
       "      <td>52.0</td>\n",
       "      <td>0.25</td>\n",
       "      <td>0.0</td>\n",
       "      <td>0.0</td>\n",
       "      <td>148.0</td>\n",
       "      <td>-3.1</td>\n",
       "      <td>...</td>\n",
       "      <td>0.0</td>\n",
       "      <td>0.0</td>\n",
       "      <td>0.013196</td>\n",
       "      <td>0.002493</td>\n",
       "      <td>0.019062</td>\n",
       "      <td>0.001026</td>\n",
       "      <td>0.000000</td>\n",
       "      <td>0.061877</td>\n",
       "      <td>0.009824</td>\n",
       "      <td>0.000000</td>\n",
       "    </tr>\n",
       "  </tbody>\n",
       "</table>\n",
       "<p>5 rows × 70 columns</p>\n",
       "</div>"
      ],
      "text/plain": [
       "   CustomerID  Churn  MonthlyRevenue  MonthlyMinutes  TotalRecurringCharge  \\\n",
       "0     3000002      1           24.00           219.0                  22.0   \n",
       "1     3000010      1           16.99            10.0                  17.0   \n",
       "2     3000014      0           38.00             8.0                  38.0   \n",
       "3     3000022      0           82.28          1312.0                  75.0   \n",
       "5     3000030      0           38.05           682.0                  52.0   \n",
       "\n",
       "   DirectorAssistedCalls  OverageMinutes  RoamingCalls  PercChangeMinutes  \\\n",
       "0                   0.25             0.0           0.0             -157.0   \n",
       "1                   0.00             0.0           0.0               -4.0   \n",
       "2                   0.00             0.0           0.0               -2.0   \n",
       "3                   1.24             0.0           0.0              157.0   \n",
       "5                   0.25             0.0           0.0              148.0   \n",
       "\n",
       "   PercChangeRevenues  ...  perc_overage_minute  perc_roaming_calls  \\\n",
       "0               -19.0  ...                  0.0                 0.0   \n",
       "1                 0.0  ...                  0.0                 0.0   \n",
       "2                 0.0  ...                  0.0                 0.0   \n",
       "3                 8.1  ...                  0.0                 0.0   \n",
       "5                -3.1  ...                  0.0                 0.0   \n",
       "\n",
       "   perc_droppped_calls  perc_blocked_calls  perc_unanswered_calls  \\\n",
       "0             0.003196            0.003196               0.028767   \n",
       "1             0.030000            0.000000               0.270000   \n",
       "2             0.000000            0.000000               0.000000   \n",
       "3             0.039634            0.005869               0.057927   \n",
       "5             0.013196            0.002493               0.019062   \n",
       "\n",
       "   perc_customercare_calls  perc_threeway_calls  perc_received_calls  \\\n",
       "0                 0.000000             0.000000             0.443836   \n",
       "1                 0.000000             0.000000             0.000000   \n",
       "2                 0.000000             0.000000             0.050000   \n",
       "3                 0.003277             0.000991             0.152668   \n",
       "5                 0.001026             0.000000             0.061877   \n",
       "\n",
       "   perc_outbound_calls  perc_inbound_calls  \n",
       "0             0.000000            0.000000  \n",
       "1             0.000000            0.000000  \n",
       "2             0.037500            0.000000  \n",
       "3             0.282241            0.112043  \n",
       "5             0.009824            0.000000  \n",
       "\n",
       "[5 rows x 70 columns]"
      ]
     },
     "execution_count": 39,
     "metadata": {},
     "output_type": "execute_result"
    }
   ],
   "source": [
    "cust_df.head()"
   ]
  },
  {
   "cell_type": "code",
   "execution_count": 40,
   "metadata": {},
   "outputs": [],
   "source": [
    "class_0=cust_df[cust_df[\"Churn\"]==0]\n",
    "class_1=cust_df[cust_df[\"Churn\"]==1]"
   ]
  },
  {
   "cell_type": "code",
   "execution_count": 41,
   "metadata": {},
   "outputs": [
    {
     "data": {
      "text/plain": [
       "((34730, 70), (13644, 70))"
      ]
     },
     "execution_count": 41,
     "metadata": {},
     "output_type": "execute_result"
    }
   ],
   "source": [
    "class_0.shape, class_1.shape"
   ]
  },
  {
   "cell_type": "code",
   "execution_count": 42,
   "metadata": {},
   "outputs": [],
   "source": [
    "class_1_over=class_1.sample(class_count_0,replace=True)"
   ]
  },
  {
   "cell_type": "code",
   "execution_count": 43,
   "metadata": {},
   "outputs": [
    {
     "data": {
      "text/plain": [
       "((34730, 70), (34730, 70))"
      ]
     },
     "execution_count": 43,
     "metadata": {},
     "output_type": "execute_result"
    }
   ],
   "source": [
    "class_0.shape, class_1_over.shape"
   ]
  },
  {
   "cell_type": "code",
   "execution_count": 44,
   "metadata": {},
   "outputs": [
    {
     "data": {
      "text/plain": [
       "(69460, 70)"
      ]
     },
     "execution_count": 44,
     "metadata": {},
     "output_type": "execute_result"
    }
   ],
   "source": [
    "test_over=pd.concat([class_1_over,class_0],axis=0)\n",
    "test_over.shape"
   ]
  },
  {
   "cell_type": "code",
   "execution_count": 45,
   "metadata": {},
   "outputs": [],
   "source": [
    "cust_df=test_over"
   ]
  },
  {
   "cell_type": "code",
   "execution_count": 46,
   "metadata": {},
   "outputs": [
    {
     "data": {
      "text/plain": [
       "1    50.0\n",
       "0    50.0\n",
       "Name: Churn, dtype: float64"
      ]
     },
     "execution_count": 46,
     "metadata": {},
     "output_type": "execute_result"
    }
   ],
   "source": [
    "y=cust_df.Churn\n",
    "y.value_counts()/len(y)*100"
   ]
  },
  {
   "cell_type": "markdown",
   "metadata": {
    "id": "VE-kdD_YlFIX"
   },
   "source": [
    "## Q4. Build classification model to predict customer churn month in advance"
   ]
  },
  {
   "cell_type": "markdown",
   "metadata": {
    "id": "-EqcNv6rlFIX"
   },
   "source": [
    "### Drop Unwanted columns"
   ]
  },
  {
   "cell_type": "code",
   "execution_count": 47,
   "metadata": {},
   "outputs": [
    {
     "data": {
      "text/html": [
       "<div>\n",
       "<style scoped>\n",
       "    .dataframe tbody tr th:only-of-type {\n",
       "        vertical-align: middle;\n",
       "    }\n",
       "\n",
       "    .dataframe tbody tr th {\n",
       "        vertical-align: top;\n",
       "    }\n",
       "\n",
       "    .dataframe thead th {\n",
       "        text-align: right;\n",
       "    }\n",
       "</style>\n",
       "<table border=\"1\" class=\"dataframe\">\n",
       "  <thead>\n",
       "    <tr style=\"text-align: right;\">\n",
       "      <th></th>\n",
       "      <th>CustomerID</th>\n",
       "      <th>Churn</th>\n",
       "      <th>MonthlyRevenue</th>\n",
       "      <th>MonthlyMinutes</th>\n",
       "      <th>TotalRecurringCharge</th>\n",
       "      <th>DirectorAssistedCalls</th>\n",
       "      <th>OverageMinutes</th>\n",
       "      <th>RoamingCalls</th>\n",
       "      <th>PercChangeMinutes</th>\n",
       "      <th>PercChangeRevenues</th>\n",
       "      <th>...</th>\n",
       "      <th>perc_overage_minute</th>\n",
       "      <th>perc_roaming_calls</th>\n",
       "      <th>perc_droppped_calls</th>\n",
       "      <th>perc_blocked_calls</th>\n",
       "      <th>perc_unanswered_calls</th>\n",
       "      <th>perc_customercare_calls</th>\n",
       "      <th>perc_threeway_calls</th>\n",
       "      <th>perc_received_calls</th>\n",
       "      <th>perc_outbound_calls</th>\n",
       "      <th>perc_inbound_calls</th>\n",
       "    </tr>\n",
       "  </thead>\n",
       "  <tbody>\n",
       "    <tr>\n",
       "      <th>7015</th>\n",
       "      <td>3054982</td>\n",
       "      <td>1</td>\n",
       "      <td>20.24</td>\n",
       "      <td>3.0</td>\n",
       "      <td>17.0</td>\n",
       "      <td>0.00</td>\n",
       "      <td>0.0</td>\n",
       "      <td>0.0</td>\n",
       "      <td>-3.0</td>\n",
       "      <td>0.0</td>\n",
       "      <td>...</td>\n",
       "      <td>0.000000</td>\n",
       "      <td>0.000000</td>\n",
       "      <td>0.000000</td>\n",
       "      <td>0.000000</td>\n",
       "      <td>0.100000</td>\n",
       "      <td>0.0</td>\n",
       "      <td>0.000000</td>\n",
       "      <td>0.000000</td>\n",
       "      <td>0.000000</td>\n",
       "      <td>0.000000</td>\n",
       "    </tr>\n",
       "    <tr>\n",
       "      <th>22471</th>\n",
       "      <td>3176550</td>\n",
       "      <td>1</td>\n",
       "      <td>50.34</td>\n",
       "      <td>212.0</td>\n",
       "      <td>50.0</td>\n",
       "      <td>0.25</td>\n",
       "      <td>0.0</td>\n",
       "      <td>0.1</td>\n",
       "      <td>108.0</td>\n",
       "      <td>0.0</td>\n",
       "      <td>...</td>\n",
       "      <td>0.000000</td>\n",
       "      <td>0.000472</td>\n",
       "      <td>0.001415</td>\n",
       "      <td>0.004717</td>\n",
       "      <td>0.043868</td>\n",
       "      <td>0.0</td>\n",
       "      <td>0.000000</td>\n",
       "      <td>0.085849</td>\n",
       "      <td>0.028302</td>\n",
       "      <td>0.001415</td>\n",
       "    </tr>\n",
       "    <tr>\n",
       "      <th>15083</th>\n",
       "      <td>3118502</td>\n",
       "      <td>1</td>\n",
       "      <td>30.00</td>\n",
       "      <td>20.0</td>\n",
       "      <td>30.0</td>\n",
       "      <td>0.00</td>\n",
       "      <td>0.0</td>\n",
       "      <td>0.0</td>\n",
       "      <td>9.0</td>\n",
       "      <td>0.0</td>\n",
       "      <td>...</td>\n",
       "      <td>0.000000</td>\n",
       "      <td>0.000000</td>\n",
       "      <td>0.000000</td>\n",
       "      <td>0.035000</td>\n",
       "      <td>0.050000</td>\n",
       "      <td>0.0</td>\n",
       "      <td>0.000000</td>\n",
       "      <td>0.040000</td>\n",
       "      <td>0.035000</td>\n",
       "      <td>0.000000</td>\n",
       "    </tr>\n",
       "    <tr>\n",
       "      <th>40025</th>\n",
       "      <td>3319026</td>\n",
       "      <td>1</td>\n",
       "      <td>70.80</td>\n",
       "      <td>636.0</td>\n",
       "      <td>45.0</td>\n",
       "      <td>0.00</td>\n",
       "      <td>90.0</td>\n",
       "      <td>0.4</td>\n",
       "      <td>-68.0</td>\n",
       "      <td>-10.1</td>\n",
       "      <td>...</td>\n",
       "      <td>0.141509</td>\n",
       "      <td>0.000629</td>\n",
       "      <td>0.093239</td>\n",
       "      <td>0.000000</td>\n",
       "      <td>0.000000</td>\n",
       "      <td>0.0</td>\n",
       "      <td>0.000472</td>\n",
       "      <td>0.248742</td>\n",
       "      <td>0.112107</td>\n",
       "      <td>0.005818</td>\n",
       "    </tr>\n",
       "    <tr>\n",
       "      <th>34981</th>\n",
       "      <td>3279130</td>\n",
       "      <td>1</td>\n",
       "      <td>49.99</td>\n",
       "      <td>182.0</td>\n",
       "      <td>50.0</td>\n",
       "      <td>0.00</td>\n",
       "      <td>0.0</td>\n",
       "      <td>0.0</td>\n",
       "      <td>61.0</td>\n",
       "      <td>0.0</td>\n",
       "      <td>...</td>\n",
       "      <td>0.000000</td>\n",
       "      <td>0.000000</td>\n",
       "      <td>0.000000</td>\n",
       "      <td>0.000000</td>\n",
       "      <td>0.000000</td>\n",
       "      <td>0.0</td>\n",
       "      <td>0.000000</td>\n",
       "      <td>0.000000</td>\n",
       "      <td>0.000000</td>\n",
       "      <td>0.000000</td>\n",
       "    </tr>\n",
       "  </tbody>\n",
       "</table>\n",
       "<p>5 rows × 70 columns</p>\n",
       "</div>"
      ],
      "text/plain": [
       "       CustomerID  Churn  MonthlyRevenue  MonthlyMinutes  \\\n",
       "7015      3054982      1           20.24             3.0   \n",
       "22471     3176550      1           50.34           212.0   \n",
       "15083     3118502      1           30.00            20.0   \n",
       "40025     3319026      1           70.80           636.0   \n",
       "34981     3279130      1           49.99           182.0   \n",
       "\n",
       "       TotalRecurringCharge  DirectorAssistedCalls  OverageMinutes  \\\n",
       "7015                   17.0                   0.00             0.0   \n",
       "22471                  50.0                   0.25             0.0   \n",
       "15083                  30.0                   0.00             0.0   \n",
       "40025                  45.0                   0.00            90.0   \n",
       "34981                  50.0                   0.00             0.0   \n",
       "\n",
       "       RoamingCalls  PercChangeMinutes  PercChangeRevenues  ...  \\\n",
       "7015            0.0               -3.0                 0.0  ...   \n",
       "22471           0.1              108.0                 0.0  ...   \n",
       "15083           0.0                9.0                 0.0  ...   \n",
       "40025           0.4              -68.0               -10.1  ...   \n",
       "34981           0.0               61.0                 0.0  ...   \n",
       "\n",
       "       perc_overage_minute  perc_roaming_calls  perc_droppped_calls  \\\n",
       "7015              0.000000            0.000000             0.000000   \n",
       "22471             0.000000            0.000472             0.001415   \n",
       "15083             0.000000            0.000000             0.000000   \n",
       "40025             0.141509            0.000629             0.093239   \n",
       "34981             0.000000            0.000000             0.000000   \n",
       "\n",
       "       perc_blocked_calls  perc_unanswered_calls  perc_customercare_calls  \\\n",
       "7015             0.000000               0.100000                      0.0   \n",
       "22471            0.004717               0.043868                      0.0   \n",
       "15083            0.035000               0.050000                      0.0   \n",
       "40025            0.000000               0.000000                      0.0   \n",
       "34981            0.000000               0.000000                      0.0   \n",
       "\n",
       "       perc_threeway_calls  perc_received_calls  perc_outbound_calls  \\\n",
       "7015              0.000000             0.000000             0.000000   \n",
       "22471             0.000000             0.085849             0.028302   \n",
       "15083             0.000000             0.040000             0.035000   \n",
       "40025             0.000472             0.248742             0.112107   \n",
       "34981             0.000000             0.000000             0.000000   \n",
       "\n",
       "       perc_inbound_calls  \n",
       "7015             0.000000  \n",
       "22471            0.001415  \n",
       "15083            0.000000  \n",
       "40025            0.005818  \n",
       "34981            0.000000  \n",
       "\n",
       "[5 rows x 70 columns]"
      ]
     },
     "execution_count": 47,
     "metadata": {},
     "output_type": "execute_result"
    }
   ],
   "source": [
    "cust_df.head()"
   ]
  },
  {
   "cell_type": "code",
   "execution_count": 48,
   "metadata": {},
   "outputs": [
    {
     "data": {
      "text/plain": [
       "(69460, 70)"
      ]
     },
     "execution_count": 48,
     "metadata": {},
     "output_type": "execute_result"
    }
   ],
   "source": [
    "cust_df.shape"
   ]
  },
  {
   "cell_type": "code",
   "execution_count": 49,
   "metadata": {},
   "outputs": [],
   "source": [
    "cols_tobe_droppped=[]\n",
    "for col in categorical_cols: \n",
    "    if col not in imp_categorical_cols:\n",
    "        cols_tobe_droppped.append(col)"
   ]
  },
  {
   "cell_type": "code",
   "execution_count": 50,
   "metadata": {},
   "outputs": [
    {
     "data": {
      "text/plain": [
       "12"
      ]
     },
     "execution_count": 50,
     "metadata": {},
     "output_type": "execute_result"
    }
   ],
   "source": [
    "len(cols_tobe_droppped)"
   ]
  },
  {
   "cell_type": "code",
   "execution_count": 51,
   "metadata": {},
   "outputs": [
    {
     "data": {
      "text/plain": [
       "['ChildrenInHH',\n",
       " 'TruckOwner',\n",
       " 'RVOwner',\n",
       " 'OptOutMailings',\n",
       " 'NonUSTravel',\n",
       " 'OwnsComputer',\n",
       " 'NewCellphoneUser',\n",
       " 'NotNewCellphoneUser',\n",
       " 'ReferralsMadeBySubscriber',\n",
       " 'OwnsMotorcycle',\n",
       " 'AdjustmentsToCreditRating',\n",
       " 'Occupation']"
      ]
     },
     "execution_count": 51,
     "metadata": {},
     "output_type": "execute_result"
    }
   ],
   "source": [
    "cols_tobe_droppped"
   ]
  },
  {
   "cell_type": "code",
   "execution_count": 52,
   "metadata": {},
   "outputs": [
    {
     "data": {
      "text/plain": [
       "30"
      ]
     },
     "execution_count": 52,
     "metadata": {},
     "output_type": "execute_result"
    }
   ],
   "source": [
    "len(categorical_cols)"
   ]
  },
  {
   "cell_type": "code",
   "execution_count": 53,
   "metadata": {},
   "outputs": [
    {
     "data": {
      "text/plain": [
       "18"
      ]
     },
     "execution_count": 53,
     "metadata": {},
     "output_type": "execute_result"
    }
   ],
   "source": [
    "len(imp_categorical_cols)"
   ]
  },
  {
   "cell_type": "code",
   "execution_count": 54,
   "metadata": {},
   "outputs": [],
   "source": [
    "#drop unwanted columns\n",
    "cust_df=cust_df.drop([\"CustomerID\",\"Churn\"],axis=1) #drop customerid. churn column"
   ]
  },
  {
   "cell_type": "code",
   "execution_count": 55,
   "metadata": {},
   "outputs": [
    {
     "data": {
      "text/plain": [
       "(69460, 68)"
      ]
     },
     "execution_count": 55,
     "metadata": {},
     "output_type": "execute_result"
    }
   ],
   "source": [
    "cust_df.shape"
   ]
  },
  {
   "cell_type": "code",
   "execution_count": 56,
   "metadata": {},
   "outputs": [],
   "source": [
    "cust_df=cust_df.drop(cols_tobe_droppped,axis=1) #drop  un-iumportant columns"
   ]
  },
  {
   "cell_type": "code",
   "execution_count": 57,
   "metadata": {},
   "outputs": [
    {
     "data": {
      "text/plain": [
       "(69460, 56)"
      ]
     },
     "execution_count": 57,
     "metadata": {},
     "output_type": "execute_result"
    }
   ],
   "source": [
    "cust_df.shape"
   ]
  },
  {
   "cell_type": "code",
   "execution_count": 58,
   "metadata": {},
   "outputs": [],
   "source": [
    "#drop unwanted columns\n",
    "cust_df=cust_df.drop([\"ServiceArea\"],axis=1) \n"
   ]
  },
  {
   "cell_type": "code",
   "execution_count": 59,
   "metadata": {},
   "outputs": [
    {
     "data": {
      "text/plain": [
       "(69460, 55)"
      ]
     },
     "execution_count": 59,
     "metadata": {},
     "output_type": "execute_result"
    }
   ],
   "source": [
    "cust_df.shape"
   ]
  },
  {
   "cell_type": "code",
   "execution_count": 60,
   "metadata": {},
   "outputs": [
    {
     "data": {
      "text/html": [
       "<div>\n",
       "<style scoped>\n",
       "    .dataframe tbody tr th:only-of-type {\n",
       "        vertical-align: middle;\n",
       "    }\n",
       "\n",
       "    .dataframe tbody tr th {\n",
       "        vertical-align: top;\n",
       "    }\n",
       "\n",
       "    .dataframe thead th {\n",
       "        text-align: right;\n",
       "    }\n",
       "</style>\n",
       "<table border=\"1\" class=\"dataframe\">\n",
       "  <thead>\n",
       "    <tr style=\"text-align: right;\">\n",
       "      <th></th>\n",
       "      <th>MonthlyRevenue</th>\n",
       "      <th>MonthlyMinutes</th>\n",
       "      <th>TotalRecurringCharge</th>\n",
       "      <th>DirectorAssistedCalls</th>\n",
       "      <th>OverageMinutes</th>\n",
       "      <th>RoamingCalls</th>\n",
       "      <th>PercChangeMinutes</th>\n",
       "      <th>PercChangeRevenues</th>\n",
       "      <th>DroppedCalls</th>\n",
       "      <th>BlockedCalls</th>\n",
       "      <th>...</th>\n",
       "      <th>perc_overage_minute</th>\n",
       "      <th>perc_roaming_calls</th>\n",
       "      <th>perc_droppped_calls</th>\n",
       "      <th>perc_blocked_calls</th>\n",
       "      <th>perc_unanswered_calls</th>\n",
       "      <th>perc_customercare_calls</th>\n",
       "      <th>perc_threeway_calls</th>\n",
       "      <th>perc_received_calls</th>\n",
       "      <th>perc_outbound_calls</th>\n",
       "      <th>perc_inbound_calls</th>\n",
       "    </tr>\n",
       "  </thead>\n",
       "  <tbody>\n",
       "    <tr>\n",
       "      <th>7015</th>\n",
       "      <td>20.24</td>\n",
       "      <td>3.0</td>\n",
       "      <td>17.0</td>\n",
       "      <td>0.00</td>\n",
       "      <td>0.0</td>\n",
       "      <td>0.0</td>\n",
       "      <td>-3.0</td>\n",
       "      <td>0.0</td>\n",
       "      <td>0.0</td>\n",
       "      <td>0.0</td>\n",
       "      <td>...</td>\n",
       "      <td>0.000000</td>\n",
       "      <td>0.000000</td>\n",
       "      <td>0.000000</td>\n",
       "      <td>0.000000</td>\n",
       "      <td>0.100000</td>\n",
       "      <td>0.0</td>\n",
       "      <td>0.000000</td>\n",
       "      <td>0.000000</td>\n",
       "      <td>0.000000</td>\n",
       "      <td>0.000000</td>\n",
       "    </tr>\n",
       "    <tr>\n",
       "      <th>22471</th>\n",
       "      <td>50.34</td>\n",
       "      <td>212.0</td>\n",
       "      <td>50.0</td>\n",
       "      <td>0.25</td>\n",
       "      <td>0.0</td>\n",
       "      <td>0.1</td>\n",
       "      <td>108.0</td>\n",
       "      <td>0.0</td>\n",
       "      <td>0.3</td>\n",
       "      <td>1.0</td>\n",
       "      <td>...</td>\n",
       "      <td>0.000000</td>\n",
       "      <td>0.000472</td>\n",
       "      <td>0.001415</td>\n",
       "      <td>0.004717</td>\n",
       "      <td>0.043868</td>\n",
       "      <td>0.0</td>\n",
       "      <td>0.000000</td>\n",
       "      <td>0.085849</td>\n",
       "      <td>0.028302</td>\n",
       "      <td>0.001415</td>\n",
       "    </tr>\n",
       "    <tr>\n",
       "      <th>15083</th>\n",
       "      <td>30.00</td>\n",
       "      <td>20.0</td>\n",
       "      <td>30.0</td>\n",
       "      <td>0.00</td>\n",
       "      <td>0.0</td>\n",
       "      <td>0.0</td>\n",
       "      <td>9.0</td>\n",
       "      <td>0.0</td>\n",
       "      <td>0.0</td>\n",
       "      <td>0.7</td>\n",
       "      <td>...</td>\n",
       "      <td>0.000000</td>\n",
       "      <td>0.000000</td>\n",
       "      <td>0.000000</td>\n",
       "      <td>0.035000</td>\n",
       "      <td>0.050000</td>\n",
       "      <td>0.0</td>\n",
       "      <td>0.000000</td>\n",
       "      <td>0.040000</td>\n",
       "      <td>0.035000</td>\n",
       "      <td>0.000000</td>\n",
       "    </tr>\n",
       "    <tr>\n",
       "      <th>40025</th>\n",
       "      <td>70.80</td>\n",
       "      <td>636.0</td>\n",
       "      <td>45.0</td>\n",
       "      <td>0.00</td>\n",
       "      <td>90.0</td>\n",
       "      <td>0.4</td>\n",
       "      <td>-68.0</td>\n",
       "      <td>-10.1</td>\n",
       "      <td>59.3</td>\n",
       "      <td>0.0</td>\n",
       "      <td>...</td>\n",
       "      <td>0.141509</td>\n",
       "      <td>0.000629</td>\n",
       "      <td>0.093239</td>\n",
       "      <td>0.000000</td>\n",
       "      <td>0.000000</td>\n",
       "      <td>0.0</td>\n",
       "      <td>0.000472</td>\n",
       "      <td>0.248742</td>\n",
       "      <td>0.112107</td>\n",
       "      <td>0.005818</td>\n",
       "    </tr>\n",
       "    <tr>\n",
       "      <th>34981</th>\n",
       "      <td>49.99</td>\n",
       "      <td>182.0</td>\n",
       "      <td>50.0</td>\n",
       "      <td>0.00</td>\n",
       "      <td>0.0</td>\n",
       "      <td>0.0</td>\n",
       "      <td>61.0</td>\n",
       "      <td>0.0</td>\n",
       "      <td>0.0</td>\n",
       "      <td>0.0</td>\n",
       "      <td>...</td>\n",
       "      <td>0.000000</td>\n",
       "      <td>0.000000</td>\n",
       "      <td>0.000000</td>\n",
       "      <td>0.000000</td>\n",
       "      <td>0.000000</td>\n",
       "      <td>0.0</td>\n",
       "      <td>0.000000</td>\n",
       "      <td>0.000000</td>\n",
       "      <td>0.000000</td>\n",
       "      <td>0.000000</td>\n",
       "    </tr>\n",
       "  </tbody>\n",
       "</table>\n",
       "<p>5 rows × 55 columns</p>\n",
       "</div>"
      ],
      "text/plain": [
       "       MonthlyRevenue  MonthlyMinutes  TotalRecurringCharge  \\\n",
       "7015            20.24             3.0                  17.0   \n",
       "22471           50.34           212.0                  50.0   \n",
       "15083           30.00            20.0                  30.0   \n",
       "40025           70.80           636.0                  45.0   \n",
       "34981           49.99           182.0                  50.0   \n",
       "\n",
       "       DirectorAssistedCalls  OverageMinutes  RoamingCalls  PercChangeMinutes  \\\n",
       "7015                    0.00             0.0           0.0               -3.0   \n",
       "22471                   0.25             0.0           0.1              108.0   \n",
       "15083                   0.00             0.0           0.0                9.0   \n",
       "40025                   0.00            90.0           0.4              -68.0   \n",
       "34981                   0.00             0.0           0.0               61.0   \n",
       "\n",
       "       PercChangeRevenues  DroppedCalls  BlockedCalls  ...  \\\n",
       "7015                  0.0           0.0           0.0  ...   \n",
       "22471                 0.0           0.3           1.0  ...   \n",
       "15083                 0.0           0.0           0.7  ...   \n",
       "40025               -10.1          59.3           0.0  ...   \n",
       "34981                 0.0           0.0           0.0  ...   \n",
       "\n",
       "       perc_overage_minute  perc_roaming_calls  perc_droppped_calls  \\\n",
       "7015              0.000000            0.000000             0.000000   \n",
       "22471             0.000000            0.000472             0.001415   \n",
       "15083             0.000000            0.000000             0.000000   \n",
       "40025             0.141509            0.000629             0.093239   \n",
       "34981             0.000000            0.000000             0.000000   \n",
       "\n",
       "       perc_blocked_calls  perc_unanswered_calls  perc_customercare_calls  \\\n",
       "7015             0.000000               0.100000                      0.0   \n",
       "22471            0.004717               0.043868                      0.0   \n",
       "15083            0.035000               0.050000                      0.0   \n",
       "40025            0.000000               0.000000                      0.0   \n",
       "34981            0.000000               0.000000                      0.0   \n",
       "\n",
       "       perc_threeway_calls  perc_received_calls  perc_outbound_calls  \\\n",
       "7015              0.000000             0.000000             0.000000   \n",
       "22471             0.000000             0.085849             0.028302   \n",
       "15083             0.000000             0.040000             0.035000   \n",
       "40025             0.000472             0.248742             0.112107   \n",
       "34981             0.000000             0.000000             0.000000   \n",
       "\n",
       "       perc_inbound_calls  \n",
       "7015             0.000000  \n",
       "22471            0.001415  \n",
       "15083            0.000000  \n",
       "40025            0.005818  \n",
       "34981            0.000000  \n",
       "\n",
       "[5 rows x 55 columns]"
      ]
     },
     "execution_count": 60,
     "metadata": {},
     "output_type": "execute_result"
    }
   ],
   "source": [
    "cust_df.head()"
   ]
  },
  {
   "cell_type": "markdown",
   "metadata": {},
   "source": [
    "###  Scale Continous Variables"
   ]
  },
  {
   "cell_type": "code",
   "execution_count": 61,
   "metadata": {
    "id": "pZlh5pYilFIX"
   },
   "outputs": [],
   "source": [
    "#Train - test split to train and test model accuracy\n",
    "from sklearn.model_selection import train_test_split\n",
    "#Feature scaling for all continuous variable\n",
    "from sklearn.preprocessing import StandardScaler\n",
    "sc = StandardScaler()\n",
    "\n"
   ]
  },
  {
   "cell_type": "code",
   "execution_count": 62,
   "metadata": {},
   "outputs": [],
   "source": [
    "#categorical_cols,continous_cols\n",
    "\n",
    "## Scaling continous values in dataframe\n",
    "cust_df[continous_cols]=sc.fit_transform(cust_df[continous_cols])"
   ]
  },
  {
   "cell_type": "code",
   "execution_count": 63,
   "metadata": {},
   "outputs": [
    {
     "data": {
      "text/html": [
       "<div>\n",
       "<style scoped>\n",
       "    .dataframe tbody tr th:only-of-type {\n",
       "        vertical-align: middle;\n",
       "    }\n",
       "\n",
       "    .dataframe tbody tr th {\n",
       "        vertical-align: top;\n",
       "    }\n",
       "\n",
       "    .dataframe thead th {\n",
       "        text-align: right;\n",
       "    }\n",
       "</style>\n",
       "<table border=\"1\" class=\"dataframe\">\n",
       "  <thead>\n",
       "    <tr style=\"text-align: right;\">\n",
       "      <th></th>\n",
       "      <th>MonthlyRevenue</th>\n",
       "      <th>MonthlyMinutes</th>\n",
       "      <th>TotalRecurringCharge</th>\n",
       "      <th>DirectorAssistedCalls</th>\n",
       "      <th>OverageMinutes</th>\n",
       "      <th>RoamingCalls</th>\n",
       "      <th>PercChangeMinutes</th>\n",
       "      <th>PercChangeRevenues</th>\n",
       "      <th>DroppedCalls</th>\n",
       "      <th>BlockedCalls</th>\n",
       "      <th>...</th>\n",
       "      <th>perc_overage_minute</th>\n",
       "      <th>perc_roaming_calls</th>\n",
       "      <th>perc_droppped_calls</th>\n",
       "      <th>perc_blocked_calls</th>\n",
       "      <th>perc_unanswered_calls</th>\n",
       "      <th>perc_customercare_calls</th>\n",
       "      <th>perc_threeway_calls</th>\n",
       "      <th>perc_received_calls</th>\n",
       "      <th>perc_outbound_calls</th>\n",
       "      <th>perc_inbound_calls</th>\n",
       "    </tr>\n",
       "  </thead>\n",
       "  <tbody>\n",
       "    <tr>\n",
       "      <th>7015</th>\n",
       "      <td>-0.907402</td>\n",
       "      <td>-1.012856</td>\n",
       "      <td>-1.289199</td>\n",
       "      <td>-0.543379</td>\n",
       "      <td>-0.437554</td>\n",
       "      <td>-0.131786</td>\n",
       "      <td>0.054802</td>\n",
       "      <td>0.027338</td>\n",
       "      <td>-0.684210</td>\n",
       "      <td>-0.387722</td>\n",
       "      <td>...</td>\n",
       "      <td>-0.571061</td>\n",
       "      <td>-0.196326</td>\n",
       "      <td>-0.680093</td>\n",
       "      <td>-0.343210</td>\n",
       "      <td>0.301500</td>\n",
       "      <td>-0.157989</td>\n",
       "      <td>-0.160967</td>\n",
       "      <td>-1.264041</td>\n",
       "      <td>-0.976330</td>\n",
       "      <td>-0.662061</td>\n",
       "    </tr>\n",
       "    <tr>\n",
       "      <th>22471</th>\n",
       "      <td>-0.185080</td>\n",
       "      <td>-0.595729</td>\n",
       "      <td>0.167875</td>\n",
       "      <td>-0.360756</td>\n",
       "      <td>-0.437554</td>\n",
       "      <td>-0.121459</td>\n",
       "      <td>0.490395</td>\n",
       "      <td>0.027338</td>\n",
       "      <td>-0.649520</td>\n",
       "      <td>-0.290052</td>\n",
       "      <td>...</td>\n",
       "      <td>-0.571061</td>\n",
       "      <td>-0.172973</td>\n",
       "      <td>-0.610504</td>\n",
       "      <td>-0.181994</td>\n",
       "      <td>-0.197525</td>\n",
       "      <td>-0.157989</td>\n",
       "      <td>-0.160967</td>\n",
       "      <td>-0.649449</td>\n",
       "      <td>-0.431574</td>\n",
       "      <td>-0.594549</td>\n",
       "    </tr>\n",
       "    <tr>\n",
       "      <th>15083</th>\n",
       "      <td>-0.673187</td>\n",
       "      <td>-0.978927</td>\n",
       "      <td>-0.715200</td>\n",
       "      <td>-0.543379</td>\n",
       "      <td>-0.437554</td>\n",
       "      <td>-0.131786</td>\n",
       "      <td>0.101893</td>\n",
       "      <td>0.027338</td>\n",
       "      <td>-0.684210</td>\n",
       "      <td>-0.319353</td>\n",
       "      <td>...</td>\n",
       "      <td>-0.571061</td>\n",
       "      <td>-0.196326</td>\n",
       "      <td>-0.680093</td>\n",
       "      <td>0.853009</td>\n",
       "      <td>-0.143010</td>\n",
       "      <td>-0.157989</td>\n",
       "      <td>-0.160967</td>\n",
       "      <td>-0.977682</td>\n",
       "      <td>-0.302649</td>\n",
       "      <td>-0.662061</td>\n",
       "    </tr>\n",
       "    <tr>\n",
       "      <th>40025</th>\n",
       "      <td>0.305907</td>\n",
       "      <td>0.250501</td>\n",
       "      <td>-0.052894</td>\n",
       "      <td>-0.543379</td>\n",
       "      <td>0.560719</td>\n",
       "      <td>-0.090479</td>\n",
       "      <td>-0.200276</td>\n",
       "      <td>-0.234863</td>\n",
       "      <td>6.172836</td>\n",
       "      <td>-0.387722</td>\n",
       "      <td>...</td>\n",
       "      <td>0.686724</td>\n",
       "      <td>-0.165189</td>\n",
       "      <td>3.905072</td>\n",
       "      <td>-0.343210</td>\n",
       "      <td>-0.587519</td>\n",
       "      <td>-0.157989</td>\n",
       "      <td>-0.053848</td>\n",
       "      <td>0.516700</td>\n",
       "      <td>1.181507</td>\n",
       "      <td>-0.384511</td>\n",
       "    </tr>\n",
       "    <tr>\n",
       "      <th>34981</th>\n",
       "      <td>-0.193479</td>\n",
       "      <td>-0.655603</td>\n",
       "      <td>0.167875</td>\n",
       "      <td>-0.543379</td>\n",
       "      <td>-0.437554</td>\n",
       "      <td>-0.131786</td>\n",
       "      <td>0.305955</td>\n",
       "      <td>0.027338</td>\n",
       "      <td>-0.684210</td>\n",
       "      <td>-0.387722</td>\n",
       "      <td>...</td>\n",
       "      <td>-0.571061</td>\n",
       "      <td>-0.196326</td>\n",
       "      <td>-0.680093</td>\n",
       "      <td>-0.343210</td>\n",
       "      <td>-0.587519</td>\n",
       "      <td>-0.157989</td>\n",
       "      <td>-0.160967</td>\n",
       "      <td>-1.264041</td>\n",
       "      <td>-0.976330</td>\n",
       "      <td>-0.662061</td>\n",
       "    </tr>\n",
       "  </tbody>\n",
       "</table>\n",
       "<p>5 rows × 55 columns</p>\n",
       "</div>"
      ],
      "text/plain": [
       "       MonthlyRevenue  MonthlyMinutes  TotalRecurringCharge  \\\n",
       "7015        -0.907402       -1.012856             -1.289199   \n",
       "22471       -0.185080       -0.595729              0.167875   \n",
       "15083       -0.673187       -0.978927             -0.715200   \n",
       "40025        0.305907        0.250501             -0.052894   \n",
       "34981       -0.193479       -0.655603              0.167875   \n",
       "\n",
       "       DirectorAssistedCalls  OverageMinutes  RoamingCalls  PercChangeMinutes  \\\n",
       "7015               -0.543379       -0.437554     -0.131786           0.054802   \n",
       "22471              -0.360756       -0.437554     -0.121459           0.490395   \n",
       "15083              -0.543379       -0.437554     -0.131786           0.101893   \n",
       "40025              -0.543379        0.560719     -0.090479          -0.200276   \n",
       "34981              -0.543379       -0.437554     -0.131786           0.305955   \n",
       "\n",
       "       PercChangeRevenues  DroppedCalls  BlockedCalls  ...  \\\n",
       "7015             0.027338     -0.684210     -0.387722  ...   \n",
       "22471            0.027338     -0.649520     -0.290052  ...   \n",
       "15083            0.027338     -0.684210     -0.319353  ...   \n",
       "40025           -0.234863      6.172836     -0.387722  ...   \n",
       "34981            0.027338     -0.684210     -0.387722  ...   \n",
       "\n",
       "       perc_overage_minute  perc_roaming_calls  perc_droppped_calls  \\\n",
       "7015             -0.571061           -0.196326            -0.680093   \n",
       "22471            -0.571061           -0.172973            -0.610504   \n",
       "15083            -0.571061           -0.196326            -0.680093   \n",
       "40025             0.686724           -0.165189             3.905072   \n",
       "34981            -0.571061           -0.196326            -0.680093   \n",
       "\n",
       "       perc_blocked_calls  perc_unanswered_calls  perc_customercare_calls  \\\n",
       "7015            -0.343210               0.301500                -0.157989   \n",
       "22471           -0.181994              -0.197525                -0.157989   \n",
       "15083            0.853009              -0.143010                -0.157989   \n",
       "40025           -0.343210              -0.587519                -0.157989   \n",
       "34981           -0.343210              -0.587519                -0.157989   \n",
       "\n",
       "       perc_threeway_calls  perc_received_calls  perc_outbound_calls  \\\n",
       "7015             -0.160967            -1.264041            -0.976330   \n",
       "22471            -0.160967            -0.649449            -0.431574   \n",
       "15083            -0.160967            -0.977682            -0.302649   \n",
       "40025            -0.053848             0.516700             1.181507   \n",
       "34981            -0.160967            -1.264041            -0.976330   \n",
       "\n",
       "       perc_inbound_calls  \n",
       "7015            -0.662061  \n",
       "22471           -0.594549  \n",
       "15083           -0.662061  \n",
       "40025           -0.384511  \n",
       "34981           -0.662061  \n",
       "\n",
       "[5 rows x 55 columns]"
      ]
     },
     "execution_count": 63,
     "metadata": {},
     "output_type": "execute_result"
    }
   ],
   "source": [
    "cust_df.head()"
   ]
  },
  {
   "cell_type": "code",
   "execution_count": 64,
   "metadata": {},
   "outputs": [
    {
     "data": {
      "text/plain": [
       "(69460, 55)"
      ]
     },
     "execution_count": 64,
     "metadata": {},
     "output_type": "execute_result"
    }
   ],
   "source": [
    "cust_df.shape"
   ]
  },
  {
   "cell_type": "code",
   "execution_count": 65,
   "metadata": {},
   "outputs": [
    {
     "data": {
      "text/plain": [
       "1    34730\n",
       "0    34730\n",
       "Name: Churn, dtype: int64"
      ]
     },
     "execution_count": 65,
     "metadata": {},
     "output_type": "execute_result"
    }
   ],
   "source": [
    "y.value_counts()"
   ]
  },
  {
   "cell_type": "code",
   "execution_count": 66,
   "metadata": {},
   "outputs": [
    {
     "data": {
      "text/plain": [
       "1    50.0\n",
       "0    50.0\n",
       "Name: Churn, dtype: float64"
      ]
     },
     "execution_count": 66,
     "metadata": {},
     "output_type": "execute_result"
    }
   ],
   "source": [
    "y.value_counts()/len(y)*100"
   ]
  },
  {
   "cell_type": "code",
   "execution_count": 67,
   "metadata": {},
   "outputs": [
    {
     "data": {
      "text/plain": [
       "18"
      ]
     },
     "execution_count": 67,
     "metadata": {},
     "output_type": "execute_result"
    }
   ],
   "source": [
    "len(imp_categorical_cols)"
   ]
  },
  {
   "cell_type": "code",
   "execution_count": 68,
   "metadata": {},
   "outputs": [
    {
     "data": {
      "text/html": [
       "<div>\n",
       "<style scoped>\n",
       "    .dataframe tbody tr th:only-of-type {\n",
       "        vertical-align: middle;\n",
       "    }\n",
       "\n",
       "    .dataframe tbody tr th {\n",
       "        vertical-align: top;\n",
       "    }\n",
       "\n",
       "    .dataframe thead th {\n",
       "        text-align: right;\n",
       "    }\n",
       "</style>\n",
       "<table border=\"1\" class=\"dataframe\">\n",
       "  <thead>\n",
       "    <tr style=\"text-align: right;\">\n",
       "      <th></th>\n",
       "      <th>MonthlyRevenue</th>\n",
       "      <th>MonthlyMinutes</th>\n",
       "      <th>TotalRecurringCharge</th>\n",
       "      <th>DirectorAssistedCalls</th>\n",
       "      <th>OverageMinutes</th>\n",
       "      <th>RoamingCalls</th>\n",
       "      <th>PercChangeMinutes</th>\n",
       "      <th>PercChangeRevenues</th>\n",
       "      <th>DroppedCalls</th>\n",
       "      <th>BlockedCalls</th>\n",
       "      <th>...</th>\n",
       "      <th>perc_overage_minute</th>\n",
       "      <th>perc_roaming_calls</th>\n",
       "      <th>perc_droppped_calls</th>\n",
       "      <th>perc_blocked_calls</th>\n",
       "      <th>perc_unanswered_calls</th>\n",
       "      <th>perc_customercare_calls</th>\n",
       "      <th>perc_threeway_calls</th>\n",
       "      <th>perc_received_calls</th>\n",
       "      <th>perc_outbound_calls</th>\n",
       "      <th>perc_inbound_calls</th>\n",
       "    </tr>\n",
       "  </thead>\n",
       "  <tbody>\n",
       "    <tr>\n",
       "      <th>7015</th>\n",
       "      <td>-0.907402</td>\n",
       "      <td>-1.012856</td>\n",
       "      <td>-1.289199</td>\n",
       "      <td>-0.543379</td>\n",
       "      <td>-0.437554</td>\n",
       "      <td>-0.131786</td>\n",
       "      <td>0.054802</td>\n",
       "      <td>0.027338</td>\n",
       "      <td>-0.684210</td>\n",
       "      <td>-0.387722</td>\n",
       "      <td>...</td>\n",
       "      <td>-0.571061</td>\n",
       "      <td>-0.196326</td>\n",
       "      <td>-0.680093</td>\n",
       "      <td>-0.343210</td>\n",
       "      <td>0.301500</td>\n",
       "      <td>-0.157989</td>\n",
       "      <td>-0.160967</td>\n",
       "      <td>-1.264041</td>\n",
       "      <td>-0.976330</td>\n",
       "      <td>-0.662061</td>\n",
       "    </tr>\n",
       "    <tr>\n",
       "      <th>22471</th>\n",
       "      <td>-0.185080</td>\n",
       "      <td>-0.595729</td>\n",
       "      <td>0.167875</td>\n",
       "      <td>-0.360756</td>\n",
       "      <td>-0.437554</td>\n",
       "      <td>-0.121459</td>\n",
       "      <td>0.490395</td>\n",
       "      <td>0.027338</td>\n",
       "      <td>-0.649520</td>\n",
       "      <td>-0.290052</td>\n",
       "      <td>...</td>\n",
       "      <td>-0.571061</td>\n",
       "      <td>-0.172973</td>\n",
       "      <td>-0.610504</td>\n",
       "      <td>-0.181994</td>\n",
       "      <td>-0.197525</td>\n",
       "      <td>-0.157989</td>\n",
       "      <td>-0.160967</td>\n",
       "      <td>-0.649449</td>\n",
       "      <td>-0.431574</td>\n",
       "      <td>-0.594549</td>\n",
       "    </tr>\n",
       "    <tr>\n",
       "      <th>15083</th>\n",
       "      <td>-0.673187</td>\n",
       "      <td>-0.978927</td>\n",
       "      <td>-0.715200</td>\n",
       "      <td>-0.543379</td>\n",
       "      <td>-0.437554</td>\n",
       "      <td>-0.131786</td>\n",
       "      <td>0.101893</td>\n",
       "      <td>0.027338</td>\n",
       "      <td>-0.684210</td>\n",
       "      <td>-0.319353</td>\n",
       "      <td>...</td>\n",
       "      <td>-0.571061</td>\n",
       "      <td>-0.196326</td>\n",
       "      <td>-0.680093</td>\n",
       "      <td>0.853009</td>\n",
       "      <td>-0.143010</td>\n",
       "      <td>-0.157989</td>\n",
       "      <td>-0.160967</td>\n",
       "      <td>-0.977682</td>\n",
       "      <td>-0.302649</td>\n",
       "      <td>-0.662061</td>\n",
       "    </tr>\n",
       "    <tr>\n",
       "      <th>40025</th>\n",
       "      <td>0.305907</td>\n",
       "      <td>0.250501</td>\n",
       "      <td>-0.052894</td>\n",
       "      <td>-0.543379</td>\n",
       "      <td>0.560719</td>\n",
       "      <td>-0.090479</td>\n",
       "      <td>-0.200276</td>\n",
       "      <td>-0.234863</td>\n",
       "      <td>6.172836</td>\n",
       "      <td>-0.387722</td>\n",
       "      <td>...</td>\n",
       "      <td>0.686724</td>\n",
       "      <td>-0.165189</td>\n",
       "      <td>3.905072</td>\n",
       "      <td>-0.343210</td>\n",
       "      <td>-0.587519</td>\n",
       "      <td>-0.157989</td>\n",
       "      <td>-0.053848</td>\n",
       "      <td>0.516700</td>\n",
       "      <td>1.181507</td>\n",
       "      <td>-0.384511</td>\n",
       "    </tr>\n",
       "    <tr>\n",
       "      <th>34981</th>\n",
       "      <td>-0.193479</td>\n",
       "      <td>-0.655603</td>\n",
       "      <td>0.167875</td>\n",
       "      <td>-0.543379</td>\n",
       "      <td>-0.437554</td>\n",
       "      <td>-0.131786</td>\n",
       "      <td>0.305955</td>\n",
       "      <td>0.027338</td>\n",
       "      <td>-0.684210</td>\n",
       "      <td>-0.387722</td>\n",
       "      <td>...</td>\n",
       "      <td>-0.571061</td>\n",
       "      <td>-0.196326</td>\n",
       "      <td>-0.680093</td>\n",
       "      <td>-0.343210</td>\n",
       "      <td>-0.587519</td>\n",
       "      <td>-0.157989</td>\n",
       "      <td>-0.160967</td>\n",
       "      <td>-1.264041</td>\n",
       "      <td>-0.976330</td>\n",
       "      <td>-0.662061</td>\n",
       "    </tr>\n",
       "  </tbody>\n",
       "</table>\n",
       "<p>5 rows × 55 columns</p>\n",
       "</div>"
      ],
      "text/plain": [
       "       MonthlyRevenue  MonthlyMinutes  TotalRecurringCharge  \\\n",
       "7015        -0.907402       -1.012856             -1.289199   \n",
       "22471       -0.185080       -0.595729              0.167875   \n",
       "15083       -0.673187       -0.978927             -0.715200   \n",
       "40025        0.305907        0.250501             -0.052894   \n",
       "34981       -0.193479       -0.655603              0.167875   \n",
       "\n",
       "       DirectorAssistedCalls  OverageMinutes  RoamingCalls  PercChangeMinutes  \\\n",
       "7015               -0.543379       -0.437554     -0.131786           0.054802   \n",
       "22471              -0.360756       -0.437554     -0.121459           0.490395   \n",
       "15083              -0.543379       -0.437554     -0.131786           0.101893   \n",
       "40025              -0.543379        0.560719     -0.090479          -0.200276   \n",
       "34981              -0.543379       -0.437554     -0.131786           0.305955   \n",
       "\n",
       "       PercChangeRevenues  DroppedCalls  BlockedCalls  ...  \\\n",
       "7015             0.027338     -0.684210     -0.387722  ...   \n",
       "22471            0.027338     -0.649520     -0.290052  ...   \n",
       "15083            0.027338     -0.684210     -0.319353  ...   \n",
       "40025           -0.234863      6.172836     -0.387722  ...   \n",
       "34981            0.027338     -0.684210     -0.387722  ...   \n",
       "\n",
       "       perc_overage_minute  perc_roaming_calls  perc_droppped_calls  \\\n",
       "7015             -0.571061           -0.196326            -0.680093   \n",
       "22471            -0.571061           -0.172973            -0.610504   \n",
       "15083            -0.571061           -0.196326            -0.680093   \n",
       "40025             0.686724           -0.165189             3.905072   \n",
       "34981            -0.571061           -0.196326            -0.680093   \n",
       "\n",
       "       perc_blocked_calls  perc_unanswered_calls  perc_customercare_calls  \\\n",
       "7015            -0.343210               0.301500                -0.157989   \n",
       "22471           -0.181994              -0.197525                -0.157989   \n",
       "15083            0.853009              -0.143010                -0.157989   \n",
       "40025           -0.343210              -0.587519                -0.157989   \n",
       "34981           -0.343210              -0.587519                -0.157989   \n",
       "\n",
       "       perc_threeway_calls  perc_received_calls  perc_outbound_calls  \\\n",
       "7015             -0.160967            -1.264041            -0.976330   \n",
       "22471            -0.160967            -0.649449            -0.431574   \n",
       "15083            -0.160967            -0.977682            -0.302649   \n",
       "40025            -0.053848             0.516700             1.181507   \n",
       "34981            -0.160967            -1.264041            -0.976330   \n",
       "\n",
       "       perc_inbound_calls  \n",
       "7015            -0.662061  \n",
       "22471           -0.594549  \n",
       "15083           -0.662061  \n",
       "40025           -0.384511  \n",
       "34981           -0.662061  \n",
       "\n",
       "[5 rows x 55 columns]"
      ]
     },
     "execution_count": 68,
     "metadata": {},
     "output_type": "execute_result"
    }
   ],
   "source": [
    "cust_df.head()"
   ]
  },
  {
   "cell_type": "code",
   "execution_count": 69,
   "metadata": {},
   "outputs": [
    {
     "data": {
      "text/html": [
       "<div>\n",
       "<style scoped>\n",
       "    .dataframe tbody tr th:only-of-type {\n",
       "        vertical-align: middle;\n",
       "    }\n",
       "\n",
       "    .dataframe tbody tr th {\n",
       "        vertical-align: top;\n",
       "    }\n",
       "\n",
       "    .dataframe thead th {\n",
       "        text-align: right;\n",
       "    }\n",
       "</style>\n",
       "<table border=\"1\" class=\"dataframe\">\n",
       "  <thead>\n",
       "    <tr style=\"text-align: right;\">\n",
       "      <th></th>\n",
       "      <th>UniqueSubs</th>\n",
       "      <th>ActiveSubs</th>\n",
       "      <th>HandsetModels</th>\n",
       "      <th>HandsetRefurbished</th>\n",
       "      <th>HandsetWebCapable</th>\n",
       "      <th>Homeownership</th>\n",
       "      <th>BuysViaMailOrder</th>\n",
       "      <th>RespondsToMailOffers</th>\n",
       "      <th>HasCreditCard</th>\n",
       "      <th>RetentionCalls</th>\n",
       "      <th>RetentionOffersAccepted</th>\n",
       "      <th>IncomeGroup</th>\n",
       "      <th>HandsetPrice</th>\n",
       "      <th>MadeCallToRetentionTeam</th>\n",
       "      <th>CreditRating</th>\n",
       "      <th>PrizmCode</th>\n",
       "      <th>MaritalStatus</th>\n",
       "      <th>perc_active_subs</th>\n",
       "    </tr>\n",
       "  </thead>\n",
       "  <tbody>\n",
       "    <tr>\n",
       "      <th>7015</th>\n",
       "      <td>1</td>\n",
       "      <td>1</td>\n",
       "      <td>1.0</td>\n",
       "      <td>No</td>\n",
       "      <td>No</td>\n",
       "      <td>Known</td>\n",
       "      <td>Yes</td>\n",
       "      <td>Yes</td>\n",
       "      <td>Yes</td>\n",
       "      <td>0</td>\n",
       "      <td>0</td>\n",
       "      <td>3</td>\n",
       "      <td>Unknown</td>\n",
       "      <td>No</td>\n",
       "      <td>3-Good</td>\n",
       "      <td>Suburban</td>\n",
       "      <td>No</td>\n",
       "      <td>1.0</td>\n",
       "    </tr>\n",
       "    <tr>\n",
       "      <th>22471</th>\n",
       "      <td>1</td>\n",
       "      <td>1</td>\n",
       "      <td>1.0</td>\n",
       "      <td>No</td>\n",
       "      <td>No</td>\n",
       "      <td>Unknown</td>\n",
       "      <td>No</td>\n",
       "      <td>No</td>\n",
       "      <td>No</td>\n",
       "      <td>0</td>\n",
       "      <td>0</td>\n",
       "      <td>5</td>\n",
       "      <td>Unknown</td>\n",
       "      <td>No</td>\n",
       "      <td>3-Good</td>\n",
       "      <td>Suburban</td>\n",
       "      <td>No</td>\n",
       "      <td>1.0</td>\n",
       "    </tr>\n",
       "    <tr>\n",
       "      <th>15083</th>\n",
       "      <td>1</td>\n",
       "      <td>1</td>\n",
       "      <td>1.0</td>\n",
       "      <td>No</td>\n",
       "      <td>Yes</td>\n",
       "      <td>Known</td>\n",
       "      <td>Yes</td>\n",
       "      <td>Yes</td>\n",
       "      <td>Yes</td>\n",
       "      <td>0</td>\n",
       "      <td>0</td>\n",
       "      <td>8</td>\n",
       "      <td>Unknown</td>\n",
       "      <td>No</td>\n",
       "      <td>2-High</td>\n",
       "      <td>Town</td>\n",
       "      <td>Yes</td>\n",
       "      <td>1.0</td>\n",
       "    </tr>\n",
       "    <tr>\n",
       "      <th>40025</th>\n",
       "      <td>3</td>\n",
       "      <td>3</td>\n",
       "      <td>1.0</td>\n",
       "      <td>No</td>\n",
       "      <td>Yes</td>\n",
       "      <td>Known</td>\n",
       "      <td>No</td>\n",
       "      <td>No</td>\n",
       "      <td>Yes</td>\n",
       "      <td>0</td>\n",
       "      <td>0</td>\n",
       "      <td>6</td>\n",
       "      <td>Unknown</td>\n",
       "      <td>No</td>\n",
       "      <td>3-Good</td>\n",
       "      <td>Suburban</td>\n",
       "      <td>Unknown</td>\n",
       "      <td>1.0</td>\n",
       "    </tr>\n",
       "    <tr>\n",
       "      <th>34981</th>\n",
       "      <td>2</td>\n",
       "      <td>1</td>\n",
       "      <td>1.0</td>\n",
       "      <td>No</td>\n",
       "      <td>Yes</td>\n",
       "      <td>Known</td>\n",
       "      <td>Yes</td>\n",
       "      <td>Yes</td>\n",
       "      <td>Yes</td>\n",
       "      <td>0</td>\n",
       "      <td>0</td>\n",
       "      <td>4</td>\n",
       "      <td>150</td>\n",
       "      <td>No</td>\n",
       "      <td>1-Highest</td>\n",
       "      <td>Suburban</td>\n",
       "      <td>Unknown</td>\n",
       "      <td>0.5</td>\n",
       "    </tr>\n",
       "    <tr>\n",
       "      <th>...</th>\n",
       "      <td>...</td>\n",
       "      <td>...</td>\n",
       "      <td>...</td>\n",
       "      <td>...</td>\n",
       "      <td>...</td>\n",
       "      <td>...</td>\n",
       "      <td>...</td>\n",
       "      <td>...</td>\n",
       "      <td>...</td>\n",
       "      <td>...</td>\n",
       "      <td>...</td>\n",
       "      <td>...</td>\n",
       "      <td>...</td>\n",
       "      <td>...</td>\n",
       "      <td>...</td>\n",
       "      <td>...</td>\n",
       "      <td>...</td>\n",
       "      <td>...</td>\n",
       "    </tr>\n",
       "    <tr>\n",
       "      <th>51030</th>\n",
       "      <td>1</td>\n",
       "      <td>1</td>\n",
       "      <td>3.0</td>\n",
       "      <td>No</td>\n",
       "      <td>Yes</td>\n",
       "      <td>Known</td>\n",
       "      <td>No</td>\n",
       "      <td>No</td>\n",
       "      <td>No</td>\n",
       "      <td>0</td>\n",
       "      <td>0</td>\n",
       "      <td>2</td>\n",
       "      <td>80</td>\n",
       "      <td>No</td>\n",
       "      <td>3-Good</td>\n",
       "      <td>Other</td>\n",
       "      <td>No</td>\n",
       "      <td>1.0</td>\n",
       "    </tr>\n",
       "    <tr>\n",
       "      <th>51032</th>\n",
       "      <td>1</td>\n",
       "      <td>1</td>\n",
       "      <td>2.0</td>\n",
       "      <td>No</td>\n",
       "      <td>Yes</td>\n",
       "      <td>Unknown</td>\n",
       "      <td>No</td>\n",
       "      <td>Yes</td>\n",
       "      <td>No</td>\n",
       "      <td>1</td>\n",
       "      <td>1</td>\n",
       "      <td>3</td>\n",
       "      <td>30</td>\n",
       "      <td>Yes</td>\n",
       "      <td>1-Highest</td>\n",
       "      <td>Town</td>\n",
       "      <td>Unknown</td>\n",
       "      <td>1.0</td>\n",
       "    </tr>\n",
       "    <tr>\n",
       "      <th>51037</th>\n",
       "      <td>1</td>\n",
       "      <td>1</td>\n",
       "      <td>1.0</td>\n",
       "      <td>No</td>\n",
       "      <td>Yes</td>\n",
       "      <td>Known</td>\n",
       "      <td>Yes</td>\n",
       "      <td>Yes</td>\n",
       "      <td>Yes</td>\n",
       "      <td>0</td>\n",
       "      <td>0</td>\n",
       "      <td>3</td>\n",
       "      <td>Unknown</td>\n",
       "      <td>No</td>\n",
       "      <td>3-Good</td>\n",
       "      <td>Other</td>\n",
       "      <td>Yes</td>\n",
       "      <td>1.0</td>\n",
       "    </tr>\n",
       "    <tr>\n",
       "      <th>51040</th>\n",
       "      <td>1</td>\n",
       "      <td>1</td>\n",
       "      <td>1.0</td>\n",
       "      <td>No</td>\n",
       "      <td>No</td>\n",
       "      <td>Known</td>\n",
       "      <td>Yes</td>\n",
       "      <td>Yes</td>\n",
       "      <td>Yes</td>\n",
       "      <td>0</td>\n",
       "      <td>0</td>\n",
       "      <td>7</td>\n",
       "      <td>Unknown</td>\n",
       "      <td>No</td>\n",
       "      <td>1-Highest</td>\n",
       "      <td>Other</td>\n",
       "      <td>Unknown</td>\n",
       "      <td>1.0</td>\n",
       "    </tr>\n",
       "    <tr>\n",
       "      <th>51043</th>\n",
       "      <td>1</td>\n",
       "      <td>1</td>\n",
       "      <td>2.0</td>\n",
       "      <td>No</td>\n",
       "      <td>Yes</td>\n",
       "      <td>Known</td>\n",
       "      <td>Yes</td>\n",
       "      <td>Yes</td>\n",
       "      <td>Yes</td>\n",
       "      <td>0</td>\n",
       "      <td>0</td>\n",
       "      <td>9</td>\n",
       "      <td>60</td>\n",
       "      <td>No</td>\n",
       "      <td>3-Good</td>\n",
       "      <td>Other</td>\n",
       "      <td>No</td>\n",
       "      <td>1.0</td>\n",
       "    </tr>\n",
       "  </tbody>\n",
       "</table>\n",
       "<p>69460 rows × 18 columns</p>\n",
       "</div>"
      ],
      "text/plain": [
       "       UniqueSubs  ActiveSubs  HandsetModels HandsetRefurbished  \\\n",
       "7015            1           1            1.0                 No   \n",
       "22471           1           1            1.0                 No   \n",
       "15083           1           1            1.0                 No   \n",
       "40025           3           3            1.0                 No   \n",
       "34981           2           1            1.0                 No   \n",
       "...           ...         ...            ...                ...   \n",
       "51030           1           1            3.0                 No   \n",
       "51032           1           1            2.0                 No   \n",
       "51037           1           1            1.0                 No   \n",
       "51040           1           1            1.0                 No   \n",
       "51043           1           1            2.0                 No   \n",
       "\n",
       "      HandsetWebCapable Homeownership BuysViaMailOrder RespondsToMailOffers  \\\n",
       "7015                 No         Known              Yes                  Yes   \n",
       "22471                No       Unknown               No                   No   \n",
       "15083               Yes         Known              Yes                  Yes   \n",
       "40025               Yes         Known               No                   No   \n",
       "34981               Yes         Known              Yes                  Yes   \n",
       "...                 ...           ...              ...                  ...   \n",
       "51030               Yes         Known               No                   No   \n",
       "51032               Yes       Unknown               No                  Yes   \n",
       "51037               Yes         Known              Yes                  Yes   \n",
       "51040                No         Known              Yes                  Yes   \n",
       "51043               Yes         Known              Yes                  Yes   \n",
       "\n",
       "      HasCreditCard  RetentionCalls  RetentionOffersAccepted  IncomeGroup  \\\n",
       "7015            Yes               0                        0            3   \n",
       "22471            No               0                        0            5   \n",
       "15083           Yes               0                        0            8   \n",
       "40025           Yes               0                        0            6   \n",
       "34981           Yes               0                        0            4   \n",
       "...             ...             ...                      ...          ...   \n",
       "51030            No               0                        0            2   \n",
       "51032            No               1                        1            3   \n",
       "51037           Yes               0                        0            3   \n",
       "51040           Yes               0                        0            7   \n",
       "51043           Yes               0                        0            9   \n",
       "\n",
       "      HandsetPrice MadeCallToRetentionTeam CreditRating PrizmCode  \\\n",
       "7015       Unknown                      No       3-Good  Suburban   \n",
       "22471      Unknown                      No       3-Good  Suburban   \n",
       "15083      Unknown                      No       2-High      Town   \n",
       "40025      Unknown                      No       3-Good  Suburban   \n",
       "34981          150                      No    1-Highest  Suburban   \n",
       "...            ...                     ...          ...       ...   \n",
       "51030           80                      No       3-Good     Other   \n",
       "51032           30                     Yes    1-Highest      Town   \n",
       "51037      Unknown                      No       3-Good     Other   \n",
       "51040      Unknown                      No    1-Highest     Other   \n",
       "51043           60                      No       3-Good     Other   \n",
       "\n",
       "      MaritalStatus  perc_active_subs  \n",
       "7015             No               1.0  \n",
       "22471            No               1.0  \n",
       "15083           Yes               1.0  \n",
       "40025       Unknown               1.0  \n",
       "34981       Unknown               0.5  \n",
       "...             ...               ...  \n",
       "51030            No               1.0  \n",
       "51032       Unknown               1.0  \n",
       "51037           Yes               1.0  \n",
       "51040       Unknown               1.0  \n",
       "51043            No               1.0  \n",
       "\n",
       "[69460 rows x 18 columns]"
      ]
     },
     "execution_count": 69,
     "metadata": {},
     "output_type": "execute_result"
    }
   ],
   "source": [
    "cust_df[imp_categorical_cols]"
   ]
  },
  {
   "cell_type": "code",
   "execution_count": 70,
   "metadata": {},
   "outputs": [],
   "source": [
    "cust_df=pd.get_dummies(cust_df,columns=imp_categorical_cols,drop_first=True)"
   ]
  },
  {
   "cell_type": "code",
   "execution_count": 71,
   "metadata": {},
   "outputs": [
    {
     "data": {
      "text/plain": [
       "(69460, 115)"
      ]
     },
     "execution_count": 71,
     "metadata": {},
     "output_type": "execute_result"
    }
   ],
   "source": [
    "cust_df.shape"
   ]
  },
  {
   "cell_type": "code",
   "execution_count": 72,
   "metadata": {},
   "outputs": [
    {
     "data": {
      "text/plain": [
       "Index(['MonthlyRevenue', 'MonthlyMinutes', 'TotalRecurringCharge',\n",
       "       'DirectorAssistedCalls', 'OverageMinutes', 'RoamingCalls',\n",
       "       'PercChangeMinutes', 'PercChangeRevenues', 'DroppedCalls',\n",
       "       'BlockedCalls',\n",
       "       ...\n",
       "       'perc_active_subs_0.2', 'perc_active_subs_0.25',\n",
       "       'perc_active_subs_0.3333333333333333', 'perc_active_subs_0.4',\n",
       "       'perc_active_subs_0.5', 'perc_active_subs_0.6',\n",
       "       'perc_active_subs_0.6666666666666666', 'perc_active_subs_0.75',\n",
       "       'perc_active_subs_0.8', 'perc_active_subs_1.0'],\n",
       "      dtype='object', length=115)"
      ]
     },
     "execution_count": 72,
     "metadata": {},
     "output_type": "execute_result"
    }
   ],
   "source": [
    "cust_df.columns"
   ]
  },
  {
   "cell_type": "code",
   "execution_count": 73,
   "metadata": {},
   "outputs": [],
   "source": [
    "X=cust_df\n",
    "X_train, X_test, y_train, y_test = train_test_split(X, y, test_size=0.3, random_state=0)\n"
   ]
  },
  {
   "cell_type": "code",
   "execution_count": 74,
   "metadata": {},
   "outputs": [
    {
     "data": {
      "text/plain": [
       "((48622, 115), (20838, 115), (48622,), (20838,))"
      ]
     },
     "execution_count": 74,
     "metadata": {},
     "output_type": "execute_result"
    }
   ],
   "source": [
    "X_train.shape,X_test.shape,y_train.shape,y_test.shape"
   ]
  },
  {
   "cell_type": "code",
   "execution_count": 75,
   "metadata": {},
   "outputs": [
    {
     "data": {
      "text/plain": [
       "1    24462\n",
       "0    24160\n",
       "Name: Churn, dtype: int64"
      ]
     },
     "execution_count": 75,
     "metadata": {},
     "output_type": "execute_result"
    }
   ],
   "source": [
    "y_train.value_counts()"
   ]
  },
  {
   "cell_type": "markdown",
   "metadata": {
    "id": "lj89clILlFIY"
   },
   "source": [
    "### Q4.1 Build a simple logistic regression model to predict churn and evaluate model accuracy on test data set\n"
   ]
  },
  {
   "cell_type": "code",
   "execution_count": 151,
   "metadata": {
    "id": "R3j70GX1lFIY"
   },
   "outputs": [],
   "source": [
    "\n",
    "from sklearn.linear_model import LogisticRegression\n",
    "from sklearn.metrics import accuracy_score, classification_report,ConfusionMatrixDisplay,confusion_matrix,roc_auc_score,f1_score,plot_confusion_matrix, average_precision_score\n"
   ]
  },
  {
   "cell_type": "code",
   "execution_count": 136,
   "metadata": {},
   "outputs": [],
   "source": [
    "#type your code to build logistic regression model on training data set\n",
    "model=LogisticRegression(random_state=0)\n",
    "logistic_classifier=model.fit(X_train,y_train)\n",
    "logistic_predict_train_output=logistic_classifier.predict_proba(X_train)[:,1]"
   ]
  },
  {
   "cell_type": "code",
   "execution_count": 137,
   "metadata": {
    "id": "KlCdJ472lFIZ"
   },
   "outputs": [],
   "source": [
    "#-------------------------------- Model testing ---------------------------------#\n",
    "#type your code here to predict for X_test data set using the fitted model\n",
    "logistic_predict_test_output=logistic_classifier.predict_proba(X_test)[:,1]"
   ]
  },
  {
   "cell_type": "markdown",
   "metadata": {},
   "source": [
    "### Evaluate model accuracy using fitted y value and actual y_test"
   ]
  },
  {
   "cell_type": "code",
   "execution_count": 138,
   "metadata": {},
   "outputs": [],
   "source": [
    "import copy\n",
    "def efficient_cutoff(actual_value,predicted):\n",
    "    prob_cutoff=[]\n",
    "    f1_score_val=[]\n",
    "    for i in range(0,101):\n",
    "        predicted_x=copy.deepcopy(predicted)\n",
    "        predicted_x[predicted_x >= i/100 ]=1\n",
    "        predicted_x[predicted_x < i/100 ]=0\n",
    "        prob_cutoff.append(i/100)\n",
    "        f1_score_val.append(f1_score(actual_value,predicted_x))\n",
    "    return (prob_cutoff,f1_score_val)\n"
   ]
  },
  {
   "cell_type": "code",
   "execution_count": 139,
   "metadata": {},
   "outputs": [],
   "source": [
    "#Use a probability threshold to classify customers as churners and non churners (Default = 0.5)\n",
    "prob_cutoff_train,f1_score_val_train=efficient_cutoff(y_train,logistic_predict_train_output)"
   ]
  },
  {
   "cell_type": "code",
   "execution_count": 140,
   "metadata": {},
   "outputs": [
    {
     "data": {
      "text/plain": [
       "Text(0.5, 0, 'Probability cutoff value - train-set')"
      ]
     },
     "execution_count": 140,
     "metadata": {},
     "output_type": "execute_result"
    },
    {
     "data": {
      "text/plain": [
       "<matplotlib.lines.Line2D at 0x1b3539e21f0>"
      ]
     },
     "execution_count": 140,
     "metadata": {},
     "output_type": "execute_result"
    },
    {
     "data": {
      "text/plain": [
       "Text(0, 0.5, 'f1 score train')"
      ]
     },
     "execution_count": 140,
     "metadata": {},
     "output_type": "execute_result"
    },
    {
     "data": {
      "text/plain": [
       "[<matplotlib.lines.Line2D at 0x1b353ab3760>]"
      ]
     },
     "execution_count": 140,
     "metadata": {},
     "output_type": "execute_result"
    },
    {
     "data": {
      "image/png": "[encoded data removed]",
      "text/plain": [
       "<Figure size 432x288 with 1 Axes>"
      ]
     },
     "metadata": {
      "needs_background": "light"
     },
     "output_type": "display_data"
    }
   ],
   "source": [
    "plt.xlabel(\"Probability cutoff value - train-set\")\n",
    "plt.axvline(x=0.4,color='b',label='avxline-full height')\n",
    "plt.ylabel(\"f1 score train\")\n",
    "plt.plot(prob_cutoff_train,f1_score_val_train)\n",
    "plt.show()"
   ]
  },
  {
   "cell_type": "code",
   "execution_count": 141,
   "metadata": {},
   "outputs": [],
   "source": [
    "prob_cutoff_test,f1_score_val_test=efficient_cutoff(y_test,logistic_predict_test_output)"
   ]
  },
  {
   "cell_type": "code",
   "execution_count": 142,
   "metadata": {},
   "outputs": [
    {
     "data": {
      "text/plain": [
       "Text(0.5, 0, 'Probability cutoff value - test-set')"
      ]
     },
     "execution_count": 142,
     "metadata": {},
     "output_type": "execute_result"
    },
    {
     "data": {
      "text/plain": [
       "<matplotlib.lines.Line2D at 0x1b353ac26d0>"
      ]
     },
     "execution_count": 142,
     "metadata": {},
     "output_type": "execute_result"
    },
    {
     "data": {
      "text/plain": [
       "Text(0, 0.5, 'f1 score train')"
      ]
     },
     "execution_count": 142,
     "metadata": {},
     "output_type": "execute_result"
    },
    {
     "data": {
      "text/plain": [
       "[<matplotlib.lines.Line2D at 0x1b353b078b0>]"
      ]
     },
     "execution_count": 142,
     "metadata": {},
     "output_type": "execute_result"
    },
    {
     "data": {
      "image/png": "[encoded data removed]",
      "text/plain": [
       "<Figure size 432x288 with 1 Axes>"
      ]
     },
     "metadata": {
      "needs_background": "light"
     },
     "output_type": "display_data"
    }
   ],
   "source": [
    "plt.xlabel(\"Probability cutoff value - test-set\")\n",
    "plt.axvline(x=0.4,color='b',label='avxline-full height')\n",
    "plt.ylabel(\"f1 score train\")\n",
    "plt.plot(prob_cutoff_test,f1_score_val_test)\n",
    "plt.show()"
   ]
  },
  {
   "cell_type": "code",
   "execution_count": 143,
   "metadata": {},
   "outputs": [],
   "source": [
    "logistic_predict_test_class=copy.deepcopy(logistic_predict_test_output)"
   ]
  },
  {
   "cell_type": "code",
   "execution_count": 144,
   "metadata": {},
   "outputs": [],
   "source": [
    "\n",
    "logistic_predict_test_class[logistic_predict_test_output>=0.4]=1\n",
    "logistic_predict_test_class[logistic_predict_test_output<0.4]=0\n"
   ]
  },
  {
   "cell_type": "code",
   "execution_count": 173,
   "metadata": {},
   "outputs": [
    {
     "data": {
      "text/plain": [
       "<sklearn.metrics._plot.confusion_matrix.ConfusionMatrixDisplay at 0x1b3567d2430>"
      ]
     },
     "execution_count": 173,
     "metadata": {},
     "output_type": "execute_result"
    },
    {
     "data": {
      "image/png": "[encoded data removed]",
      "text/plain": [
       "<Figure size 432x288 with 2 Axes>"
      ]
     },
     "metadata": {
      "needs_background": "light"
     },
     "output_type": "display_data"
    }
   ],
   "source": [
    "#confusion matrix\n",
    "cm=confusion_matrix(y_test,logistic_predict_test_class)\n",
    "disp=ConfusionMatrixDisplay(cm)\n",
    "disp.plot()\n"
   ]
  },
  {
   "cell_type": "code",
   "execution_count": 129,
   "metadata": {},
   "outputs": [
    {
     "name": "stdout",
     "output_type": "stream",
     "text": [
      "              precision    recall  f1-score   support\n",
      "\n",
      "           0       0.68      0.23      0.35     10570\n",
      "           1       0.53      0.89      0.66     10268\n",
      "\n",
      "    accuracy                           0.56     20838\n",
      "   macro avg       0.61      0.56      0.51     20838\n",
      "weighted avg       0.61      0.56      0.50     20838\n",
      "\n"
     ]
    }
   ],
   "source": [
    "# Precision, Recall\n",
    "print(classification_report(y_test,logistic_predict_test_class))\n"
   ]
  },
  {
   "cell_type": "code",
   "execution_count": 187,
   "metadata": {},
   "outputs": [
    {
     "name": "stdout",
     "output_type": "stream",
     "text": [
      "gini:0.2530059495400283\n",
      "ROC-AUC Score:0.6265029747700142\n",
      "Accracy:0.5558114982243977\n"
     ]
    }
   ],
   "source": [
    " test_auc_score=roc_auc_score(y_test, logistic_predict_test_output)\n",
    "print(\"gini:{}\".format(2*test_auc_score-1))\n",
    "print(\"ROC-AUC Score:{}\".format(test_auc_score))\n",
    "print(\"Accracy:{}\".format(accuracy_score(y_test, logistic_predict_test_class)))"
   ]
  },
  {
   "cell_type": "markdown",
   "metadata": {
    "id": "5c_9lNnclFIZ"
   },
   "source": [
    "### Q4.2 Build Random Forest classifier to compare model accuracy over the logistic regression model\n"
   ]
  },
  {
   "cell_type": "code",
   "execution_count": 159,
   "metadata": {},
   "outputs": [],
   "source": [
    "from sklearn.ensemble import RandomForestClassifier\n"
   ]
  },
  {
   "cell_type": "code",
   "execution_count": 160,
   "metadata": {
    "id": "-PqkT3eRlFIa"
   },
   "outputs": [
    {
     "data": {
      "text/plain": [
       "RandomForestClassifier(criterion='entropy', max_depth=15, min_samples_split=50,\n",
       "                       n_estimators=350, n_jobs=-1, random_state=40)"
      ]
     },
     "execution_count": 160,
     "metadata": {},
     "output_type": "execute_result"
    }
   ],
   "source": [
    "#-------------------------------- Model training -------------------------------#\n",
    "clf=RandomForestClassifier(max_depth=15,min_samples_split=50,random_state=40,criterion=\"entropy\",n_estimators=350,n_jobs=-1)\n",
    "#type your code to build random forest classifier model on training data set\n",
    "clf.fit(X_train,y_train)\n",
    "\n",
    "\n"
   ]
  },
  {
   "cell_type": "code",
   "execution_count": 161,
   "metadata": {
    "id": "yoMJOpkvlFIa"
   },
   "outputs": [],
   "source": [
    "#-------------------------------- Model testing ---------------------------------#\n",
    "\n",
    "#type your code here to predict for X_test data set using the fitted RF model\n",
    "rf_train_output=clf.predict_proba(X_train)[:,1]\n",
    "\n",
    "rf_test_output=clf.predict_proba(X_test)[:,1]\n",
    "\n",
    "\n",
    "\n"
   ]
  },
  {
   "cell_type": "code",
   "execution_count": 163,
   "metadata": {},
   "outputs": [],
   "source": [
    "#Use a probability threshold to classify customers as churners and non churners (Default = 0.5)\n",
    "rf_prob_cutoff_train,rf_f1_score_val_train=efficient_cutoff(y_train,rf_train_output)\n",
    "rf_prob_cutoff_test,rf_f1_score_val_test=efficient_cutoff(y_test,rf_test_output)\n",
    "\n",
    "\n"
   ]
  },
  {
   "cell_type": "code",
   "execution_count": 166,
   "metadata": {},
   "outputs": [
    {
     "data": {
      "text/plain": [
       "Text(0.5, 0, 'Probability cutoff value - train-set')"
      ]
     },
     "execution_count": 166,
     "metadata": {},
     "output_type": "execute_result"
    },
    {
     "data": {
      "text/plain": [
       "<matplotlib.lines.Line2D at 0x1b3549a7d30>"
      ]
     },
     "execution_count": 166,
     "metadata": {},
     "output_type": "execute_result"
    },
    {
     "data": {
      "text/plain": [
       "Text(0, 0.5, 'f1 score train')"
      ]
     },
     "execution_count": 166,
     "metadata": {},
     "output_type": "execute_result"
    },
    {
     "data": {
      "text/plain": [
       "[<matplotlib.lines.Line2D at 0x1b3566236a0>]"
      ]
     },
     "execution_count": 166,
     "metadata": {},
     "output_type": "execute_result"
    },
    {
     "data": {
      "image/png": "[encoded data removed]",
      "text/plain": [
       "<Figure size 432x288 with 1 Axes>"
      ]
     },
     "metadata": {
      "needs_background": "light"
     },
     "output_type": "display_data"
    }
   ],
   "source": [
    "plt.xlabel(\"Probability cutoff value - train-set\")\n",
    "plt.axvline(x=0.53,color='b',label='avxline-full height')\n",
    "plt.ylabel(\"f1 score train\")\n",
    "plt.plot(rf_prob_cutoff_train,rf_f1_score_val_train)\n",
    "plt.show()"
   ]
  },
  {
   "cell_type": "code",
   "execution_count": 167,
   "metadata": {},
   "outputs": [
    {
     "data": {
      "text/plain": [
       "Text(0.5, 0, 'Probability cutoff value - test-set')"
      ]
     },
     "execution_count": 167,
     "metadata": {},
     "output_type": "execute_result"
    },
    {
     "data": {
      "text/plain": [
       "<matplotlib.lines.Line2D at 0x1b35664f5b0>"
      ]
     },
     "execution_count": 167,
     "metadata": {},
     "output_type": "execute_result"
    },
    {
     "data": {
      "text/plain": [
       "Text(0, 0.5, 'f1 score train')"
      ]
     },
     "execution_count": 167,
     "metadata": {},
     "output_type": "execute_result"
    },
    {
     "data": {
      "text/plain": [
       "[<matplotlib.lines.Line2D at 0x1b356680370>]"
      ]
     },
     "execution_count": 167,
     "metadata": {},
     "output_type": "execute_result"
    },
    {
     "data": {
      "image/png": "[encoded data removed]",
      "text/plain": [
       "<Figure size 432x288 with 1 Axes>"
      ]
     },
     "metadata": {
      "needs_background": "light"
     },
     "output_type": "display_data"
    }
   ],
   "source": [
    "plt.xlabel(\"Probability cutoff value - test-set\")\n",
    "plt.axvline(x=0.53,color='b',label='avxline-full height')\n",
    "plt.ylabel(\"f1 score train\")\n",
    "plt.plot(rf_prob_cutoff_test,rf_f1_score_val_test)\n",
    "plt.show()"
   ]
  },
  {
   "cell_type": "code",
   "execution_count": 170,
   "metadata": {},
   "outputs": [
    {
     "data": {
      "text/plain": [
       "(array([  368.,  1658.,  3255.,  5542.,  7670., 10302.,  9840.,  6985.,\n",
       "         2678.,   324.]),\n",
       " array([0.11113245, 0.18374244, 0.25635243, 0.32896242, 0.4015724 ,\n",
       "        0.47418239, 0.54679238, 0.61940237, 0.69201236, 0.76462234,\n",
       "        0.83723233]),\n",
       " <a list of 10 Patch objects>)"
      ]
     },
     "execution_count": 170,
     "metadata": {},
     "output_type": "execute_result"
    },
    {
     "data": {
      "image/png": "[encoded data removed]",
      "text/plain": [
       "<Figure size 432x288 with 1 Axes>"
      ]
     },
     "metadata": {
      "needs_background": "light"
     },
     "output_type": "display_data"
    }
   ],
   "source": [
    "plt.hist(rf_train_output)"
   ]
  },
  {
   "cell_type": "code",
   "execution_count": 171,
   "metadata": {},
   "outputs": [
    {
     "data": {
      "text/plain": [
       "(array([  90.,  491., 1003., 2226., 3471., 5176., 5164., 2546.,  620.,\n",
       "          51.]),\n",
       " array([0.11040139, 0.18308449, 0.25576758, 0.32845068, 0.40113377,\n",
       "        0.47381686, 0.54649996, 0.61918305, 0.69186614, 0.76454924,\n",
       "        0.83723233]),\n",
       " <a list of 10 Patch objects>)"
      ]
     },
     "execution_count": 171,
     "metadata": {},
     "output_type": "execute_result"
    },
    {
     "data": {
      "image/png": "[encoded data removed]",
      "text/plain": [
       "<Figure size 432x288 with 1 Axes>"
      ]
     },
     "metadata": {
      "needs_background": "light"
     },
     "output_type": "display_data"
    }
   ],
   "source": [
    "plt.hist(rf_test_output)"
   ]
  },
  {
   "cell_type": "code",
   "execution_count": 183,
   "metadata": {},
   "outputs": [],
   "source": [
    "#Evaluate model accuracy using fitted y value and actual y_test\n",
    "rf_test_class=copy.deepcopy(rf_test_output)\n",
    "\n"
   ]
  },
  {
   "cell_type": "code",
   "execution_count": 184,
   "metadata": {},
   "outputs": [],
   "source": [
    "\n",
    "rf_test_class[rf_test_output>=0.53]=1\n",
    "rf_test_class[rf_test_output<0.53]=0\n"
   ]
  },
  {
   "cell_type": "code",
   "execution_count": 185,
   "metadata": {},
   "outputs": [
    {
     "data": {
      "text/plain": [
       "<sklearn.metrics._plot.confusion_matrix.ConfusionMatrixDisplay at 0x1b3567d28b0>"
      ]
     },
     "execution_count": 185,
     "metadata": {},
     "output_type": "execute_result"
    },
    {
     "data": {
      "image/png": "[encoded data removed]",
      "text/plain": [
       "<Figure size 432x288 with 2 Axes>"
      ]
     },
     "metadata": {
      "needs_background": "light"
     },
     "output_type": "display_data"
    }
   ],
   "source": [
    "#confusion matrix\n",
    "cm=confusion_matrix(y_test,rf_test_class)\n",
    "disp=ConfusionMatrixDisplay(cm)\n",
    "disp.plot()"
   ]
  },
  {
   "cell_type": "code",
   "execution_count": 188,
   "metadata": {},
   "outputs": [
    {
     "name": "stdout",
     "output_type": "stream",
     "text": [
      "              precision    recall  f1-score   support\n",
      "\n",
      "           0       0.72      0.76      0.74     10570\n",
      "           1       0.74      0.69      0.71     10268\n",
      "\n",
      "    accuracy                           0.73     20838\n",
      "   macro avg       0.73      0.73      0.73     20838\n",
      "weighted avg       0.73      0.73      0.73     20838\n",
      "\n"
     ]
    }
   ],
   "source": [
    "# Precision, Recall\n",
    "print(classification_report(y_test,rf_test_class))"
   ]
  },
  {
   "cell_type": "code",
   "execution_count": 189,
   "metadata": {},
   "outputs": [
    {
     "name": "stdout",
     "output_type": "stream",
     "text": [
      "gini:0.615870839366842\n",
      "ROC-AUC Score:0.807935419683421\n",
      "Accracy:0.7261733371724733\n"
     ]
    }
   ],
   "source": [
    " rf_test_auc_score=roc_auc_score(y_test, rf_test_output)\n",
    "print(\"gini:{}\".format(2*rf_test_auc_score-1))\n",
    "print(\"ROC-AUC Score:{}\".format(rf_test_auc_score))\n",
    "print(\"Accracy:{}\".format(accuracy_score(y_test, rf_test_class)))"
   ]
  },
  {
   "cell_type": "markdown",
   "metadata": {
    "id": "iKAR6bUolFIb"
   },
   "source": [
    "<mark>__Result:__\n",
    "    \n",
    "Type your answer from the model building exercise here, i.e., which model has better accuracy and using what metrics?"
   ]
  },
  {
   "cell_type": "markdown",
   "metadata": {
    "id": "AixoKv9GlFIb"
   },
   "source": [
    "### Q4.3 Identify most important features impacting churn"
   ]
  },
  {
   "cell_type": "code",
   "execution_count": 194,
   "metadata": {
    "id": "k4T4iPJilFIc"
   },
   "outputs": [
    {
     "data": {
      "text/plain": [
       "<Figure size 360x720 with 0 Axes>"
      ]
     },
     "execution_count": 194,
     "metadata": {},
     "output_type": "execute_result"
    },
    {
     "data": {
      "text/plain": [
       "Text(0.5, 1.0, 'feature Importance plot')"
      ]
     },
     "execution_count": 194,
     "metadata": {},
     "output_type": "execute_result"
    },
    {
     "data": {
      "text/plain": [
       "<matplotlib.axes._subplots.AxesSubplot at 0x1b353ae1610>"
      ]
     },
     "execution_count": 194,
     "metadata": {},
     "output_type": "execute_result"
    },
    {
     "data": {
      "image/png": "[encoded data removed]",
      "text/plain": [
       "<Figure size 360x720 with 1 Axes>"
      ]
     },
     "metadata": {
      "needs_background": "light"
     },
     "output_type": "display_data"
    }
   ],
   "source": [
    "# Type your code here to plot the top 20 important predictor features impacting churn using the Random Forest model created\n",
    "\n",
    "feat_imporatances=pd.Series(clf.feature_importances_, index=X_train.columns)\n",
    "plt.figure(figsize=(5,10))\n",
    "plt.title(\"feature Importance plot\")\n",
    "feat_imporatances.nlargest(20).sort_values(ascending=True).plot(kind='barh',)\n"
   ]
  },
  {
   "cell_type": "markdown",
   "metadata": {
    "id": "b34fvkuvlFId"
   },
   "source": [
    "## Q5. Use the hold out data provided to predict churners using the best model identified in step 4 "
   ]
  },
  {
   "cell_type": "code",
   "execution_count": null,
   "metadata": {
    "id": "inhr0oBulFIe"
   },
   "outputs": [],
   "source": [
    "#Type your code here to predict churners based on the hold out data set provided\n",
    "#Note #1: use \"create_features(cust_df)\" functions to create the additional list of features in the hold out data set\n",
    "#Note #2: Also, perform feature scaling and dummy variables creation as performed during the initial stages of step #4\n",
    "\n",
    "#Use \"predict\" function on the transformend data using the best fitted model object\n",
    "\n"
   ]
  },
  {
   "cell_type": "markdown",
   "metadata": {
    "id": "abauS3GolFIe"
   },
   "source": [
    "## Q6. [Bonus Question] Calculate lift chart and total monthly revenue saved by targeting top 10-20% of the customers using your best predictive model"
   ]
  },
  {
   "cell_type": "code",
   "execution_count": null,
   "metadata": {
    "id": "6q6go8_olFIe"
   },
   "outputs": [],
   "source": [
    "#Type your code here to plot the lift chart from the best model\n",
    "#Identify the lift i.e. 3x of capturing churn with and without using the model \n",
    "#(Assume: only top 20% high risk customers are to be targetted)\n",
    "\n",
    "\n",
    "\n",
    "\n"
   ]
  },
  {
   "cell_type": "markdown",
   "metadata": {
    "id": "5BCprZwTlFIe"
   },
   "source": [
    "<mark>__Result:__\n",
    "    \n",
    "1. What is the % actual churn captured by targeting top 20% (top 2 deciles) of the customers sorted by their churn probability?\n",
    "2. What is the total monthly revenue of actual churn customers identified in the top 20% of the customers?\n",
    "   "
   ]
  }
 ],
 "metadata": {
  "colab": {
   "name": "Project 8 Starter Code.ipynb",
   "provenance": []
  },
  "kernelspec": {
   "display_name": "Python 3",
   "language": "python",
   "name": "python3"
  },
  "language_info": {
   "codemirror_mode": {
    "name": "ipython",
    "version": 3
   },
   "file_extension": ".py",
   "mimetype": "text/x-python",
   "name": "python",
   "nbconvert_exporter": "python",
   "pygments_lexer": "ipython3",
   "version": "3.8.3"
  }
 },
 "nbformat": 4,
 "nbformat_minor": 1
}
