{
 "cells": [
  {
   "cell_type": "markdown",
   "metadata": {
    "id": "WWbqxNLZlFII"
   },
   "source": [
    "# Project 8: Machine Learning for Predictive Analytics"
   ]
  },
  {
   "cell_type": "markdown",
   "metadata": {
    "id": "RCrmVhYDlFIJ"
   },
   "source": [
    "## Packages and setup"
   ]
  },
  {
   "cell_type": "code",
   "execution_count": 1,
   "metadata": {
    "id": "duCWbBPRlFIK"
   },
   "outputs": [],
   "source": [
    "import numpy as np\n",
    "import pandas as pd \n",
    "import seaborn as sns\n",
    "import matplotlib.pyplot as plt\n",
    "import os\n",
    "\n",
    "from scipy.stats import shapiro\n",
    "import scipy.stats as stats\n",
    "\n",
    "#parameter settings\n",
    "from IPython.core.interactiveshell import InteractiveShell\n",
    "InteractiveShell.ast_node_interactivity = \"all\"\n",
    "import warnings\n",
    "warnings.filterwarnings(\"ignore\")\n",
    "warnings.simplefilter(action='ignore', category=FutureWarning)"
   ]
  },
  {
   "cell_type": "markdown",
   "metadata": {
    "id": "VoDtZpyJlFIK"
   },
   "source": [
    "## Reading data and initial processing"
   ]
  },
  {
   "cell_type": "code",
   "execution_count": 2,
   "metadata": {
    "id": "br8Y20g5lFIL"
   },
   "outputs": [],
   "source": [
    "#edit the file location of raw data set\n",
    "cust_df=pd.read_csv(\"e:/aine/project8/project8/data/Telecom Data.csv\")\n",
    "pred_df=pd.read_csv(\"e:/aine/project8/project8/data/Telecom - Prediction Data.csv\")"
   ]
  },
  {
   "cell_type": "markdown",
   "metadata": {
    "id": "arTuXCYclFIL"
   },
   "source": [
    "## Exercise"
   ]
  },
  {
   "cell_type": "markdown",
   "metadata": {
    "id": "46n6OhqOlFIN"
   },
   "source": [
    "## Placeholder for your analysis"
   ]
  },
  {
   "cell_type": "code",
   "execution_count": 3,
   "metadata": {
    "id": "xDu2UNTvlFIO"
   },
   "outputs": [
    {
     "data": {
      "text/plain": [
       "(51047, 58)"
      ]
     },
     "execution_count": 3,
     "metadata": {},
     "output_type": "execute_result"
    }
   ],
   "source": [
    "# Type your code here to explore and understand the data better\n",
    "\n",
    "#e.g., identify the dimension of cust_df\n",
    "cust_df.shape"
   ]
  },
  {
   "cell_type": "code",
   "execution_count": 4,
   "metadata": {
    "scrolled": true
   },
   "outputs": [
    {
     "data": {
      "text/html": [
       "<div>\n",
       "<style scoped>\n",
       "    .dataframe tbody tr th:only-of-type {\n",
       "        vertical-align: middle;\n",
       "    }\n",
       "\n",
       "    .dataframe tbody tr th {\n",
       "        vertical-align: top;\n",
       "    }\n",
       "\n",
       "    .dataframe thead th {\n",
       "        text-align: right;\n",
       "    }\n",
       "</style>\n",
       "<table border=\"1\" class=\"dataframe\">\n",
       "  <thead>\n",
       "    <tr style=\"text-align: right;\">\n",
       "      <th></th>\n",
       "      <th>CustomerID</th>\n",
       "      <th>Churn</th>\n",
       "      <th>MonthlyRevenue</th>\n",
       "      <th>MonthlyMinutes</th>\n",
       "      <th>TotalRecurringCharge</th>\n",
       "      <th>DirectorAssistedCalls</th>\n",
       "      <th>OverageMinutes</th>\n",
       "      <th>RoamingCalls</th>\n",
       "      <th>PercChangeMinutes</th>\n",
       "      <th>PercChangeRevenues</th>\n",
       "      <th>...</th>\n",
       "      <th>ReferralsMadeBySubscriber</th>\n",
       "      <th>IncomeGroup</th>\n",
       "      <th>OwnsMotorcycle</th>\n",
       "      <th>AdjustmentsToCreditRating</th>\n",
       "      <th>HandsetPrice</th>\n",
       "      <th>MadeCallToRetentionTeam</th>\n",
       "      <th>CreditRating</th>\n",
       "      <th>PrizmCode</th>\n",
       "      <th>Occupation</th>\n",
       "      <th>MaritalStatus</th>\n",
       "    </tr>\n",
       "  </thead>\n",
       "  <tbody>\n",
       "    <tr>\n",
       "      <th>0</th>\n",
       "      <td>3000002</td>\n",
       "      <td>Yes</td>\n",
       "      <td>24.00</td>\n",
       "      <td>219.0</td>\n",
       "      <td>22.0</td>\n",
       "      <td>0.25</td>\n",
       "      <td>0.0</td>\n",
       "      <td>0.0</td>\n",
       "      <td>-157.0</td>\n",
       "      <td>-19.0</td>\n",
       "      <td>...</td>\n",
       "      <td>0</td>\n",
       "      <td>4</td>\n",
       "      <td>No</td>\n",
       "      <td>0</td>\n",
       "      <td>30</td>\n",
       "      <td>Yes</td>\n",
       "      <td>1-Highest</td>\n",
       "      <td>Suburban</td>\n",
       "      <td>Professional</td>\n",
       "      <td>No</td>\n",
       "    </tr>\n",
       "    <tr>\n",
       "      <th>1</th>\n",
       "      <td>3000010</td>\n",
       "      <td>Yes</td>\n",
       "      <td>16.99</td>\n",
       "      <td>10.0</td>\n",
       "      <td>17.0</td>\n",
       "      <td>0.00</td>\n",
       "      <td>0.0</td>\n",
       "      <td>0.0</td>\n",
       "      <td>-4.0</td>\n",
       "      <td>0.0</td>\n",
       "      <td>...</td>\n",
       "      <td>0</td>\n",
       "      <td>5</td>\n",
       "      <td>No</td>\n",
       "      <td>0</td>\n",
       "      <td>30</td>\n",
       "      <td>No</td>\n",
       "      <td>4-Medium</td>\n",
       "      <td>Suburban</td>\n",
       "      <td>Professional</td>\n",
       "      <td>Yes</td>\n",
       "    </tr>\n",
       "    <tr>\n",
       "      <th>2</th>\n",
       "      <td>3000014</td>\n",
       "      <td>No</td>\n",
       "      <td>38.00</td>\n",
       "      <td>8.0</td>\n",
       "      <td>38.0</td>\n",
       "      <td>0.00</td>\n",
       "      <td>0.0</td>\n",
       "      <td>0.0</td>\n",
       "      <td>-2.0</td>\n",
       "      <td>0.0</td>\n",
       "      <td>...</td>\n",
       "      <td>0</td>\n",
       "      <td>6</td>\n",
       "      <td>No</td>\n",
       "      <td>0</td>\n",
       "      <td>Unknown</td>\n",
       "      <td>No</td>\n",
       "      <td>3-Good</td>\n",
       "      <td>Town</td>\n",
       "      <td>Crafts</td>\n",
       "      <td>Yes</td>\n",
       "    </tr>\n",
       "    <tr>\n",
       "      <th>3</th>\n",
       "      <td>3000022</td>\n",
       "      <td>No</td>\n",
       "      <td>82.28</td>\n",
       "      <td>1312.0</td>\n",
       "      <td>75.0</td>\n",
       "      <td>1.24</td>\n",
       "      <td>0.0</td>\n",
       "      <td>0.0</td>\n",
       "      <td>157.0</td>\n",
       "      <td>8.1</td>\n",
       "      <td>...</td>\n",
       "      <td>0</td>\n",
       "      <td>6</td>\n",
       "      <td>No</td>\n",
       "      <td>0</td>\n",
       "      <td>10</td>\n",
       "      <td>No</td>\n",
       "      <td>4-Medium</td>\n",
       "      <td>Other</td>\n",
       "      <td>Other</td>\n",
       "      <td>No</td>\n",
       "    </tr>\n",
       "    <tr>\n",
       "      <th>4</th>\n",
       "      <td>3000026</td>\n",
       "      <td>Yes</td>\n",
       "      <td>17.14</td>\n",
       "      <td>0.0</td>\n",
       "      <td>17.0</td>\n",
       "      <td>0.00</td>\n",
       "      <td>0.0</td>\n",
       "      <td>0.0</td>\n",
       "      <td>0.0</td>\n",
       "      <td>-0.2</td>\n",
       "      <td>...</td>\n",
       "      <td>0</td>\n",
       "      <td>9</td>\n",
       "      <td>No</td>\n",
       "      <td>1</td>\n",
       "      <td>10</td>\n",
       "      <td>No</td>\n",
       "      <td>1-Highest</td>\n",
       "      <td>Other</td>\n",
       "      <td>Professional</td>\n",
       "      <td>Yes</td>\n",
       "    </tr>\n",
       "  </tbody>\n",
       "</table>\n",
       "<p>5 rows × 58 columns</p>\n",
       "</div>"
      ],
      "text/plain": [
       "   CustomerID Churn  MonthlyRevenue  MonthlyMinutes  TotalRecurringCharge  \\\n",
       "0     3000002   Yes           24.00           219.0                  22.0   \n",
       "1     3000010   Yes           16.99            10.0                  17.0   \n",
       "2     3000014    No           38.00             8.0                  38.0   \n",
       "3     3000022    No           82.28          1312.0                  75.0   \n",
       "4     3000026   Yes           17.14             0.0                  17.0   \n",
       "\n",
       "   DirectorAssistedCalls  OverageMinutes  RoamingCalls  PercChangeMinutes  \\\n",
       "0                   0.25             0.0           0.0             -157.0   \n",
       "1                   0.00             0.0           0.0               -4.0   \n",
       "2                   0.00             0.0           0.0               -2.0   \n",
       "3                   1.24             0.0           0.0              157.0   \n",
       "4                   0.00             0.0           0.0                0.0   \n",
       "\n",
       "   PercChangeRevenues  ...  ReferralsMadeBySubscriber  IncomeGroup  \\\n",
       "0               -19.0  ...                          0            4   \n",
       "1                 0.0  ...                          0            5   \n",
       "2                 0.0  ...                          0            6   \n",
       "3                 8.1  ...                          0            6   \n",
       "4                -0.2  ...                          0            9   \n",
       "\n",
       "   OwnsMotorcycle  AdjustmentsToCreditRating  HandsetPrice  \\\n",
       "0              No                          0            30   \n",
       "1              No                          0            30   \n",
       "2              No                          0       Unknown   \n",
       "3              No                          0            10   \n",
       "4              No                          1            10   \n",
       "\n",
       "   MadeCallToRetentionTeam  CreditRating  PrizmCode    Occupation  \\\n",
       "0                      Yes     1-Highest   Suburban  Professional   \n",
       "1                       No      4-Medium   Suburban  Professional   \n",
       "2                       No        3-Good       Town        Crafts   \n",
       "3                       No      4-Medium      Other         Other   \n",
       "4                       No     1-Highest      Other  Professional   \n",
       "\n",
       "   MaritalStatus  \n",
       "0             No  \n",
       "1            Yes  \n",
       "2            Yes  \n",
       "3             No  \n",
       "4            Yes  \n",
       "\n",
       "[5 rows x 58 columns]"
      ]
     },
     "execution_count": 4,
     "metadata": {},
     "output_type": "execute_result"
    }
   ],
   "source": [
    "cust_df.head()"
   ]
  },
  {
   "cell_type": "code",
   "execution_count": 5,
   "metadata": {},
   "outputs": [
    {
     "data": {
      "text/html": [
       "<div>\n",
       "<style scoped>\n",
       "    .dataframe tbody tr th:only-of-type {\n",
       "        vertical-align: middle;\n",
       "    }\n",
       "\n",
       "    .dataframe tbody tr th {\n",
       "        vertical-align: top;\n",
       "    }\n",
       "\n",
       "    .dataframe thead th {\n",
       "        text-align: right;\n",
       "    }\n",
       "</style>\n",
       "<table border=\"1\" class=\"dataframe\">\n",
       "  <thead>\n",
       "    <tr style=\"text-align: right;\">\n",
       "      <th></th>\n",
       "      <th>CustomerID</th>\n",
       "      <th>MonthlyRevenue</th>\n",
       "      <th>MonthlyMinutes</th>\n",
       "      <th>TotalRecurringCharge</th>\n",
       "      <th>DirectorAssistedCalls</th>\n",
       "      <th>OverageMinutes</th>\n",
       "      <th>RoamingCalls</th>\n",
       "      <th>PercChangeMinutes</th>\n",
       "      <th>PercChangeRevenues</th>\n",
       "      <th>DroppedCalls</th>\n",
       "      <th>...</th>\n",
       "      <th>Handsets</th>\n",
       "      <th>HandsetModels</th>\n",
       "      <th>CurrentEquipmentDays</th>\n",
       "      <th>AgeHH1</th>\n",
       "      <th>AgeHH2</th>\n",
       "      <th>RetentionCalls</th>\n",
       "      <th>RetentionOffersAccepted</th>\n",
       "      <th>ReferralsMadeBySubscriber</th>\n",
       "      <th>IncomeGroup</th>\n",
       "      <th>AdjustmentsToCreditRating</th>\n",
       "    </tr>\n",
       "  </thead>\n",
       "  <tbody>\n",
       "    <tr>\n",
       "      <th>count</th>\n",
       "      <td>5.104700e+04</td>\n",
       "      <td>50891.000000</td>\n",
       "      <td>50891.000000</td>\n",
       "      <td>50891.000000</td>\n",
       "      <td>50891.000000</td>\n",
       "      <td>50891.000000</td>\n",
       "      <td>50891.000000</td>\n",
       "      <td>50680.000000</td>\n",
       "      <td>50680.000000</td>\n",
       "      <td>51047.000000</td>\n",
       "      <td>...</td>\n",
       "      <td>51046.000000</td>\n",
       "      <td>51046.000000</td>\n",
       "      <td>51046.000000</td>\n",
       "      <td>50138.000000</td>\n",
       "      <td>50138.000000</td>\n",
       "      <td>51047.000000</td>\n",
       "      <td>51047.000000</td>\n",
       "      <td>51047.000000</td>\n",
       "      <td>51047.000000</td>\n",
       "      <td>51047.000000</td>\n",
       "    </tr>\n",
       "    <tr>\n",
       "      <th>mean</th>\n",
       "      <td>3.201957e+06</td>\n",
       "      <td>58.834492</td>\n",
       "      <td>525.653416</td>\n",
       "      <td>46.830088</td>\n",
       "      <td>0.895229</td>\n",
       "      <td>40.027785</td>\n",
       "      <td>1.236244</td>\n",
       "      <td>-11.547908</td>\n",
       "      <td>-1.191985</td>\n",
       "      <td>6.011489</td>\n",
       "      <td>...</td>\n",
       "      <td>1.805646</td>\n",
       "      <td>1.558751</td>\n",
       "      <td>380.545841</td>\n",
       "      <td>31.338127</td>\n",
       "      <td>21.144142</td>\n",
       "      <td>0.037201</td>\n",
       "      <td>0.018277</td>\n",
       "      <td>0.052070</td>\n",
       "      <td>4.324524</td>\n",
       "      <td>0.053911</td>\n",
       "    </tr>\n",
       "    <tr>\n",
       "      <th>std</th>\n",
       "      <td>1.169056e+05</td>\n",
       "      <td>44.507336</td>\n",
       "      <td>529.871063</td>\n",
       "      <td>23.848871</td>\n",
       "      <td>2.228546</td>\n",
       "      <td>96.588076</td>\n",
       "      <td>9.818294</td>\n",
       "      <td>257.514772</td>\n",
       "      <td>39.574915</td>\n",
       "      <td>9.043955</td>\n",
       "      <td>...</td>\n",
       "      <td>1.331173</td>\n",
       "      <td>0.905932</td>\n",
       "      <td>253.801982</td>\n",
       "      <td>22.094635</td>\n",
       "      <td>23.931368</td>\n",
       "      <td>0.206483</td>\n",
       "      <td>0.142458</td>\n",
       "      <td>0.307592</td>\n",
       "      <td>3.138236</td>\n",
       "      <td>0.383147</td>\n",
       "    </tr>\n",
       "    <tr>\n",
       "      <th>min</th>\n",
       "      <td>3.000002e+06</td>\n",
       "      <td>-6.170000</td>\n",
       "      <td>0.000000</td>\n",
       "      <td>-11.000000</td>\n",
       "      <td>0.000000</td>\n",
       "      <td>0.000000</td>\n",
       "      <td>0.000000</td>\n",
       "      <td>-3875.000000</td>\n",
       "      <td>-1107.700000</td>\n",
       "      <td>0.000000</td>\n",
       "      <td>...</td>\n",
       "      <td>1.000000</td>\n",
       "      <td>1.000000</td>\n",
       "      <td>-5.000000</td>\n",
       "      <td>0.000000</td>\n",
       "      <td>0.000000</td>\n",
       "      <td>0.000000</td>\n",
       "      <td>0.000000</td>\n",
       "      <td>0.000000</td>\n",
       "      <td>0.000000</td>\n",
       "      <td>0.000000</td>\n",
       "    </tr>\n",
       "    <tr>\n",
       "      <th>25%</th>\n",
       "      <td>3.100632e+06</td>\n",
       "      <td>33.610000</td>\n",
       "      <td>158.000000</td>\n",
       "      <td>30.000000</td>\n",
       "      <td>0.000000</td>\n",
       "      <td>0.000000</td>\n",
       "      <td>0.000000</td>\n",
       "      <td>-83.000000</td>\n",
       "      <td>-7.100000</td>\n",
       "      <td>0.700000</td>\n",
       "      <td>...</td>\n",
       "      <td>1.000000</td>\n",
       "      <td>1.000000</td>\n",
       "      <td>205.000000</td>\n",
       "      <td>0.000000</td>\n",
       "      <td>0.000000</td>\n",
       "      <td>0.000000</td>\n",
       "      <td>0.000000</td>\n",
       "      <td>0.000000</td>\n",
       "      <td>0.000000</td>\n",
       "      <td>0.000000</td>\n",
       "    </tr>\n",
       "    <tr>\n",
       "      <th>50%</th>\n",
       "      <td>3.201534e+06</td>\n",
       "      <td>48.460000</td>\n",
       "      <td>366.000000</td>\n",
       "      <td>45.000000</td>\n",
       "      <td>0.250000</td>\n",
       "      <td>3.000000</td>\n",
       "      <td>0.000000</td>\n",
       "      <td>-5.000000</td>\n",
       "      <td>-0.300000</td>\n",
       "      <td>3.000000</td>\n",
       "      <td>...</td>\n",
       "      <td>1.000000</td>\n",
       "      <td>1.000000</td>\n",
       "      <td>329.000000</td>\n",
       "      <td>36.000000</td>\n",
       "      <td>0.000000</td>\n",
       "      <td>0.000000</td>\n",
       "      <td>0.000000</td>\n",
       "      <td>0.000000</td>\n",
       "      <td>5.000000</td>\n",
       "      <td>0.000000</td>\n",
       "    </tr>\n",
       "    <tr>\n",
       "      <th>75%</th>\n",
       "      <td>3.305376e+06</td>\n",
       "      <td>71.065000</td>\n",
       "      <td>723.000000</td>\n",
       "      <td>60.000000</td>\n",
       "      <td>0.990000</td>\n",
       "      <td>41.000000</td>\n",
       "      <td>0.300000</td>\n",
       "      <td>66.000000</td>\n",
       "      <td>1.600000</td>\n",
       "      <td>7.700000</td>\n",
       "      <td>...</td>\n",
       "      <td>2.000000</td>\n",
       "      <td>2.000000</td>\n",
       "      <td>515.000000</td>\n",
       "      <td>48.000000</td>\n",
       "      <td>42.000000</td>\n",
       "      <td>0.000000</td>\n",
       "      <td>0.000000</td>\n",
       "      <td>0.000000</td>\n",
       "      <td>7.000000</td>\n",
       "      <td>0.000000</td>\n",
       "    </tr>\n",
       "    <tr>\n",
       "      <th>max</th>\n",
       "      <td>3.399994e+06</td>\n",
       "      <td>1223.380000</td>\n",
       "      <td>7359.000000</td>\n",
       "      <td>400.000000</td>\n",
       "      <td>159.390000</td>\n",
       "      <td>4321.000000</td>\n",
       "      <td>1112.400000</td>\n",
       "      <td>5192.000000</td>\n",
       "      <td>2483.500000</td>\n",
       "      <td>221.700000</td>\n",
       "      <td>...</td>\n",
       "      <td>24.000000</td>\n",
       "      <td>15.000000</td>\n",
       "      <td>1812.000000</td>\n",
       "      <td>99.000000</td>\n",
       "      <td>99.000000</td>\n",
       "      <td>4.000000</td>\n",
       "      <td>3.000000</td>\n",
       "      <td>35.000000</td>\n",
       "      <td>9.000000</td>\n",
       "      <td>25.000000</td>\n",
       "    </tr>\n",
       "  </tbody>\n",
       "</table>\n",
       "<p>8 rows × 35 columns</p>\n",
       "</div>"
      ],
      "text/plain": [
       "         CustomerID  MonthlyRevenue  MonthlyMinutes  TotalRecurringCharge  \\\n",
       "count  5.104700e+04    50891.000000    50891.000000          50891.000000   \n",
       "mean   3.201957e+06       58.834492      525.653416             46.830088   \n",
       "std    1.169056e+05       44.507336      529.871063             23.848871   \n",
       "min    3.000002e+06       -6.170000        0.000000            -11.000000   \n",
       "25%    3.100632e+06       33.610000      158.000000             30.000000   \n",
       "50%    3.201534e+06       48.460000      366.000000             45.000000   \n",
       "75%    3.305376e+06       71.065000      723.000000             60.000000   \n",
       "max    3.399994e+06     1223.380000     7359.000000            400.000000   \n",
       "\n",
       "       DirectorAssistedCalls  OverageMinutes  RoamingCalls  PercChangeMinutes  \\\n",
       "count           50891.000000    50891.000000  50891.000000       50680.000000   \n",
       "mean                0.895229       40.027785      1.236244         -11.547908   \n",
       "std                 2.228546       96.588076      9.818294         257.514772   \n",
       "min                 0.000000        0.000000      0.000000       -3875.000000   \n",
       "25%                 0.000000        0.000000      0.000000         -83.000000   \n",
       "50%                 0.250000        3.000000      0.000000          -5.000000   \n",
       "75%                 0.990000       41.000000      0.300000          66.000000   \n",
       "max               159.390000     4321.000000   1112.400000        5192.000000   \n",
       "\n",
       "       PercChangeRevenues  DroppedCalls  ...      Handsets  HandsetModels  \\\n",
       "count        50680.000000  51047.000000  ...  51046.000000   51046.000000   \n",
       "mean            -1.191985      6.011489  ...      1.805646       1.558751   \n",
       "std             39.574915      9.043955  ...      1.331173       0.905932   \n",
       "min          -1107.700000      0.000000  ...      1.000000       1.000000   \n",
       "25%             -7.100000      0.700000  ...      1.000000       1.000000   \n",
       "50%             -0.300000      3.000000  ...      1.000000       1.000000   \n",
       "75%              1.600000      7.700000  ...      2.000000       2.000000   \n",
       "max           2483.500000    221.700000  ...     24.000000      15.000000   \n",
       "\n",
       "       CurrentEquipmentDays        AgeHH1        AgeHH2  RetentionCalls  \\\n",
       "count          51046.000000  50138.000000  50138.000000    51047.000000   \n",
       "mean             380.545841     31.338127     21.144142        0.037201   \n",
       "std              253.801982     22.094635     23.931368        0.206483   \n",
       "min               -5.000000      0.000000      0.000000        0.000000   \n",
       "25%              205.000000      0.000000      0.000000        0.000000   \n",
       "50%              329.000000     36.000000      0.000000        0.000000   \n",
       "75%              515.000000     48.000000     42.000000        0.000000   \n",
       "max             1812.000000     99.000000     99.000000        4.000000   \n",
       "\n",
       "       RetentionOffersAccepted  ReferralsMadeBySubscriber   IncomeGroup  \\\n",
       "count             51047.000000               51047.000000  51047.000000   \n",
       "mean                  0.018277                   0.052070      4.324524   \n",
       "std                   0.142458                   0.307592      3.138236   \n",
       "min                   0.000000                   0.000000      0.000000   \n",
       "25%                   0.000000                   0.000000      0.000000   \n",
       "50%                   0.000000                   0.000000      5.000000   \n",
       "75%                   0.000000                   0.000000      7.000000   \n",
       "max                   3.000000                  35.000000      9.000000   \n",
       "\n",
       "       AdjustmentsToCreditRating  \n",
       "count               51047.000000  \n",
       "mean                    0.053911  \n",
       "std                     0.383147  \n",
       "min                     0.000000  \n",
       "25%                     0.000000  \n",
       "50%                     0.000000  \n",
       "75%                     0.000000  \n",
       "max                    25.000000  \n",
       "\n",
       "[8 rows x 35 columns]"
      ]
     },
     "execution_count": 5,
     "metadata": {},
     "output_type": "execute_result"
    }
   ],
   "source": [
    "cust_df.describe()"
   ]
  },
  {
   "cell_type": "code",
   "execution_count": 6,
   "metadata": {},
   "outputs": [
    {
     "data": {
      "text/plain": [
       "1.0"
      ]
     },
     "execution_count": 6,
     "metadata": {},
     "output_type": "execute_result"
    },
    {
     "data": {
      "text/plain": [
       "1.0"
      ]
     },
     "execution_count": 6,
     "metadata": {},
     "output_type": "execute_result"
    }
   ],
   "source": [
    "#check any duplicate customer are present\n",
    "cust_df.CustomerID.nunique()/cust_df.shape[0]\n",
    "pred_df.CustomerID.nunique()/pred_df.shape[0]"
   ]
  },
  {
   "cell_type": "code",
   "execution_count": 7,
   "metadata": {},
   "outputs": [
    {
     "data": {
      "text/plain": [
       "Index(['CustomerID', 'Churn', 'MonthlyRevenue', 'MonthlyMinutes',\n",
       "       'TotalRecurringCharge', 'DirectorAssistedCalls', 'OverageMinutes',\n",
       "       'RoamingCalls', 'PercChangeMinutes', 'PercChangeRevenues',\n",
       "       'DroppedCalls', 'BlockedCalls', 'UnansweredCalls', 'CustomerCareCalls',\n",
       "       'ThreewayCalls', 'ReceivedCalls', 'OutboundCalls', 'InboundCalls',\n",
       "       'PeakCallsInOut', 'OffPeakCallsInOut', 'DroppedBlockedCalls',\n",
       "       'CallForwardingCalls', 'CallWaitingCalls', 'MonthsInService',\n",
       "       'UniqueSubs', 'ActiveSubs', 'ServiceArea', 'Handsets', 'HandsetModels',\n",
       "       'CurrentEquipmentDays', 'AgeHH1', 'AgeHH2', 'ChildrenInHH',\n",
       "       'HandsetRefurbished', 'HandsetWebCapable', 'TruckOwner', 'RVOwner',\n",
       "       'Homeownership', 'BuysViaMailOrder', 'RespondsToMailOffers',\n",
       "       'OptOutMailings', 'NonUSTravel', 'OwnsComputer', 'HasCreditCard',\n",
       "       'RetentionCalls', 'RetentionOffersAccepted', 'NewCellphoneUser',\n",
       "       'NotNewCellphoneUser', 'ReferralsMadeBySubscriber', 'IncomeGroup',\n",
       "       'OwnsMotorcycle', 'AdjustmentsToCreditRating', 'HandsetPrice',\n",
       "       'MadeCallToRetentionTeam', 'CreditRating', 'PrizmCode', 'Occupation',\n",
       "       'MaritalStatus'],\n",
       "      dtype='object')"
      ]
     },
     "execution_count": 7,
     "metadata": {},
     "output_type": "execute_result"
    }
   ],
   "source": [
    "cust_df.columns"
   ]
  },
  {
   "cell_type": "code",
   "execution_count": 8,
   "metadata": {},
   "outputs": [
    {
     "data": {
      "text/plain": [
       "(58, 58)"
      ]
     },
     "execution_count": 8,
     "metadata": {},
     "output_type": "execute_result"
    }
   ],
   "source": [
    "len(pred_df.columns), len(cust_df.columns)"
   ]
  },
  {
   "cell_type": "code",
   "execution_count": 9,
   "metadata": {},
   "outputs": [
    {
     "data": {
      "text/plain": [
       "No     36336\n",
       "Yes    14711\n",
       "Name: Churn, dtype: int64"
      ]
     },
     "execution_count": 9,
     "metadata": {},
     "output_type": "execute_result"
    }
   ],
   "source": [
    "cust_df.Churn.value_counts()"
   ]
  },
  {
   "cell_type": "code",
   "execution_count": 10,
   "metadata": {},
   "outputs": [
    {
     "data": {
      "text/plain": [
       "No     71.18146\n",
       "Yes    28.81854\n",
       "Name: Churn, dtype: float64"
      ]
     },
     "execution_count": 10,
     "metadata": {},
     "output_type": "execute_result"
    }
   ],
   "source": [
    "100*cust_df.Churn.value_counts()/cust_df.shape[0]"
   ]
  },
  {
   "cell_type": "markdown",
   "metadata": {
    "id": "rsOVIvHSlFIO"
   },
   "source": [
    "## Q1. Detect and resolve problems in the data (Missing value, Outliers, Unexpected value, etc.)"
   ]
  },
  {
   "cell_type": "markdown",
   "metadata": {
    "id": "qoX4uCUIlFIP"
   },
   "source": [
    "### Q1.1 How many customers had zero monthly revenue?"
   ]
  },
  {
   "cell_type": "code",
   "execution_count": 11,
   "metadata": {
    "id": "qSmjZ8QQlFIP"
   },
   "outputs": [
    {
     "data": {
      "text/plain": [
       "6"
      ]
     },
     "execution_count": 11,
     "metadata": {},
     "output_type": "execute_result"
    }
   ],
   "source": [
    "#How many customers had zero monthly revenue?\n",
    "cust_df[cust_df.MonthlyRevenue==0].shape[0]\n",
    "\n"
   ]
  },
  {
   "cell_type": "markdown",
   "metadata": {},
   "source": [
    "<mark>__Result:__\n",
    "    \n",
    "<span style='font-size:30px;'>&#9997; </span>\n",
    "    6 customers have 0 monthly revenue"
   ]
  },
  {
   "cell_type": "code",
   "execution_count": 12,
   "metadata": {},
   "outputs": [
    {
     "data": {
      "text/plain": [
       "(50162, 58)"
      ]
     },
     "execution_count": 12,
     "metadata": {},
     "output_type": "execute_result"
    }
   ],
   "source": [
    "#Exclude the customers with zero monthly revenue from cust_df\n",
    "cust_df=cust_df[cust_df.MonthlyRevenue>0.0]\n",
    "#Exclude the customers with zero Monthly Minutes from cust_df\n",
    "cust_df=cust_df[cust_df[\"MonthlyMinutes\"]>0.0]\n",
    "\n",
    "cust_df.shape"
   ]
  },
  {
   "cell_type": "markdown",
   "metadata": {
    "id": "IEil-5AblFIP"
   },
   "source": [
    "### Q1.2 How many columns has missing values percentage > 5%"
   ]
  },
  {
   "cell_type": "code",
   "execution_count": 13,
   "metadata": {
    "id": "9r1UrF0PlFIQ"
   },
   "outputs": [
    {
     "data": {
      "text/plain": [
       "CustomerID                   0.000000\n",
       "Churn                        0.000000\n",
       "MonthlyRevenue               0.000000\n",
       "MonthlyMinutes               0.000000\n",
       "TotalRecurringCharge         0.000000\n",
       "DirectorAssistedCalls        0.000000\n",
       "OverageMinutes               0.000000\n",
       "RoamingCalls                 0.000000\n",
       "PercChangeMinutes            0.344883\n",
       "PercChangeRevenues           0.344883\n",
       "DroppedCalls                 0.000000\n",
       "BlockedCalls                 0.000000\n",
       "UnansweredCalls              0.000000\n",
       "CustomerCareCalls            0.000000\n",
       "ThreewayCalls                0.000000\n",
       "ReceivedCalls                0.000000\n",
       "OutboundCalls                0.000000\n",
       "InboundCalls                 0.000000\n",
       "PeakCallsInOut               0.000000\n",
       "OffPeakCallsInOut            0.000000\n",
       "DroppedBlockedCalls          0.000000\n",
       "CallForwardingCalls          0.000000\n",
       "CallWaitingCalls             0.000000\n",
       "MonthsInService              0.000000\n",
       "UniqueSubs                   0.000000\n",
       "ActiveSubs                   0.000000\n",
       "ServiceArea                  0.047845\n",
       "Handsets                     0.000000\n",
       "HandsetModels                0.000000\n",
       "CurrentEquipmentDays         0.000000\n",
       "AgeHH1                       1.772258\n",
       "AgeHH2                       1.772258\n",
       "ChildrenInHH                 0.000000\n",
       "HandsetRefurbished           0.000000\n",
       "HandsetWebCapable            0.000000\n",
       "TruckOwner                   0.000000\n",
       "RVOwner                      0.000000\n",
       "Homeownership                0.000000\n",
       "BuysViaMailOrder             0.000000\n",
       "RespondsToMailOffers         0.000000\n",
       "OptOutMailings               0.000000\n",
       "NonUSTravel                  0.000000\n",
       "OwnsComputer                 0.000000\n",
       "HasCreditCard                0.000000\n",
       "RetentionCalls               0.000000\n",
       "RetentionOffersAccepted      0.000000\n",
       "NewCellphoneUser             0.000000\n",
       "NotNewCellphoneUser          0.000000\n",
       "ReferralsMadeBySubscriber    0.000000\n",
       "IncomeGroup                  0.000000\n",
       "OwnsMotorcycle               0.000000\n",
       "AdjustmentsToCreditRating    0.000000\n",
       "HandsetPrice                 0.000000\n",
       "MadeCallToRetentionTeam      0.000000\n",
       "CreditRating                 0.000000\n",
       "PrizmCode                    0.000000\n",
       "Occupation                   0.000000\n",
       "MaritalStatus                0.000000\n",
       "dtype: float64"
      ]
     },
     "execution_count": 13,
     "metadata": {},
     "output_type": "execute_result"
    }
   ],
   "source": [
    "#Calculate for each column % of missing value in the data\n",
    "#How many columns has missing values percentage > 5%\n",
    "\n",
    "100*cust_df.isnull().sum()/cust_df.shape[0]"
   ]
  },
  {
   "cell_type": "markdown",
   "metadata": {
    "id": "wtaCwTMqlFIQ"
   },
   "source": [
    "<mark>__Result:__\n",
    "    \n",
    "<span style='font-size:30px;'>&#9997; </span>\n",
    "\n",
    "Below 5 features are having missing values. None of columns has missing values percentage > 5%\n",
    "\n",
    "|Feature |%Percetage of Missing Values|\n",
    "|:-----|:----:|\n",
    "|PercChangeMinutes |0.3449|\n",
    "|PercChangeRevenues|0.3449|\n",
    "|AgeHH1|1.7723|\n",
    "|AgeHH2|1.7723|\n",
    "|ServiceArea|0.0478|\n",
    "   "
   ]
  },
  {
   "cell_type": "code",
   "execution_count": 14,
   "metadata": {},
   "outputs": [
    {
     "data": {
      "text/plain": [
       "(49078, 58)"
      ]
     },
     "execution_count": 14,
     "metadata": {},
     "output_type": "execute_result"
    }
   ],
   "source": [
    "#What strategy should be used for imputation?\n",
    "cust_df.dropna(axis=0,inplace=True)\n",
    "cust_df.shape"
   ]
  },
  {
   "cell_type": "markdown",
   "metadata": {},
   "source": [
    "<mark>__Result:__\n",
    "    \n",
    "<span style='font-size:30px;'>&#9997; </span>\n",
    "    Dropped rows which are having missing values. Around 2% of rows are dropped (records reduced from 50162 to 49078)"
   ]
  },
  {
   "cell_type": "markdown",
   "metadata": {
    "id": "MMq6xiX_lFIQ"
   },
   "source": [
    "### Q1.3 For columns, \"UniqueSubs\" and \"DirectorAssistedCalls\" remove outliers, if any"
   ]
  },
  {
   "cell_type": "code",
   "execution_count": 15,
   "metadata": {
    "id": "RurTZpXRlFIR",
    "outputId": "79b9bba5-8ccb-47ef-db45-a49f5e4f1168"
   },
   "outputs": [
    {
     "data": {
      "text/plain": [
       "<matplotlib.axes._subplots.AxesSubplot at 0x2078d9dea90>"
      ]
     },
     "execution_count": 15,
     "metadata": {},
     "output_type": "execute_result"
    },
    {
     "data": {
      "image/png": "[encoded data removed]",
      "text/plain": [
       "<Figure size 432x288 with 1 Axes>"
      ]
     },
     "metadata": {
      "needs_background": "light"
     },
     "output_type": "display_data"
    }
   ],
   "source": [
    "#plot box plot using pandas for columns \"UniqueSubs\" and \"DirectorAssistedCalls\"\n",
    "cols=[\"UniqueSubs\",\"DirectorAssistedCalls\"]\n",
    "cust_df.boxplot(column=cols)"
   ]
  },
  {
   "cell_type": "code",
   "execution_count": 16,
   "metadata": {
    "id": "MXMbtk5TlFIS"
   },
   "outputs": [
    {
     "data": {
      "text/html": [
       "<div>\n",
       "<style scoped>\n",
       "    .dataframe tbody tr th:only-of-type {\n",
       "        vertical-align: middle;\n",
       "    }\n",
       "\n",
       "    .dataframe tbody tr th {\n",
       "        vertical-align: top;\n",
       "    }\n",
       "\n",
       "    .dataframe thead th {\n",
       "        text-align: right;\n",
       "    }\n",
       "</style>\n",
       "<table border=\"1\" class=\"dataframe\">\n",
       "  <thead>\n",
       "    <tr style=\"text-align: right;\">\n",
       "      <th></th>\n",
       "      <th>UniqueSubs</th>\n",
       "      <th>DirectorAssistedCalls</th>\n",
       "    </tr>\n",
       "  </thead>\n",
       "  <tbody>\n",
       "    <tr>\n",
       "      <th>0.95</th>\n",
       "      <td>3.0</td>\n",
       "      <td>4.21</td>\n",
       "    </tr>\n",
       "    <tr>\n",
       "      <th>0.96</th>\n",
       "      <td>3.0</td>\n",
       "      <td>4.70</td>\n",
       "    </tr>\n",
       "    <tr>\n",
       "      <th>0.97</th>\n",
       "      <td>4.0</td>\n",
       "      <td>5.69</td>\n",
       "    </tr>\n",
       "    <tr>\n",
       "      <th>0.98</th>\n",
       "      <td>4.0</td>\n",
       "      <td>6.93</td>\n",
       "    </tr>\n",
       "    <tr>\n",
       "      <th>0.99</th>\n",
       "      <td>5.0</td>\n",
       "      <td>9.65</td>\n",
       "    </tr>\n",
       "    <tr>\n",
       "      <th>1.00</th>\n",
       "      <td>18.0</td>\n",
       "      <td>159.39</td>\n",
       "    </tr>\n",
       "  </tbody>\n",
       "</table>\n",
       "</div>"
      ],
      "text/plain": [
       "      UniqueSubs  DirectorAssistedCalls\n",
       "0.95         3.0                   4.21\n",
       "0.96         3.0                   4.70\n",
       "0.97         4.0                   5.69\n",
       "0.98         4.0                   6.93\n",
       "0.99         5.0                   9.65\n",
       "1.00        18.0                 159.39"
      ]
     },
     "execution_count": 16,
     "metadata": {},
     "output_type": "execute_result"
    }
   ],
   "source": [
    "#Remove top 1% outliers from the above mentioned two columns and plot the box plot again\n",
    "#Use \"quantile\" function to identify top 1% outliers\n",
    "q_value=[i/100 for i in range (95,101,1)]\n",
    "cust_df[cols].quantile(q_value)\n",
    "\n"
   ]
  },
  {
   "cell_type": "code",
   "execution_count": 17,
   "metadata": {},
   "outputs": [],
   "source": [
    "## filtering cust_df data with 99% value\n",
    "cust_df=cust_df[(cust_df.UniqueSubs<=5) & (cust_df.DirectorAssistedCalls<9.6156)]\n"
   ]
  },
  {
   "cell_type": "code",
   "execution_count": 18,
   "metadata": {},
   "outputs": [
    {
     "data": {
      "text/plain": [
       "<matplotlib.axes._subplots.AxesSubplot at 0x2078dc96a90>"
      ]
     },
     "execution_count": 18,
     "metadata": {},
     "output_type": "execute_result"
    },
    {
     "data": {
      "image/png": "[encoded data removed]",
      "text/plain": [
       "<Figure size 432x288 with 1 Axes>"
      ]
     },
     "metadata": {
      "needs_background": "light"
     },
     "output_type": "display_data"
    }
   ],
   "source": [
    "cust_df.boxplot(column=cols)"
   ]
  },
  {
   "cell_type": "markdown",
   "metadata": {
    "id": "j9nGdg_jlFIS"
   },
   "source": [
    "## Q2. Perform exploratory analysis to analyze customer churn"
   ]
  },
  {
   "cell_type": "markdown",
   "metadata": {
    "id": "kuLvZj8LlFIS"
   },
   "source": [
    "### Q2.1 Does customers with high overage minutes also have high revenue?"
   ]
  },
  {
   "cell_type": "code",
   "execution_count": 19,
   "metadata": {
    "id": "9iwrU-MelFIT"
   },
   "outputs": [
    {
     "data": {
      "text/plain": [
       "<matplotlib.axes._subplots.AxesSubplot at 0x2078d6010d0>"
      ]
     },
     "execution_count": 19,
     "metadata": {},
     "output_type": "execute_result"
    },
    {
     "data": {
      "image/png": "[encoded data removed]",
      "text/plain": [
       "<Figure size 432x288 with 1 Axes>"
      ]
     },
     "metadata": {
      "needs_background": "light"
     },
     "output_type": "display_data"
    }
   ],
   "source": [
    "#use scatter plot to find the correlation between monthly revenue and overage minutes\n",
    "sns.scatterplot(x = 'MonthlyRevenue', y = 'OverageMinutes', data = cust_df)"
   ]
  },
  {
   "cell_type": "code",
   "execution_count": 20,
   "metadata": {},
   "outputs": [
    {
     "data": {
      "text/plain": [
       "Text(0.5, 1.0, 'Non Churned customer')"
      ]
     },
     "execution_count": 20,
     "metadata": {},
     "output_type": "execute_result"
    },
    {
     "data": {
      "text/plain": [
       "<matplotlib.axes._subplots.AxesSubplot at 0x2078d8016a0>"
      ]
     },
     "execution_count": 20,
     "metadata": {},
     "output_type": "execute_result"
    },
    {
     "data": {
      "image/png": "[encoded data removed]",
      "text/plain": [
       "<Figure size 432x288 with 1 Axes>"
      ]
     },
     "metadata": {
      "needs_background": "light"
     },
     "output_type": "display_data"
    }
   ],
   "source": [
    "#use scatter plot to find the correlation between monthly revenue and overage minutes for Non Churned Customers\n",
    "plt.title(\"Non Churned customer\")\n",
    "sns.scatterplot(x = 'MonthlyRevenue', y = 'OverageMinutes', data = cust_df[cust_df.Churn==\"No\"])\n",
    "plt.show()"
   ]
  },
  {
   "cell_type": "code",
   "execution_count": 21,
   "metadata": {},
   "outputs": [
    {
     "data": {
      "text/plain": [
       "Text(0.5, 1.0, 'Churned customer')"
      ]
     },
     "execution_count": 21,
     "metadata": {},
     "output_type": "execute_result"
    },
    {
     "data": {
      "text/plain": [
       "<matplotlib.axes._subplots.AxesSubplot at 0x2078d634b50>"
      ]
     },
     "execution_count": 21,
     "metadata": {},
     "output_type": "execute_result"
    },
    {
     "data": {
      "image/png": "[encoded data removed]",
      "text/plain": [
       "<Figure size 432x288 with 1 Axes>"
      ]
     },
     "metadata": {
      "needs_background": "light"
     },
     "output_type": "display_data"
    }
   ],
   "source": [
    "#use scatter plot to find the correlation between monthly revenue and overage minutes for Churned Customers\n",
    "plt.title(\"Churned customer\")\n",
    "sns.scatterplot(x = 'MonthlyRevenue', y = 'OverageMinutes', data = cust_df[cust_df.Churn==\"Yes\"])\n",
    "plt.show()"
   ]
  },
  {
   "cell_type": "markdown",
   "metadata": {
    "id": "p0c7mh47lFIT"
   },
   "source": [
    "<mark>__Result:__\n",
    "    \n",
    "<span style='font-size:30px;'>&#9997; </span>\n",
    "MonthlyRevenue and OverageMinutes has positive correlation. Few outliers are present. Churned Customer has  more outliers."
   ]
  },
  {
   "cell_type": "markdown",
   "metadata": {
    "id": "ypcm12s6lFIT"
   },
   "source": [
    "### Q2.2 Does high number of active subscribers lead to low monthly revenue?"
   ]
  },
  {
   "cell_type": "code",
   "execution_count": 22,
   "metadata": {
    "id": "K_Hbu6DvlFIU"
   },
   "outputs": [
    {
     "data": {
      "text/plain": [
       "<seaborn.axisgrid.FacetGrid at 0x2078d80a6d0>"
      ]
     },
     "execution_count": 22,
     "metadata": {},
     "output_type": "execute_result"
    },
    {
     "data": {
      "image/png": "[encoded data removed]",
      "text/plain": [
       "<Figure size 360x360 with 1 Axes>"
      ]
     },
     "metadata": {
      "needs_background": "light"
     },
     "output_type": "display_data"
    }
   ],
   "source": [
    "#use category plot to plot monthly revenue for each active subs category\n",
    "sns.catplot(x=\"ActiveSubs\",y=\"MonthlyRevenue\",data=cust_df) "
   ]
  },
  {
   "cell_type": "markdown",
   "metadata": {
    "id": "mkrnwbZhlFIU"
   },
   "source": [
    "<mark>__Result:__\n",
    "    \n",
    "<span style='font-size:30px;'>&#9997; </span>\n",
    "\n",
    "When number of active subscriptions increases, monthly revenue decreases"
   ]
  },
  {
   "cell_type": "markdown",
   "metadata": {
    "id": "uZYchMbslFIU"
   },
   "source": [
    "### Q2.3 Does credit rating have an impact in churn rate?"
   ]
  },
  {
   "cell_type": "code",
   "execution_count": 23,
   "metadata": {},
   "outputs": [
    {
     "data": {
      "text/html": [
       "<div>\n",
       "<style scoped>\n",
       "    .dataframe tbody tr th:only-of-type {\n",
       "        vertical-align: middle;\n",
       "    }\n",
       "\n",
       "    .dataframe tbody tr th {\n",
       "        vertical-align: top;\n",
       "    }\n",
       "\n",
       "    .dataframe thead th {\n",
       "        text-align: right;\n",
       "    }\n",
       "</style>\n",
       "<table border=\"1\" class=\"dataframe\">\n",
       "  <thead>\n",
       "    <tr style=\"text-align: right;\">\n",
       "      <th>CreditRating</th>\n",
       "      <th>1-Highest</th>\n",
       "      <th>2-High</th>\n",
       "      <th>3-Good</th>\n",
       "      <th>4-Medium</th>\n",
       "      <th>5-Low</th>\n",
       "      <th>6-VeryLow</th>\n",
       "      <th>7-Lowest</th>\n",
       "    </tr>\n",
       "    <tr>\n",
       "      <th>Churn</th>\n",
       "      <th></th>\n",
       "      <th></th>\n",
       "      <th></th>\n",
       "      <th></th>\n",
       "      <th></th>\n",
       "      <th></th>\n",
       "      <th></th>\n",
       "    </tr>\n",
       "  </thead>\n",
       "  <tbody>\n",
       "    <tr>\n",
       "      <th>No</th>\n",
       "      <td>0.698608</td>\n",
       "      <td>0.7039</td>\n",
       "      <td>0.69738</td>\n",
       "      <td>0.745876</td>\n",
       "      <td>0.785889</td>\n",
       "      <td>0.739905</td>\n",
       "      <td>0.718026</td>\n",
       "    </tr>\n",
       "    <tr>\n",
       "      <th>Yes</th>\n",
       "      <td>0.301392</td>\n",
       "      <td>0.2961</td>\n",
       "      <td>0.30262</td>\n",
       "      <td>0.254124</td>\n",
       "      <td>0.214111</td>\n",
       "      <td>0.260095</td>\n",
       "      <td>0.281974</td>\n",
       "    </tr>\n",
       "  </tbody>\n",
       "</table>\n",
       "</div>"
      ],
      "text/plain": [
       "CreditRating  1-Highest  2-High   3-Good  4-Medium     5-Low  6-VeryLow  \\\n",
       "Churn                                                                     \n",
       "No             0.698608  0.7039  0.69738  0.745876  0.785889   0.739905   \n",
       "Yes            0.301392  0.2961  0.30262  0.254124  0.214111   0.260095   \n",
       "\n",
       "CreditRating  7-Lowest  \n",
       "Churn                   \n",
       "No            0.718026  \n",
       "Yes           0.281974  "
      ]
     },
     "execution_count": 23,
     "metadata": {},
     "output_type": "execute_result"
    },
    {
     "data": {
      "text/html": [
       "<div>\n",
       "<style scoped>\n",
       "    .dataframe tbody tr th:only-of-type {\n",
       "        vertical-align: middle;\n",
       "    }\n",
       "\n",
       "    .dataframe tbody tr th {\n",
       "        vertical-align: top;\n",
       "    }\n",
       "\n",
       "    .dataframe thead th {\n",
       "        text-align: right;\n",
       "    }\n",
       "</style>\n",
       "<table border=\"1\" class=\"dataframe\">\n",
       "  <thead>\n",
       "    <tr style=\"text-align: right;\">\n",
       "      <th>CreditRating</th>\n",
       "      <th>1-Highest</th>\n",
       "      <th>2-High</th>\n",
       "      <th>3-Good</th>\n",
       "      <th>4-Medium</th>\n",
       "      <th>5-Low</th>\n",
       "      <th>6-VeryLow</th>\n",
       "      <th>7-Lowest</th>\n",
       "    </tr>\n",
       "    <tr>\n",
       "      <th>Churn</th>\n",
       "      <th></th>\n",
       "      <th></th>\n",
       "      <th></th>\n",
       "      <th></th>\n",
       "      <th></th>\n",
       "      <th></th>\n",
       "      <th></th>\n",
       "    </tr>\n",
       "  </thead>\n",
       "  <tbody>\n",
       "    <tr>\n",
       "      <th>No</th>\n",
       "      <td>0.161849</td>\n",
       "      <td>0.371062</td>\n",
       "      <td>0.160179</td>\n",
       "      <td>0.109358</td>\n",
       "      <td>0.138555</td>\n",
       "      <td>0.017938</td>\n",
       "      <td>0.041060</td>\n",
       "    </tr>\n",
       "    <tr>\n",
       "      <th>Yes</th>\n",
       "      <td>0.177734</td>\n",
       "      <td>0.397318</td>\n",
       "      <td>0.176928</td>\n",
       "      <td>0.094840</td>\n",
       "      <td>0.096086</td>\n",
       "      <td>0.016051</td>\n",
       "      <td>0.041044</td>\n",
       "    </tr>\n",
       "  </tbody>\n",
       "</table>\n",
       "</div>"
      ],
      "text/plain": [
       "CreditRating  1-Highest    2-High    3-Good  4-Medium     5-Low  6-VeryLow  \\\n",
       "Churn                                                                        \n",
       "No             0.161849  0.371062  0.160179  0.109358  0.138555   0.017938   \n",
       "Yes            0.177734  0.397318  0.176928  0.094840  0.096086   0.016051   \n",
       "\n",
       "CreditRating  7-Lowest  \n",
       "Churn                   \n",
       "No            0.041060  \n",
       "Yes           0.041044  "
      ]
     },
     "execution_count": 23,
     "metadata": {},
     "output_type": "execute_result"
    }
   ],
   "source": [
    "pd.crosstab(cust_df.Churn,cust_df.CreditRating).apply(lambda r:r/r.sum(),axis=0)\n",
    "pd.crosstab(cust_df.Churn,cust_df.CreditRating).apply(lambda r:r/r.sum(),axis=1)"
   ]
  },
  {
   "cell_type": "markdown",
   "metadata": {
    "id": "Tm9Kkol0lFIV"
   },
   "source": [
    "<mark>__Result:__\n",
    "    \n",
    "<span style='font-size:30px;'>&#9997; </span>\n",
    "Proportion of churned customer is high on 'high credit score'. There is no definite trend found, with respect to credit score."
   ]
  },
  {
   "cell_type": "markdown",
   "metadata": {
    "id": "okgnaKbclFIV"
   },
   "source": [
    "### Placeholder for additional exploratory analysis"
   ]
  },
  {
   "cell_type": "code",
   "execution_count": 24,
   "metadata": {
    "id": "bJkZDBualFIV"
   },
   "outputs": [],
   "source": [
    "#type your code here for any additional exploratory analysis (if any)\n",
    "\n"
   ]
  },
  {
   "cell_type": "markdown",
   "metadata": {
    "id": "1v8DwkhPlFIV"
   },
   "source": [
    "## Q3. Create additional features to help predict churn"
   ]
  },
  {
   "cell_type": "code",
   "execution_count": 25,
   "metadata": {
    "id": "Qtk8mg8OlFIW"
   },
   "outputs": [],
   "source": [
    "#wrapper function to create additional features for churn prediction\n",
    "def create_features(cust_df):\n",
    "    \n",
    "    #3.1 Percent of current active subs over total subs\n",
    "    cust_df['perc_active_subs'] = cust_df['ActiveSubs'] / cust_df['UniqueSubs']\n",
    "    \n",
    "    #3.2 Percent of recurrent charge to monthly charge\n",
    "    #type your code here to create a new column in cust_df\n",
    "    cust_df['perc_recurrent_charge']=cust_df['TotalRecurringCharge']/cust_df['MonthlyRevenue']\n",
    "    \n",
    "    #3.3 Percent of overage minutes over total monthly minutes\n",
    "    #type your code here to create a new column in cust_df\n",
    "    cust_df['perc_overage_minute']=cust_df['OverageMinutes']/cust_df['MonthlyMinutes']\n",
    "\n",
    "   \n",
    "\n",
    "    #type your code here to creat any other additional features which you think will help improve your model accuracy\n",
    "    cust_df['perc_roaming_calls']=cust_df['RoamingCalls']/cust_df['MonthlyMinutes']\n",
    "    \n",
    "    cust_df['perc_droppped_calls']=cust_df['DroppedCalls']/cust_df['MonthlyMinutes']\n",
    "    \n",
    "    cust_df['perc_blocked_calls']=cust_df['BlockedCalls']/cust_df['MonthlyMinutes']\n",
    "    cust_df['perc_unanswered_calls']=cust_df['UnansweredCalls']/cust_df['MonthlyMinutes']\n",
    "    cust_df['perc_customercare_calls']=cust_df['CustomerCareCalls']/cust_df['MonthlyMinutes']\n",
    "    cust_df['perc_threeway_calls']=cust_df['ThreewayCalls']/cust_df['MonthlyMinutes']\n",
    "    cust_df['perc_received_calls']=cust_df['ReceivedCalls']/cust_df['MonthlyMinutes']\n",
    "    cust_df['perc_outbound_calls']=cust_df['OutboundCalls']/cust_df['MonthlyMinutes']\n",
    "    cust_df['perc_inbound_calls']=cust_df['InboundCalls']/cust_df['MonthlyMinutes']\n",
    "\n",
    "\n",
    "\n",
    "    return cust_df  \n"
   ]
  },
  {
   "cell_type": "code",
   "execution_count": 26,
   "metadata": {
    "id": "aVqGUbRIlFIW"
   },
   "outputs": [],
   "source": [
    "#Make a call to the feature engineering wrapper function for churn prediction\n",
    "cust_df=create_features(cust_df)\n",
    "pred_df=create_features(pred_df)\n"
   ]
  },
  {
   "cell_type": "code",
   "execution_count": 27,
   "metadata": {},
   "outputs": [
    {
     "data": {
      "text/html": [
       "<div>\n",
       "<style scoped>\n",
       "    .dataframe tbody tr th:only-of-type {\n",
       "        vertical-align: middle;\n",
       "    }\n",
       "\n",
       "    .dataframe tbody tr th {\n",
       "        vertical-align: top;\n",
       "    }\n",
       "\n",
       "    .dataframe thead th {\n",
       "        text-align: right;\n",
       "    }\n",
       "</style>\n",
       "<table border=\"1\" class=\"dataframe\">\n",
       "  <thead>\n",
       "    <tr style=\"text-align: right;\">\n",
       "      <th></th>\n",
       "      <th>CustomerID</th>\n",
       "      <th>Churn</th>\n",
       "      <th>MonthlyRevenue</th>\n",
       "      <th>MonthlyMinutes</th>\n",
       "      <th>TotalRecurringCharge</th>\n",
       "      <th>DirectorAssistedCalls</th>\n",
       "      <th>OverageMinutes</th>\n",
       "      <th>RoamingCalls</th>\n",
       "      <th>PercChangeMinutes</th>\n",
       "      <th>PercChangeRevenues</th>\n",
       "      <th>...</th>\n",
       "      <th>perc_overage_minute</th>\n",
       "      <th>perc_roaming_calls</th>\n",
       "      <th>perc_droppped_calls</th>\n",
       "      <th>perc_blocked_calls</th>\n",
       "      <th>perc_unanswered_calls</th>\n",
       "      <th>perc_customercare_calls</th>\n",
       "      <th>perc_threeway_calls</th>\n",
       "      <th>perc_received_calls</th>\n",
       "      <th>perc_outbound_calls</th>\n",
       "      <th>perc_inbound_calls</th>\n",
       "    </tr>\n",
       "  </thead>\n",
       "  <tbody>\n",
       "    <tr>\n",
       "      <th>0</th>\n",
       "      <td>3000002</td>\n",
       "      <td>Yes</td>\n",
       "      <td>24.00</td>\n",
       "      <td>219.0</td>\n",
       "      <td>22.0</td>\n",
       "      <td>0.25</td>\n",
       "      <td>0.0</td>\n",
       "      <td>0.0</td>\n",
       "      <td>-157.0</td>\n",
       "      <td>-19.0</td>\n",
       "      <td>...</td>\n",
       "      <td>0.0</td>\n",
       "      <td>0.0</td>\n",
       "      <td>0.003196</td>\n",
       "      <td>0.003196</td>\n",
       "      <td>0.028767</td>\n",
       "      <td>0.000000</td>\n",
       "      <td>0.000000</td>\n",
       "      <td>0.443836</td>\n",
       "      <td>0.000000</td>\n",
       "      <td>0.000000</td>\n",
       "    </tr>\n",
       "    <tr>\n",
       "      <th>1</th>\n",
       "      <td>3000010</td>\n",
       "      <td>Yes</td>\n",
       "      <td>16.99</td>\n",
       "      <td>10.0</td>\n",
       "      <td>17.0</td>\n",
       "      <td>0.00</td>\n",
       "      <td>0.0</td>\n",
       "      <td>0.0</td>\n",
       "      <td>-4.0</td>\n",
       "      <td>0.0</td>\n",
       "      <td>...</td>\n",
       "      <td>0.0</td>\n",
       "      <td>0.0</td>\n",
       "      <td>0.030000</td>\n",
       "      <td>0.000000</td>\n",
       "      <td>0.270000</td>\n",
       "      <td>0.000000</td>\n",
       "      <td>0.000000</td>\n",
       "      <td>0.000000</td>\n",
       "      <td>0.000000</td>\n",
       "      <td>0.000000</td>\n",
       "    </tr>\n",
       "    <tr>\n",
       "      <th>2</th>\n",
       "      <td>3000014</td>\n",
       "      <td>No</td>\n",
       "      <td>38.00</td>\n",
       "      <td>8.0</td>\n",
       "      <td>38.0</td>\n",
       "      <td>0.00</td>\n",
       "      <td>0.0</td>\n",
       "      <td>0.0</td>\n",
       "      <td>-2.0</td>\n",
       "      <td>0.0</td>\n",
       "      <td>...</td>\n",
       "      <td>0.0</td>\n",
       "      <td>0.0</td>\n",
       "      <td>0.000000</td>\n",
       "      <td>0.000000</td>\n",
       "      <td>0.000000</td>\n",
       "      <td>0.000000</td>\n",
       "      <td>0.000000</td>\n",
       "      <td>0.050000</td>\n",
       "      <td>0.037500</td>\n",
       "      <td>0.000000</td>\n",
       "    </tr>\n",
       "    <tr>\n",
       "      <th>3</th>\n",
       "      <td>3000022</td>\n",
       "      <td>No</td>\n",
       "      <td>82.28</td>\n",
       "      <td>1312.0</td>\n",
       "      <td>75.0</td>\n",
       "      <td>1.24</td>\n",
       "      <td>0.0</td>\n",
       "      <td>0.0</td>\n",
       "      <td>157.0</td>\n",
       "      <td>8.1</td>\n",
       "      <td>...</td>\n",
       "      <td>0.0</td>\n",
       "      <td>0.0</td>\n",
       "      <td>0.039634</td>\n",
       "      <td>0.005869</td>\n",
       "      <td>0.057927</td>\n",
       "      <td>0.003277</td>\n",
       "      <td>0.000991</td>\n",
       "      <td>0.152668</td>\n",
       "      <td>0.282241</td>\n",
       "      <td>0.112043</td>\n",
       "    </tr>\n",
       "    <tr>\n",
       "      <th>5</th>\n",
       "      <td>3000030</td>\n",
       "      <td>No</td>\n",
       "      <td>38.05</td>\n",
       "      <td>682.0</td>\n",
       "      <td>52.0</td>\n",
       "      <td>0.25</td>\n",
       "      <td>0.0</td>\n",
       "      <td>0.0</td>\n",
       "      <td>148.0</td>\n",
       "      <td>-3.1</td>\n",
       "      <td>...</td>\n",
       "      <td>0.0</td>\n",
       "      <td>0.0</td>\n",
       "      <td>0.013196</td>\n",
       "      <td>0.002493</td>\n",
       "      <td>0.019062</td>\n",
       "      <td>0.001026</td>\n",
       "      <td>0.000000</td>\n",
       "      <td>0.061877</td>\n",
       "      <td>0.009824</td>\n",
       "      <td>0.000000</td>\n",
       "    </tr>\n",
       "  </tbody>\n",
       "</table>\n",
       "<p>5 rows × 70 columns</p>\n",
       "</div>"
      ],
      "text/plain": [
       "   CustomerID Churn  MonthlyRevenue  MonthlyMinutes  TotalRecurringCharge  \\\n",
       "0     3000002   Yes           24.00           219.0                  22.0   \n",
       "1     3000010   Yes           16.99            10.0                  17.0   \n",
       "2     3000014    No           38.00             8.0                  38.0   \n",
       "3     3000022    No           82.28          1312.0                  75.0   \n",
       "5     3000030    No           38.05           682.0                  52.0   \n",
       "\n",
       "   DirectorAssistedCalls  OverageMinutes  RoamingCalls  PercChangeMinutes  \\\n",
       "0                   0.25             0.0           0.0             -157.0   \n",
       "1                   0.00             0.0           0.0               -4.0   \n",
       "2                   0.00             0.0           0.0               -2.0   \n",
       "3                   1.24             0.0           0.0              157.0   \n",
       "5                   0.25             0.0           0.0              148.0   \n",
       "\n",
       "   PercChangeRevenues  ...  perc_overage_minute  perc_roaming_calls  \\\n",
       "0               -19.0  ...                  0.0                 0.0   \n",
       "1                 0.0  ...                  0.0                 0.0   \n",
       "2                 0.0  ...                  0.0                 0.0   \n",
       "3                 8.1  ...                  0.0                 0.0   \n",
       "5                -3.1  ...                  0.0                 0.0   \n",
       "\n",
       "   perc_droppped_calls  perc_blocked_calls  perc_unanswered_calls  \\\n",
       "0             0.003196            0.003196               0.028767   \n",
       "1             0.030000            0.000000               0.270000   \n",
       "2             0.000000            0.000000               0.000000   \n",
       "3             0.039634            0.005869               0.057927   \n",
       "5             0.013196            0.002493               0.019062   \n",
       "\n",
       "   perc_customercare_calls  perc_threeway_calls  perc_received_calls  \\\n",
       "0                 0.000000             0.000000             0.443836   \n",
       "1                 0.000000             0.000000             0.000000   \n",
       "2                 0.000000             0.000000             0.050000   \n",
       "3                 0.003277             0.000991             0.152668   \n",
       "5                 0.001026             0.000000             0.061877   \n",
       "\n",
       "   perc_outbound_calls  perc_inbound_calls  \n",
       "0             0.000000            0.000000  \n",
       "1             0.000000            0.000000  \n",
       "2             0.037500            0.000000  \n",
       "3             0.282241            0.112043  \n",
       "5             0.009824            0.000000  \n",
       "\n",
       "[5 rows x 70 columns]"
      ]
     },
     "execution_count": 27,
     "metadata": {},
     "output_type": "execute_result"
    }
   ],
   "source": [
    "cust_df.head()"
   ]
  },
  {
   "cell_type": "code",
   "execution_count": 28,
   "metadata": {},
   "outputs": [
    {
     "data": {
      "text/html": [
       "<div>\n",
       "<style scoped>\n",
       "    .dataframe tbody tr th:only-of-type {\n",
       "        vertical-align: middle;\n",
       "    }\n",
       "\n",
       "    .dataframe tbody tr th {\n",
       "        vertical-align: top;\n",
       "    }\n",
       "\n",
       "    .dataframe thead th {\n",
       "        text-align: right;\n",
       "    }\n",
       "</style>\n",
       "<table border=\"1\" class=\"dataframe\">\n",
       "  <thead>\n",
       "    <tr style=\"text-align: right;\">\n",
       "      <th></th>\n",
       "      <th>CustomerID</th>\n",
       "      <th>Churn</th>\n",
       "      <th>MonthlyRevenue</th>\n",
       "      <th>MonthlyMinutes</th>\n",
       "      <th>TotalRecurringCharge</th>\n",
       "      <th>DirectorAssistedCalls</th>\n",
       "      <th>OverageMinutes</th>\n",
       "      <th>RoamingCalls</th>\n",
       "      <th>PercChangeMinutes</th>\n",
       "      <th>PercChangeRevenues</th>\n",
       "      <th>...</th>\n",
       "      <th>perc_overage_minute</th>\n",
       "      <th>perc_roaming_calls</th>\n",
       "      <th>perc_droppped_calls</th>\n",
       "      <th>perc_blocked_calls</th>\n",
       "      <th>perc_unanswered_calls</th>\n",
       "      <th>perc_customercare_calls</th>\n",
       "      <th>perc_threeway_calls</th>\n",
       "      <th>perc_received_calls</th>\n",
       "      <th>perc_outbound_calls</th>\n",
       "      <th>perc_inbound_calls</th>\n",
       "    </tr>\n",
       "  </thead>\n",
       "  <tbody>\n",
       "    <tr>\n",
       "      <th>0</th>\n",
       "      <td>3000006</td>\n",
       "      <td>NaN</td>\n",
       "      <td>57.49</td>\n",
       "      <td>483.0</td>\n",
       "      <td>37.0</td>\n",
       "      <td>0.25</td>\n",
       "      <td>23.0</td>\n",
       "      <td>0.0</td>\n",
       "      <td>532.0</td>\n",
       "      <td>51.0</td>\n",
       "      <td>...</td>\n",
       "      <td>0.047619</td>\n",
       "      <td>0.000000</td>\n",
       "      <td>0.017184</td>\n",
       "      <td>0.002070</td>\n",
       "      <td>0.126915</td>\n",
       "      <td>0.003520</td>\n",
       "      <td>0.000621</td>\n",
       "      <td>0.114493</td>\n",
       "      <td>0.095859</td>\n",
       "      <td>0.013043</td>\n",
       "    </tr>\n",
       "    <tr>\n",
       "      <th>1</th>\n",
       "      <td>3000018</td>\n",
       "      <td>NaN</td>\n",
       "      <td>55.23</td>\n",
       "      <td>570.0</td>\n",
       "      <td>72.0</td>\n",
       "      <td>0.00</td>\n",
       "      <td>0.0</td>\n",
       "      <td>0.0</td>\n",
       "      <td>38.0</td>\n",
       "      <td>0.0</td>\n",
       "      <td>...</td>\n",
       "      <td>0.000000</td>\n",
       "      <td>0.000000</td>\n",
       "      <td>0.017018</td>\n",
       "      <td>0.001228</td>\n",
       "      <td>0.135088</td>\n",
       "      <td>0.015263</td>\n",
       "      <td>0.000000</td>\n",
       "      <td>0.186491</td>\n",
       "      <td>0.025789</td>\n",
       "      <td>0.001228</td>\n",
       "    </tr>\n",
       "    <tr>\n",
       "      <th>2</th>\n",
       "      <td>3000034</td>\n",
       "      <td>NaN</td>\n",
       "      <td>97.34</td>\n",
       "      <td>1039.0</td>\n",
       "      <td>50.0</td>\n",
       "      <td>4.95</td>\n",
       "      <td>420.0</td>\n",
       "      <td>0.0</td>\n",
       "      <td>198.0</td>\n",
       "      <td>23.3</td>\n",
       "      <td>...</td>\n",
       "      <td>0.404235</td>\n",
       "      <td>0.000000</td>\n",
       "      <td>0.012223</td>\n",
       "      <td>0.002887</td>\n",
       "      <td>0.169394</td>\n",
       "      <td>0.010876</td>\n",
       "      <td>0.000289</td>\n",
       "      <td>0.205871</td>\n",
       "      <td>0.099423</td>\n",
       "      <td>0.000289</td>\n",
       "    </tr>\n",
       "    <tr>\n",
       "      <th>3</th>\n",
       "      <td>3000070</td>\n",
       "      <td>NaN</td>\n",
       "      <td>35.59</td>\n",
       "      <td>153.0</td>\n",
       "      <td>30.0</td>\n",
       "      <td>0.00</td>\n",
       "      <td>16.0</td>\n",
       "      <td>0.0</td>\n",
       "      <td>30.0</td>\n",
       "      <td>7.3</td>\n",
       "      <td>...</td>\n",
       "      <td>0.104575</td>\n",
       "      <td>0.000000</td>\n",
       "      <td>0.013072</td>\n",
       "      <td>0.004575</td>\n",
       "      <td>0.113072</td>\n",
       "      <td>0.000000</td>\n",
       "      <td>0.000000</td>\n",
       "      <td>0.216340</td>\n",
       "      <td>0.052288</td>\n",
       "      <td>0.030719</td>\n",
       "    </tr>\n",
       "    <tr>\n",
       "      <th>4</th>\n",
       "      <td>3000074</td>\n",
       "      <td>NaN</td>\n",
       "      <td>55.27</td>\n",
       "      <td>1213.0</td>\n",
       "      <td>50.0</td>\n",
       "      <td>0.74</td>\n",
       "      <td>0.0</td>\n",
       "      <td>1.3</td>\n",
       "      <td>169.0</td>\n",
       "      <td>1.0</td>\n",
       "      <td>...</td>\n",
       "      <td>0.000000</td>\n",
       "      <td>0.001072</td>\n",
       "      <td>0.002226</td>\n",
       "      <td>0.004946</td>\n",
       "      <td>0.036026</td>\n",
       "      <td>0.003545</td>\n",
       "      <td>0.000000</td>\n",
       "      <td>0.404040</td>\n",
       "      <td>0.041797</td>\n",
       "      <td>0.006843</td>\n",
       "    </tr>\n",
       "  </tbody>\n",
       "</table>\n",
       "<p>5 rows × 70 columns</p>\n",
       "</div>"
      ],
      "text/plain": [
       "   CustomerID  Churn  MonthlyRevenue  MonthlyMinutes  TotalRecurringCharge  \\\n",
       "0     3000006    NaN           57.49           483.0                  37.0   \n",
       "1     3000018    NaN           55.23           570.0                  72.0   \n",
       "2     3000034    NaN           97.34          1039.0                  50.0   \n",
       "3     3000070    NaN           35.59           153.0                  30.0   \n",
       "4     3000074    NaN           55.27          1213.0                  50.0   \n",
       "\n",
       "   DirectorAssistedCalls  OverageMinutes  RoamingCalls  PercChangeMinutes  \\\n",
       "0                   0.25            23.0           0.0              532.0   \n",
       "1                   0.00             0.0           0.0               38.0   \n",
       "2                   4.95           420.0           0.0              198.0   \n",
       "3                   0.00            16.0           0.0               30.0   \n",
       "4                   0.74             0.0           1.3              169.0   \n",
       "\n",
       "   PercChangeRevenues  ...  perc_overage_minute  perc_roaming_calls  \\\n",
       "0                51.0  ...             0.047619            0.000000   \n",
       "1                 0.0  ...             0.000000            0.000000   \n",
       "2                23.3  ...             0.404235            0.000000   \n",
       "3                 7.3  ...             0.104575            0.000000   \n",
       "4                 1.0  ...             0.000000            0.001072   \n",
       "\n",
       "   perc_droppped_calls  perc_blocked_calls  perc_unanswered_calls  \\\n",
       "0             0.017184            0.002070               0.126915   \n",
       "1             0.017018            0.001228               0.135088   \n",
       "2             0.012223            0.002887               0.169394   \n",
       "3             0.013072            0.004575               0.113072   \n",
       "4             0.002226            0.004946               0.036026   \n",
       "\n",
       "   perc_customercare_calls  perc_threeway_calls  perc_received_calls  \\\n",
       "0                 0.003520             0.000621             0.114493   \n",
       "1                 0.015263             0.000000             0.186491   \n",
       "2                 0.010876             0.000289             0.205871   \n",
       "3                 0.000000             0.000000             0.216340   \n",
       "4                 0.003545             0.000000             0.404040   \n",
       "\n",
       "   perc_outbound_calls  perc_inbound_calls  \n",
       "0             0.095859            0.013043  \n",
       "1             0.025789            0.001228  \n",
       "2             0.099423            0.000289  \n",
       "3             0.052288            0.030719  \n",
       "4             0.041797            0.006843  \n",
       "\n",
       "[5 rows x 70 columns]"
      ]
     },
     "execution_count": 28,
     "metadata": {},
     "output_type": "execute_result"
    }
   ],
   "source": [
    "pred_df.head()"
   ]
  },
  {
   "cell_type": "code",
   "execution_count": 29,
   "metadata": {},
   "outputs": [],
   "source": [
    "def check_categorical(cust_df):\n",
    "    colnames=cust_df.columns\n",
    "    categorical_cols=[]\n",
    "    continous_cols=[]\n",
    "    \n",
    "    for i in colnames:\n",
    "        \n",
    "        if cust_df[i].nunique() < 20:\n",
    "            if i!=\"Churn\":\n",
    "                categorical_cols.append(i)\n",
    "        else:\n",
    "            if i not in [\"CustomerID\",\"ServiceArea\"]:\n",
    "                continous_cols.append(i)\n",
    "    return(categorical_cols,continous_cols)\n",
    "                "
   ]
  },
  {
   "cell_type": "code",
   "execution_count": 30,
   "metadata": {},
   "outputs": [],
   "source": [
    "def check_categorical_imp(cust_df,categorical_cols):\n",
    "    new_categorical_cols=[]\n",
    "    for i in categorical_cols:\n",
    "        if stats.chi2_contingency(pd.crosstab(cust_df.Churn,cust_df[i]))[1]>0.05:\n",
    "            pass\n",
    "        else:\n",
    "            new_categorical_cols.append(i)\n",
    "    return new_categorical_cols"
   ]
  },
  {
   "cell_type": "code",
   "execution_count": 31,
   "metadata": {},
   "outputs": [],
   "source": [
    "categorical_cols,continous_cols=check_categorical(cust_df)"
   ]
  },
  {
   "cell_type": "code",
   "execution_count": 32,
   "metadata": {},
   "outputs": [
    {
     "data": {
      "text/plain": [
       "['UniqueSubs',\n",
       " 'ActiveSubs',\n",
       " 'HandsetModels',\n",
       " 'ChildrenInHH',\n",
       " 'HandsetRefurbished',\n",
       " 'HandsetWebCapable',\n",
       " 'TruckOwner',\n",
       " 'RVOwner',\n",
       " 'Homeownership',\n",
       " 'BuysViaMailOrder',\n",
       " 'RespondsToMailOffers',\n",
       " 'OptOutMailings',\n",
       " 'NonUSTravel',\n",
       " 'OwnsComputer',\n",
       " 'HasCreditCard',\n",
       " 'RetentionCalls',\n",
       " 'RetentionOffersAccepted',\n",
       " 'NewCellphoneUser',\n",
       " 'NotNewCellphoneUser',\n",
       " 'ReferralsMadeBySubscriber',\n",
       " 'IncomeGroup',\n",
       " 'OwnsMotorcycle',\n",
       " 'AdjustmentsToCreditRating',\n",
       " 'HandsetPrice',\n",
       " 'MadeCallToRetentionTeam',\n",
       " 'CreditRating',\n",
       " 'PrizmCode',\n",
       " 'Occupation',\n",
       " 'MaritalStatus',\n",
       " 'perc_active_subs']"
      ]
     },
     "execution_count": 32,
     "metadata": {},
     "output_type": "execute_result"
    }
   ],
   "source": [
    "categorical_cols"
   ]
  },
  {
   "cell_type": "code",
   "execution_count": 33,
   "metadata": {
    "scrolled": true
   },
   "outputs": [
    {
     "data": {
      "text/plain": [
       "['MonthlyRevenue',\n",
       " 'MonthlyMinutes',\n",
       " 'TotalRecurringCharge',\n",
       " 'DirectorAssistedCalls',\n",
       " 'OverageMinutes',\n",
       " 'RoamingCalls',\n",
       " 'PercChangeMinutes',\n",
       " 'PercChangeRevenues',\n",
       " 'DroppedCalls',\n",
       " 'BlockedCalls',\n",
       " 'UnansweredCalls',\n",
       " 'CustomerCareCalls',\n",
       " 'ThreewayCalls',\n",
       " 'ReceivedCalls',\n",
       " 'OutboundCalls',\n",
       " 'InboundCalls',\n",
       " 'PeakCallsInOut',\n",
       " 'OffPeakCallsInOut',\n",
       " 'DroppedBlockedCalls',\n",
       " 'CallForwardingCalls',\n",
       " 'CallWaitingCalls',\n",
       " 'MonthsInService',\n",
       " 'Handsets',\n",
       " 'CurrentEquipmentDays',\n",
       " 'AgeHH1',\n",
       " 'AgeHH2',\n",
       " 'perc_recurrent_charge',\n",
       " 'perc_overage_minute',\n",
       " 'perc_roaming_calls',\n",
       " 'perc_droppped_calls',\n",
       " 'perc_blocked_calls',\n",
       " 'perc_unanswered_calls',\n",
       " 'perc_customercare_calls',\n",
       " 'perc_threeway_calls',\n",
       " 'perc_received_calls',\n",
       " 'perc_outbound_calls',\n",
       " 'perc_inbound_calls']"
      ]
     },
     "execution_count": 33,
     "metadata": {},
     "output_type": "execute_result"
    }
   ],
   "source": [
    "continous_cols"
   ]
  },
  {
   "cell_type": "code",
   "execution_count": 34,
   "metadata": {},
   "outputs": [],
   "source": [
    "imp_categorical_cols=check_categorical_imp(cust_df,categorical_cols)"
   ]
  },
  {
   "cell_type": "code",
   "execution_count": 35,
   "metadata": {},
   "outputs": [
    {
     "data": {
      "text/plain": [
       "18"
      ]
     },
     "execution_count": 35,
     "metadata": {},
     "output_type": "execute_result"
    }
   ],
   "source": [
    "len(imp_categorical_cols)"
   ]
  },
  {
   "cell_type": "code",
   "execution_count": 36,
   "metadata": {},
   "outputs": [
    {
     "data": {
      "text/plain": [
       "30"
      ]
     },
     "execution_count": 36,
     "metadata": {},
     "output_type": "execute_result"
    }
   ],
   "source": [
    "len(categorical_cols)"
   ]
  },
  {
   "cell_type": "code",
   "execution_count": 37,
   "metadata": {},
   "outputs": [
    {
     "data": {
      "text/plain": [
       "(48374, 70)"
      ]
     },
     "execution_count": 37,
     "metadata": {},
     "output_type": "execute_result"
    }
   ],
   "source": [
    "cust_df.shape"
   ]
  },
  {
   "cell_type": "code",
   "execution_count": 38,
   "metadata": {},
   "outputs": [
    {
     "data": {
      "text/plain": [
       "No     34730\n",
       "Yes    13644\n",
       "Name: Churn, dtype: int64"
      ]
     },
     "execution_count": 38,
     "metadata": {},
     "output_type": "execute_result"
    }
   ],
   "source": [
    "cust_df.Churn.value_counts()"
   ]
  },
  {
   "cell_type": "code",
   "execution_count": 39,
   "metadata": {},
   "outputs": [],
   "source": [
    "cust_df['Churn']=cust_df['Churn'].replace([\"Yes\",\"No\"],[1,0])\n",
    "class_count_0,class_count_1=cust_df[\"Churn\"].value_counts()"
   ]
  },
  {
   "cell_type": "code",
   "execution_count": 40,
   "metadata": {},
   "outputs": [
    {
     "data": {
      "text/plain": [
       "(34730, 13644)"
      ]
     },
     "execution_count": 40,
     "metadata": {},
     "output_type": "execute_result"
    }
   ],
   "source": [
    "class_count_0,class_count_1"
   ]
  },
  {
   "cell_type": "code",
   "execution_count": 41,
   "metadata": {},
   "outputs": [
    {
     "data": {
      "text/html": [
       "<div>\n",
       "<style scoped>\n",
       "    .dataframe tbody tr th:only-of-type {\n",
       "        vertical-align: middle;\n",
       "    }\n",
       "\n",
       "    .dataframe tbody tr th {\n",
       "        vertical-align: top;\n",
       "    }\n",
       "\n",
       "    .dataframe thead th {\n",
       "        text-align: right;\n",
       "    }\n",
       "</style>\n",
       "<table border=\"1\" class=\"dataframe\">\n",
       "  <thead>\n",
       "    <tr style=\"text-align: right;\">\n",
       "      <th></th>\n",
       "      <th>CustomerID</th>\n",
       "      <th>Churn</th>\n",
       "      <th>MonthlyRevenue</th>\n",
       "      <th>MonthlyMinutes</th>\n",
       "      <th>TotalRecurringCharge</th>\n",
       "      <th>DirectorAssistedCalls</th>\n",
       "      <th>OverageMinutes</th>\n",
       "      <th>RoamingCalls</th>\n",
       "      <th>PercChangeMinutes</th>\n",
       "      <th>PercChangeRevenues</th>\n",
       "      <th>...</th>\n",
       "      <th>perc_overage_minute</th>\n",
       "      <th>perc_roaming_calls</th>\n",
       "      <th>perc_droppped_calls</th>\n",
       "      <th>perc_blocked_calls</th>\n",
       "      <th>perc_unanswered_calls</th>\n",
       "      <th>perc_customercare_calls</th>\n",
       "      <th>perc_threeway_calls</th>\n",
       "      <th>perc_received_calls</th>\n",
       "      <th>perc_outbound_calls</th>\n",
       "      <th>perc_inbound_calls</th>\n",
       "    </tr>\n",
       "  </thead>\n",
       "  <tbody>\n",
       "    <tr>\n",
       "      <th>0</th>\n",
       "      <td>3000002</td>\n",
       "      <td>1</td>\n",
       "      <td>24.00</td>\n",
       "      <td>219.0</td>\n",
       "      <td>22.0</td>\n",
       "      <td>0.25</td>\n",
       "      <td>0.0</td>\n",
       "      <td>0.0</td>\n",
       "      <td>-157.0</td>\n",
       "      <td>-19.0</td>\n",
       "      <td>...</td>\n",
       "      <td>0.0</td>\n",
       "      <td>0.0</td>\n",
       "      <td>0.003196</td>\n",
       "      <td>0.003196</td>\n",
       "      <td>0.028767</td>\n",
       "      <td>0.000000</td>\n",
       "      <td>0.000000</td>\n",
       "      <td>0.443836</td>\n",
       "      <td>0.000000</td>\n",
       "      <td>0.000000</td>\n",
       "    </tr>\n",
       "    <tr>\n",
       "      <th>1</th>\n",
       "      <td>3000010</td>\n",
       "      <td>1</td>\n",
       "      <td>16.99</td>\n",
       "      <td>10.0</td>\n",
       "      <td>17.0</td>\n",
       "      <td>0.00</td>\n",
       "      <td>0.0</td>\n",
       "      <td>0.0</td>\n",
       "      <td>-4.0</td>\n",
       "      <td>0.0</td>\n",
       "      <td>...</td>\n",
       "      <td>0.0</td>\n",
       "      <td>0.0</td>\n",
       "      <td>0.030000</td>\n",
       "      <td>0.000000</td>\n",
       "      <td>0.270000</td>\n",
       "      <td>0.000000</td>\n",
       "      <td>0.000000</td>\n",
       "      <td>0.000000</td>\n",
       "      <td>0.000000</td>\n",
       "      <td>0.000000</td>\n",
       "    </tr>\n",
       "    <tr>\n",
       "      <th>2</th>\n",
       "      <td>3000014</td>\n",
       "      <td>0</td>\n",
       "      <td>38.00</td>\n",
       "      <td>8.0</td>\n",
       "      <td>38.0</td>\n",
       "      <td>0.00</td>\n",
       "      <td>0.0</td>\n",
       "      <td>0.0</td>\n",
       "      <td>-2.0</td>\n",
       "      <td>0.0</td>\n",
       "      <td>...</td>\n",
       "      <td>0.0</td>\n",
       "      <td>0.0</td>\n",
       "      <td>0.000000</td>\n",
       "      <td>0.000000</td>\n",
       "      <td>0.000000</td>\n",
       "      <td>0.000000</td>\n",
       "      <td>0.000000</td>\n",
       "      <td>0.050000</td>\n",
       "      <td>0.037500</td>\n",
       "      <td>0.000000</td>\n",
       "    </tr>\n",
       "    <tr>\n",
       "      <th>3</th>\n",
       "      <td>3000022</td>\n",
       "      <td>0</td>\n",
       "      <td>82.28</td>\n",
       "      <td>1312.0</td>\n",
       "      <td>75.0</td>\n",
       "      <td>1.24</td>\n",
       "      <td>0.0</td>\n",
       "      <td>0.0</td>\n",
       "      <td>157.0</td>\n",
       "      <td>8.1</td>\n",
       "      <td>...</td>\n",
       "      <td>0.0</td>\n",
       "      <td>0.0</td>\n",
       "      <td>0.039634</td>\n",
       "      <td>0.005869</td>\n",
       "      <td>0.057927</td>\n",
       "      <td>0.003277</td>\n",
       "      <td>0.000991</td>\n",
       "      <td>0.152668</td>\n",
       "      <td>0.282241</td>\n",
       "      <td>0.112043</td>\n",
       "    </tr>\n",
       "    <tr>\n",
       "      <th>5</th>\n",
       "      <td>3000030</td>\n",
       "      <td>0</td>\n",
       "      <td>38.05</td>\n",
       "      <td>682.0</td>\n",
       "      <td>52.0</td>\n",
       "      <td>0.25</td>\n",
       "      <td>0.0</td>\n",
       "      <td>0.0</td>\n",
       "      <td>148.0</td>\n",
       "      <td>-3.1</td>\n",
       "      <td>...</td>\n",
       "      <td>0.0</td>\n",
       "      <td>0.0</td>\n",
       "      <td>0.013196</td>\n",
       "      <td>0.002493</td>\n",
       "      <td>0.019062</td>\n",
       "      <td>0.001026</td>\n",
       "      <td>0.000000</td>\n",
       "      <td>0.061877</td>\n",
       "      <td>0.009824</td>\n",
       "      <td>0.000000</td>\n",
       "    </tr>\n",
       "  </tbody>\n",
       "</table>\n",
       "<p>5 rows × 70 columns</p>\n",
       "</div>"
      ],
      "text/plain": [
       "   CustomerID  Churn  MonthlyRevenue  MonthlyMinutes  TotalRecurringCharge  \\\n",
       "0     3000002      1           24.00           219.0                  22.0   \n",
       "1     3000010      1           16.99            10.0                  17.0   \n",
       "2     3000014      0           38.00             8.0                  38.0   \n",
       "3     3000022      0           82.28          1312.0                  75.0   \n",
       "5     3000030      0           38.05           682.0                  52.0   \n",
       "\n",
       "   DirectorAssistedCalls  OverageMinutes  RoamingCalls  PercChangeMinutes  \\\n",
       "0                   0.25             0.0           0.0             -157.0   \n",
       "1                   0.00             0.0           0.0               -4.0   \n",
       "2                   0.00             0.0           0.0               -2.0   \n",
       "3                   1.24             0.0           0.0              157.0   \n",
       "5                   0.25             0.0           0.0              148.0   \n",
       "\n",
       "   PercChangeRevenues  ...  perc_overage_minute  perc_roaming_calls  \\\n",
       "0               -19.0  ...                  0.0                 0.0   \n",
       "1                 0.0  ...                  0.0                 0.0   \n",
       "2                 0.0  ...                  0.0                 0.0   \n",
       "3                 8.1  ...                  0.0                 0.0   \n",
       "5                -3.1  ...                  0.0                 0.0   \n",
       "\n",
       "   perc_droppped_calls  perc_blocked_calls  perc_unanswered_calls  \\\n",
       "0             0.003196            0.003196               0.028767   \n",
       "1             0.030000            0.000000               0.270000   \n",
       "2             0.000000            0.000000               0.000000   \n",
       "3             0.039634            0.005869               0.057927   \n",
       "5             0.013196            0.002493               0.019062   \n",
       "\n",
       "   perc_customercare_calls  perc_threeway_calls  perc_received_calls  \\\n",
       "0                 0.000000             0.000000             0.443836   \n",
       "1                 0.000000             0.000000             0.000000   \n",
       "2                 0.000000             0.000000             0.050000   \n",
       "3                 0.003277             0.000991             0.152668   \n",
       "5                 0.001026             0.000000             0.061877   \n",
       "\n",
       "   perc_outbound_calls  perc_inbound_calls  \n",
       "0             0.000000            0.000000  \n",
       "1             0.000000            0.000000  \n",
       "2             0.037500            0.000000  \n",
       "3             0.282241            0.112043  \n",
       "5             0.009824            0.000000  \n",
       "\n",
       "[5 rows x 70 columns]"
      ]
     },
     "execution_count": 41,
     "metadata": {},
     "output_type": "execute_result"
    }
   ],
   "source": [
    "cust_df.head()"
   ]
  },
  {
   "cell_type": "code",
   "execution_count": 42,
   "metadata": {},
   "outputs": [],
   "source": [
    "class_0=cust_df[cust_df[\"Churn\"]==0]\n",
    "class_1=cust_df[cust_df[\"Churn\"]==1]"
   ]
  },
  {
   "cell_type": "code",
   "execution_count": 43,
   "metadata": {},
   "outputs": [
    {
     "data": {
      "text/plain": [
       "((34730, 70), (13644, 70))"
      ]
     },
     "execution_count": 43,
     "metadata": {},
     "output_type": "execute_result"
    }
   ],
   "source": [
    "class_0.shape, class_1.shape"
   ]
  },
  {
   "cell_type": "code",
   "execution_count": 44,
   "metadata": {},
   "outputs": [],
   "source": [
    "class_1_over=class_1.sample(class_count_0,replace=True)"
   ]
  },
  {
   "cell_type": "code",
   "execution_count": 45,
   "metadata": {},
   "outputs": [
    {
     "data": {
      "text/plain": [
       "((34730, 70), (34730, 70))"
      ]
     },
     "execution_count": 45,
     "metadata": {},
     "output_type": "execute_result"
    }
   ],
   "source": [
    "class_0.shape, class_1_over.shape"
   ]
  },
  {
   "cell_type": "code",
   "execution_count": 46,
   "metadata": {},
   "outputs": [
    {
     "data": {
      "text/plain": [
       "(69460, 70)"
      ]
     },
     "execution_count": 46,
     "metadata": {},
     "output_type": "execute_result"
    }
   ],
   "source": [
    "test_over=pd.concat([class_1_over,class_0],axis=0)\n",
    "test_over.shape"
   ]
  },
  {
   "cell_type": "code",
   "execution_count": 47,
   "metadata": {},
   "outputs": [],
   "source": [
    "cust_df=test_over"
   ]
  },
  {
   "cell_type": "code",
   "execution_count": 48,
   "metadata": {},
   "outputs": [
    {
     "data": {
      "text/plain": [
       "1    50.0\n",
       "0    50.0\n",
       "Name: Churn, dtype: float64"
      ]
     },
     "execution_count": 48,
     "metadata": {},
     "output_type": "execute_result"
    }
   ],
   "source": [
    "y=cust_df.Churn\n",
    "y.value_counts()/len(y)*100"
   ]
  },
  {
   "cell_type": "markdown",
   "metadata": {
    "id": "VE-kdD_YlFIX"
   },
   "source": [
    "## Q4. Build classification model to predict customer churn month in advance"
   ]
  },
  {
   "cell_type": "markdown",
   "metadata": {
    "id": "-EqcNv6rlFIX"
   },
   "source": [
    "### Drop Unwanted columns"
   ]
  },
  {
   "cell_type": "code",
   "execution_count": 49,
   "metadata": {},
   "outputs": [
    {
     "data": {
      "text/html": [
       "<div>\n",
       "<style scoped>\n",
       "    .dataframe tbody tr th:only-of-type {\n",
       "        vertical-align: middle;\n",
       "    }\n",
       "\n",
       "    .dataframe tbody tr th {\n",
       "        vertical-align: top;\n",
       "    }\n",
       "\n",
       "    .dataframe thead th {\n",
       "        text-align: right;\n",
       "    }\n",
       "</style>\n",
       "<table border=\"1\" class=\"dataframe\">\n",
       "  <thead>\n",
       "    <tr style=\"text-align: right;\">\n",
       "      <th></th>\n",
       "      <th>CustomerID</th>\n",
       "      <th>Churn</th>\n",
       "      <th>MonthlyRevenue</th>\n",
       "      <th>MonthlyMinutes</th>\n",
       "      <th>TotalRecurringCharge</th>\n",
       "      <th>DirectorAssistedCalls</th>\n",
       "      <th>OverageMinutes</th>\n",
       "      <th>RoamingCalls</th>\n",
       "      <th>PercChangeMinutes</th>\n",
       "      <th>PercChangeRevenues</th>\n",
       "      <th>...</th>\n",
       "      <th>perc_overage_minute</th>\n",
       "      <th>perc_roaming_calls</th>\n",
       "      <th>perc_droppped_calls</th>\n",
       "      <th>perc_blocked_calls</th>\n",
       "      <th>perc_unanswered_calls</th>\n",
       "      <th>perc_customercare_calls</th>\n",
       "      <th>perc_threeway_calls</th>\n",
       "      <th>perc_received_calls</th>\n",
       "      <th>perc_outbound_calls</th>\n",
       "      <th>perc_inbound_calls</th>\n",
       "    </tr>\n",
       "  </thead>\n",
       "  <tbody>\n",
       "    <tr>\n",
       "      <th>21601</th>\n",
       "      <td>3169566</td>\n",
       "      <td>1</td>\n",
       "      <td>33.03</td>\n",
       "      <td>140.0</td>\n",
       "      <td>32.0</td>\n",
       "      <td>0.25</td>\n",
       "      <td>0.0</td>\n",
       "      <td>0.0</td>\n",
       "      <td>-101.0</td>\n",
       "      <td>-0.5</td>\n",
       "      <td>...</td>\n",
       "      <td>0.000000</td>\n",
       "      <td>0.0</td>\n",
       "      <td>0.012143</td>\n",
       "      <td>0.012143</td>\n",
       "      <td>0.137857</td>\n",
       "      <td>0.000000</td>\n",
       "      <td>0.002143</td>\n",
       "      <td>0.170000</td>\n",
       "      <td>0.026429</td>\n",
       "      <td>0.019286</td>\n",
       "    </tr>\n",
       "    <tr>\n",
       "      <th>27853</th>\n",
       "      <td>3220538</td>\n",
       "      <td>1</td>\n",
       "      <td>70.70</td>\n",
       "      <td>333.0</td>\n",
       "      <td>55.0</td>\n",
       "      <td>0.25</td>\n",
       "      <td>73.0</td>\n",
       "      <td>0.0</td>\n",
       "      <td>-183.0</td>\n",
       "      <td>-25.7</td>\n",
       "      <td>...</td>\n",
       "      <td>0.219219</td>\n",
       "      <td>0.0</td>\n",
       "      <td>0.027027</td>\n",
       "      <td>0.015916</td>\n",
       "      <td>0.047147</td>\n",
       "      <td>0.000000</td>\n",
       "      <td>0.000000</td>\n",
       "      <td>0.169670</td>\n",
       "      <td>0.035135</td>\n",
       "      <td>0.000000</td>\n",
       "    </tr>\n",
       "    <tr>\n",
       "      <th>26440</th>\n",
       "      <td>3208926</td>\n",
       "      <td>1</td>\n",
       "      <td>25.39</td>\n",
       "      <td>56.0</td>\n",
       "      <td>28.0</td>\n",
       "      <td>0.00</td>\n",
       "      <td>0.0</td>\n",
       "      <td>0.0</td>\n",
       "      <td>-56.0</td>\n",
       "      <td>-25.4</td>\n",
       "      <td>...</td>\n",
       "      <td>0.000000</td>\n",
       "      <td>0.0</td>\n",
       "      <td>0.000000</td>\n",
       "      <td>0.000000</td>\n",
       "      <td>0.048214</td>\n",
       "      <td>0.000000</td>\n",
       "      <td>0.000000</td>\n",
       "      <td>0.519643</td>\n",
       "      <td>0.053571</td>\n",
       "      <td>0.000000</td>\n",
       "    </tr>\n",
       "    <tr>\n",
       "      <th>32299</th>\n",
       "      <td>3257222</td>\n",
       "      <td>1</td>\n",
       "      <td>70.73</td>\n",
       "      <td>884.0</td>\n",
       "      <td>70.0</td>\n",
       "      <td>5.94</td>\n",
       "      <td>37.0</td>\n",
       "      <td>0.0</td>\n",
       "      <td>264.0</td>\n",
       "      <td>54.1</td>\n",
       "      <td>...</td>\n",
       "      <td>0.041855</td>\n",
       "      <td>0.0</td>\n",
       "      <td>0.002262</td>\n",
       "      <td>0.025226</td>\n",
       "      <td>0.022624</td>\n",
       "      <td>0.000792</td>\n",
       "      <td>0.000792</td>\n",
       "      <td>0.301018</td>\n",
       "      <td>0.084050</td>\n",
       "      <td>0.029751</td>\n",
       "    </tr>\n",
       "    <tr>\n",
       "      <th>25751</th>\n",
       "      <td>3203426</td>\n",
       "      <td>1</td>\n",
       "      <td>39.69</td>\n",
       "      <td>240.0</td>\n",
       "      <td>40.0</td>\n",
       "      <td>0.25</td>\n",
       "      <td>0.0</td>\n",
       "      <td>0.0</td>\n",
       "      <td>-58.0</td>\n",
       "      <td>0.3</td>\n",
       "      <td>...</td>\n",
       "      <td>0.000000</td>\n",
       "      <td>0.0</td>\n",
       "      <td>0.001250</td>\n",
       "      <td>0.011250</td>\n",
       "      <td>0.122083</td>\n",
       "      <td>0.000000</td>\n",
       "      <td>0.000000</td>\n",
       "      <td>0.159167</td>\n",
       "      <td>0.047083</td>\n",
       "      <td>0.000000</td>\n",
       "    </tr>\n",
       "  </tbody>\n",
       "</table>\n",
       "<p>5 rows × 70 columns</p>\n",
       "</div>"
      ],
      "text/plain": [
       "       CustomerID  Churn  MonthlyRevenue  MonthlyMinutes  \\\n",
       "21601     3169566      1           33.03           140.0   \n",
       "27853     3220538      1           70.70           333.0   \n",
       "26440     3208926      1           25.39            56.0   \n",
       "32299     3257222      1           70.73           884.0   \n",
       "25751     3203426      1           39.69           240.0   \n",
       "\n",
       "       TotalRecurringCharge  DirectorAssistedCalls  OverageMinutes  \\\n",
       "21601                  32.0                   0.25             0.0   \n",
       "27853                  55.0                   0.25            73.0   \n",
       "26440                  28.0                   0.00             0.0   \n",
       "32299                  70.0                   5.94            37.0   \n",
       "25751                  40.0                   0.25             0.0   \n",
       "\n",
       "       RoamingCalls  PercChangeMinutes  PercChangeRevenues  ...  \\\n",
       "21601           0.0             -101.0                -0.5  ...   \n",
       "27853           0.0             -183.0               -25.7  ...   \n",
       "26440           0.0              -56.0               -25.4  ...   \n",
       "32299           0.0              264.0                54.1  ...   \n",
       "25751           0.0              -58.0                 0.3  ...   \n",
       "\n",
       "       perc_overage_minute  perc_roaming_calls  perc_droppped_calls  \\\n",
       "21601             0.000000                 0.0             0.012143   \n",
       "27853             0.219219                 0.0             0.027027   \n",
       "26440             0.000000                 0.0             0.000000   \n",
       "32299             0.041855                 0.0             0.002262   \n",
       "25751             0.000000                 0.0             0.001250   \n",
       "\n",
       "       perc_blocked_calls  perc_unanswered_calls  perc_customercare_calls  \\\n",
       "21601            0.012143               0.137857                 0.000000   \n",
       "27853            0.015916               0.047147                 0.000000   \n",
       "26440            0.000000               0.048214                 0.000000   \n",
       "32299            0.025226               0.022624                 0.000792   \n",
       "25751            0.011250               0.122083                 0.000000   \n",
       "\n",
       "       perc_threeway_calls  perc_received_calls  perc_outbound_calls  \\\n",
       "21601             0.002143             0.170000             0.026429   \n",
       "27853             0.000000             0.169670             0.035135   \n",
       "26440             0.000000             0.519643             0.053571   \n",
       "32299             0.000792             0.301018             0.084050   \n",
       "25751             0.000000             0.159167             0.047083   \n",
       "\n",
       "       perc_inbound_calls  \n",
       "21601            0.019286  \n",
       "27853            0.000000  \n",
       "26440            0.000000  \n",
       "32299            0.029751  \n",
       "25751            0.000000  \n",
       "\n",
       "[5 rows x 70 columns]"
      ]
     },
     "execution_count": 49,
     "metadata": {},
     "output_type": "execute_result"
    }
   ],
   "source": [
    "cust_df.head()"
   ]
  },
  {
   "cell_type": "code",
   "execution_count": 50,
   "metadata": {},
   "outputs": [
    {
     "data": {
      "text/plain": [
       "(69460, 70)"
      ]
     },
     "execution_count": 50,
     "metadata": {},
     "output_type": "execute_result"
    }
   ],
   "source": [
    "cust_df.shape"
   ]
  },
  {
   "cell_type": "code",
   "execution_count": 51,
   "metadata": {},
   "outputs": [],
   "source": [
    "cols_tobe_droppped=[]\n",
    "for col in categorical_cols: \n",
    "    if col not in imp_categorical_cols:\n",
    "        cols_tobe_droppped.append(col)"
   ]
  },
  {
   "cell_type": "code",
   "execution_count": 52,
   "metadata": {},
   "outputs": [
    {
     "data": {
      "text/plain": [
       "12"
      ]
     },
     "execution_count": 52,
     "metadata": {},
     "output_type": "execute_result"
    }
   ],
   "source": [
    "len(cols_tobe_droppped)"
   ]
  },
  {
   "cell_type": "code",
   "execution_count": 53,
   "metadata": {},
   "outputs": [
    {
     "data": {
      "text/plain": [
       "['ChildrenInHH',\n",
       " 'TruckOwner',\n",
       " 'RVOwner',\n",
       " 'OptOutMailings',\n",
       " 'NonUSTravel',\n",
       " 'OwnsComputer',\n",
       " 'NewCellphoneUser',\n",
       " 'NotNewCellphoneUser',\n",
       " 'ReferralsMadeBySubscriber',\n",
       " 'OwnsMotorcycle',\n",
       " 'AdjustmentsToCreditRating',\n",
       " 'Occupation']"
      ]
     },
     "execution_count": 53,
     "metadata": {},
     "output_type": "execute_result"
    }
   ],
   "source": [
    "cols_tobe_droppped"
   ]
  },
  {
   "cell_type": "code",
   "execution_count": 54,
   "metadata": {},
   "outputs": [
    {
     "data": {
      "text/plain": [
       "30"
      ]
     },
     "execution_count": 54,
     "metadata": {},
     "output_type": "execute_result"
    }
   ],
   "source": [
    "len(categorical_cols)"
   ]
  },
  {
   "cell_type": "code",
   "execution_count": 55,
   "metadata": {},
   "outputs": [
    {
     "data": {
      "text/plain": [
       "18"
      ]
     },
     "execution_count": 55,
     "metadata": {},
     "output_type": "execute_result"
    }
   ],
   "source": [
    "len(imp_categorical_cols)"
   ]
  },
  {
   "cell_type": "code",
   "execution_count": 56,
   "metadata": {},
   "outputs": [],
   "source": [
    "#drop unwanted columns\n",
    "cust_df=cust_df.drop([\"CustomerID\",\"Churn\"],axis=1) #drop customerid. churn column\n",
    "pred_df=pred_df.drop([\"CustomerID\",\"Churn\"],axis=1) #drop customerid. churn column"
   ]
  },
  {
   "cell_type": "code",
   "execution_count": 57,
   "metadata": {},
   "outputs": [
    {
     "data": {
      "text/plain": [
       "(69460, 68)"
      ]
     },
     "execution_count": 57,
     "metadata": {},
     "output_type": "execute_result"
    },
    {
     "data": {
      "text/plain": [
       "(20000, 68)"
      ]
     },
     "execution_count": 57,
     "metadata": {},
     "output_type": "execute_result"
    }
   ],
   "source": [
    "cust_df.shape\n",
    "pred_df.shape"
   ]
  },
  {
   "cell_type": "code",
   "execution_count": 58,
   "metadata": {},
   "outputs": [],
   "source": [
    "cust_df=cust_df.drop(cols_tobe_droppped,axis=1) #drop  un-iumportant columns\n",
    "pred_df=pred_df.drop(cols_tobe_droppped,axis=1) #drop  un-iumportant columns"
   ]
  },
  {
   "cell_type": "code",
   "execution_count": 59,
   "metadata": {},
   "outputs": [
    {
     "data": {
      "text/plain": [
       "(69460, 56)"
      ]
     },
     "execution_count": 59,
     "metadata": {},
     "output_type": "execute_result"
    },
    {
     "data": {
      "text/plain": [
       "(20000, 56)"
      ]
     },
     "execution_count": 59,
     "metadata": {},
     "output_type": "execute_result"
    }
   ],
   "source": [
    "cust_df.shape\n",
    "pred_df.shape"
   ]
  },
  {
   "cell_type": "code",
   "execution_count": 60,
   "metadata": {},
   "outputs": [],
   "source": [
    "#drop unwanted columns\n",
    "cust_df=cust_df.drop([\"ServiceArea\"],axis=1) \n",
    "pred_df=pred_df.drop([\"ServiceArea\"],axis=1) \n"
   ]
  },
  {
   "cell_type": "code",
   "execution_count": 61,
   "metadata": {},
   "outputs": [
    {
     "data": {
      "text/plain": [
       "(69460, 55)"
      ]
     },
     "execution_count": 61,
     "metadata": {},
     "output_type": "execute_result"
    },
    {
     "data": {
      "text/plain": [
       "(20000, 55)"
      ]
     },
     "execution_count": 61,
     "metadata": {},
     "output_type": "execute_result"
    }
   ],
   "source": [
    "cust_df.shape\n",
    "pred_df.shape"
   ]
  },
  {
   "cell_type": "code",
   "execution_count": 62,
   "metadata": {},
   "outputs": [
    {
     "data": {
      "text/html": [
       "<div>\n",
       "<style scoped>\n",
       "    .dataframe tbody tr th:only-of-type {\n",
       "        vertical-align: middle;\n",
       "    }\n",
       "\n",
       "    .dataframe tbody tr th {\n",
       "        vertical-align: top;\n",
       "    }\n",
       "\n",
       "    .dataframe thead th {\n",
       "        text-align: right;\n",
       "    }\n",
       "</style>\n",
       "<table border=\"1\" class=\"dataframe\">\n",
       "  <thead>\n",
       "    <tr style=\"text-align: right;\">\n",
       "      <th></th>\n",
       "      <th>MonthlyRevenue</th>\n",
       "      <th>MonthlyMinutes</th>\n",
       "      <th>TotalRecurringCharge</th>\n",
       "      <th>DirectorAssistedCalls</th>\n",
       "      <th>OverageMinutes</th>\n",
       "      <th>RoamingCalls</th>\n",
       "      <th>PercChangeMinutes</th>\n",
       "      <th>PercChangeRevenues</th>\n",
       "      <th>DroppedCalls</th>\n",
       "      <th>BlockedCalls</th>\n",
       "      <th>...</th>\n",
       "      <th>perc_overage_minute</th>\n",
       "      <th>perc_roaming_calls</th>\n",
       "      <th>perc_droppped_calls</th>\n",
       "      <th>perc_blocked_calls</th>\n",
       "      <th>perc_unanswered_calls</th>\n",
       "      <th>perc_customercare_calls</th>\n",
       "      <th>perc_threeway_calls</th>\n",
       "      <th>perc_received_calls</th>\n",
       "      <th>perc_outbound_calls</th>\n",
       "      <th>perc_inbound_calls</th>\n",
       "    </tr>\n",
       "  </thead>\n",
       "  <tbody>\n",
       "    <tr>\n",
       "      <th>21601</th>\n",
       "      <td>33.03</td>\n",
       "      <td>140.0</td>\n",
       "      <td>32.0</td>\n",
       "      <td>0.25</td>\n",
       "      <td>0.0</td>\n",
       "      <td>0.0</td>\n",
       "      <td>-101.0</td>\n",
       "      <td>-0.5</td>\n",
       "      <td>1.7</td>\n",
       "      <td>1.7</td>\n",
       "      <td>...</td>\n",
       "      <td>0.000000</td>\n",
       "      <td>0.0</td>\n",
       "      <td>0.012143</td>\n",
       "      <td>0.012143</td>\n",
       "      <td>0.137857</td>\n",
       "      <td>0.000000</td>\n",
       "      <td>0.002143</td>\n",
       "      <td>0.170000</td>\n",
       "      <td>0.026429</td>\n",
       "      <td>0.019286</td>\n",
       "    </tr>\n",
       "    <tr>\n",
       "      <th>27853</th>\n",
       "      <td>70.70</td>\n",
       "      <td>333.0</td>\n",
       "      <td>55.0</td>\n",
       "      <td>0.25</td>\n",
       "      <td>73.0</td>\n",
       "      <td>0.0</td>\n",
       "      <td>-183.0</td>\n",
       "      <td>-25.7</td>\n",
       "      <td>9.0</td>\n",
       "      <td>5.3</td>\n",
       "      <td>...</td>\n",
       "      <td>0.219219</td>\n",
       "      <td>0.0</td>\n",
       "      <td>0.027027</td>\n",
       "      <td>0.015916</td>\n",
       "      <td>0.047147</td>\n",
       "      <td>0.000000</td>\n",
       "      <td>0.000000</td>\n",
       "      <td>0.169670</td>\n",
       "      <td>0.035135</td>\n",
       "      <td>0.000000</td>\n",
       "    </tr>\n",
       "    <tr>\n",
       "      <th>26440</th>\n",
       "      <td>25.39</td>\n",
       "      <td>56.0</td>\n",
       "      <td>28.0</td>\n",
       "      <td>0.00</td>\n",
       "      <td>0.0</td>\n",
       "      <td>0.0</td>\n",
       "      <td>-56.0</td>\n",
       "      <td>-25.4</td>\n",
       "      <td>0.0</td>\n",
       "      <td>0.0</td>\n",
       "      <td>...</td>\n",
       "      <td>0.000000</td>\n",
       "      <td>0.0</td>\n",
       "      <td>0.000000</td>\n",
       "      <td>0.000000</td>\n",
       "      <td>0.048214</td>\n",
       "      <td>0.000000</td>\n",
       "      <td>0.000000</td>\n",
       "      <td>0.519643</td>\n",
       "      <td>0.053571</td>\n",
       "      <td>0.000000</td>\n",
       "    </tr>\n",
       "    <tr>\n",
       "      <th>32299</th>\n",
       "      <td>70.73</td>\n",
       "      <td>884.0</td>\n",
       "      <td>70.0</td>\n",
       "      <td>5.94</td>\n",
       "      <td>37.0</td>\n",
       "      <td>0.0</td>\n",
       "      <td>264.0</td>\n",
       "      <td>54.1</td>\n",
       "      <td>2.0</td>\n",
       "      <td>22.3</td>\n",
       "      <td>...</td>\n",
       "      <td>0.041855</td>\n",
       "      <td>0.0</td>\n",
       "      <td>0.002262</td>\n",
       "      <td>0.025226</td>\n",
       "      <td>0.022624</td>\n",
       "      <td>0.000792</td>\n",
       "      <td>0.000792</td>\n",
       "      <td>0.301018</td>\n",
       "      <td>0.084050</td>\n",
       "      <td>0.029751</td>\n",
       "    </tr>\n",
       "    <tr>\n",
       "      <th>25751</th>\n",
       "      <td>39.69</td>\n",
       "      <td>240.0</td>\n",
       "      <td>40.0</td>\n",
       "      <td>0.25</td>\n",
       "      <td>0.0</td>\n",
       "      <td>0.0</td>\n",
       "      <td>-58.0</td>\n",
       "      <td>0.3</td>\n",
       "      <td>0.3</td>\n",
       "      <td>2.7</td>\n",
       "      <td>...</td>\n",
       "      <td>0.000000</td>\n",
       "      <td>0.0</td>\n",
       "      <td>0.001250</td>\n",
       "      <td>0.011250</td>\n",
       "      <td>0.122083</td>\n",
       "      <td>0.000000</td>\n",
       "      <td>0.000000</td>\n",
       "      <td>0.159167</td>\n",
       "      <td>0.047083</td>\n",
       "      <td>0.000000</td>\n",
       "    </tr>\n",
       "  </tbody>\n",
       "</table>\n",
       "<p>5 rows × 55 columns</p>\n",
       "</div>"
      ],
      "text/plain": [
       "       MonthlyRevenue  MonthlyMinutes  TotalRecurringCharge  \\\n",
       "21601           33.03           140.0                  32.0   \n",
       "27853           70.70           333.0                  55.0   \n",
       "26440           25.39            56.0                  28.0   \n",
       "32299           70.73           884.0                  70.0   \n",
       "25751           39.69           240.0                  40.0   \n",
       "\n",
       "       DirectorAssistedCalls  OverageMinutes  RoamingCalls  PercChangeMinutes  \\\n",
       "21601                   0.25             0.0           0.0             -101.0   \n",
       "27853                   0.25            73.0           0.0             -183.0   \n",
       "26440                   0.00             0.0           0.0              -56.0   \n",
       "32299                   5.94            37.0           0.0              264.0   \n",
       "25751                   0.25             0.0           0.0              -58.0   \n",
       "\n",
       "       PercChangeRevenues  DroppedCalls  BlockedCalls  ...  \\\n",
       "21601                -0.5           1.7           1.7  ...   \n",
       "27853               -25.7           9.0           5.3  ...   \n",
       "26440               -25.4           0.0           0.0  ...   \n",
       "32299                54.1           2.0          22.3  ...   \n",
       "25751                 0.3           0.3           2.7  ...   \n",
       "\n",
       "       perc_overage_minute  perc_roaming_calls  perc_droppped_calls  \\\n",
       "21601             0.000000                 0.0             0.012143   \n",
       "27853             0.219219                 0.0             0.027027   \n",
       "26440             0.000000                 0.0             0.000000   \n",
       "32299             0.041855                 0.0             0.002262   \n",
       "25751             0.000000                 0.0             0.001250   \n",
       "\n",
       "       perc_blocked_calls  perc_unanswered_calls  perc_customercare_calls  \\\n",
       "21601            0.012143               0.137857                 0.000000   \n",
       "27853            0.015916               0.047147                 0.000000   \n",
       "26440            0.000000               0.048214                 0.000000   \n",
       "32299            0.025226               0.022624                 0.000792   \n",
       "25751            0.011250               0.122083                 0.000000   \n",
       "\n",
       "       perc_threeway_calls  perc_received_calls  perc_outbound_calls  \\\n",
       "21601             0.002143             0.170000             0.026429   \n",
       "27853             0.000000             0.169670             0.035135   \n",
       "26440             0.000000             0.519643             0.053571   \n",
       "32299             0.000792             0.301018             0.084050   \n",
       "25751             0.000000             0.159167             0.047083   \n",
       "\n",
       "       perc_inbound_calls  \n",
       "21601            0.019286  \n",
       "27853            0.000000  \n",
       "26440            0.000000  \n",
       "32299            0.029751  \n",
       "25751            0.000000  \n",
       "\n",
       "[5 rows x 55 columns]"
      ]
     },
     "execution_count": 62,
     "metadata": {},
     "output_type": "execute_result"
    }
   ],
   "source": [
    "cust_df.head()"
   ]
  },
  {
   "cell_type": "markdown",
   "metadata": {},
   "source": [
    "###  Scale Continous Variables"
   ]
  },
  {
   "cell_type": "code",
   "execution_count": 63,
   "metadata": {
    "id": "pZlh5pYilFIX"
   },
   "outputs": [],
   "source": [
    "#Train - test split to train and test model accuracy\n",
    "from sklearn.model_selection import train_test_split\n",
    "#Feature scaling for all continuous variable\n",
    "from sklearn.preprocessing import StandardScaler\n",
    "sc = StandardScaler()\n",
    "\n"
   ]
  },
  {
   "cell_type": "code",
   "execution_count": 64,
   "metadata": {},
   "outputs": [],
   "source": [
    "#categorical_cols,continous_cols\n",
    "\n",
    "## Scaling continous values in dataframe\n",
    "cust_df[continous_cols]=sc.fit_transform(cust_df[continous_cols])"
   ]
  },
  {
   "cell_type": "code",
   "execution_count": 65,
   "metadata": {},
   "outputs": [],
   "source": [
    "## Scaling continous values in dataframe\n",
    "pred_df = pred_df.replace([np.inf, -np.inf], np.nan).dropna(axis=0)\n",
    "pred_df[continous_cols]=sc.fit_transform(pred_df[continous_cols])"
   ]
  },
  {
   "cell_type": "code",
   "execution_count": 66,
   "metadata": {},
   "outputs": [
    {
     "data": {
      "text/plain": [
       "(69460, 55)"
      ]
     },
     "execution_count": 66,
     "metadata": {},
     "output_type": "execute_result"
    },
    {
     "data": {
      "text/plain": [
       "(19256, 55)"
      ]
     },
     "execution_count": 66,
     "metadata": {},
     "output_type": "execute_result"
    }
   ],
   "source": [
    "cust_df.shape\n",
    "pred_df.shape"
   ]
  },
  {
   "cell_type": "code",
   "execution_count": 67,
   "metadata": {},
   "outputs": [
    {
     "data": {
      "text/html": [
       "<div>\n",
       "<style scoped>\n",
       "    .dataframe tbody tr th:only-of-type {\n",
       "        vertical-align: middle;\n",
       "    }\n",
       "\n",
       "    .dataframe tbody tr th {\n",
       "        vertical-align: top;\n",
       "    }\n",
       "\n",
       "    .dataframe thead th {\n",
       "        text-align: right;\n",
       "    }\n",
       "</style>\n",
       "<table border=\"1\" class=\"dataframe\">\n",
       "  <thead>\n",
       "    <tr style=\"text-align: right;\">\n",
       "      <th></th>\n",
       "      <th>MonthlyRevenue</th>\n",
       "      <th>MonthlyMinutes</th>\n",
       "      <th>TotalRecurringCharge</th>\n",
       "      <th>DirectorAssistedCalls</th>\n",
       "      <th>OverageMinutes</th>\n",
       "      <th>RoamingCalls</th>\n",
       "      <th>PercChangeMinutes</th>\n",
       "      <th>PercChangeRevenues</th>\n",
       "      <th>DroppedCalls</th>\n",
       "      <th>BlockedCalls</th>\n",
       "      <th>...</th>\n",
       "      <th>perc_overage_minute</th>\n",
       "      <th>perc_roaming_calls</th>\n",
       "      <th>perc_droppped_calls</th>\n",
       "      <th>perc_blocked_calls</th>\n",
       "      <th>perc_unanswered_calls</th>\n",
       "      <th>perc_customercare_calls</th>\n",
       "      <th>perc_threeway_calls</th>\n",
       "      <th>perc_received_calls</th>\n",
       "      <th>perc_outbound_calls</th>\n",
       "      <th>perc_inbound_calls</th>\n",
       "    </tr>\n",
       "  </thead>\n",
       "  <tbody>\n",
       "    <tr>\n",
       "      <th>21601</th>\n",
       "      <td>-0.597077</td>\n",
       "      <td>-0.732323</td>\n",
       "      <td>-0.627168</td>\n",
       "      <td>-0.360342</td>\n",
       "      <td>-0.432098</td>\n",
       "      <td>-0.131645</td>\n",
       "      <td>-0.339015</td>\n",
       "      <td>0.011116</td>\n",
       "      <td>-0.475359</td>\n",
       "      <td>-0.220561</td>\n",
       "      <td>...</td>\n",
       "      <td>-0.565923</td>\n",
       "      <td>-0.196378</td>\n",
       "      <td>-0.085519</td>\n",
       "      <td>0.036975</td>\n",
       "      <td>0.609394</td>\n",
       "      <td>-0.167197</td>\n",
       "      <td>0.314214</td>\n",
       "      <td>-0.043259</td>\n",
       "      <td>-0.468648</td>\n",
       "      <td>0.260619</td>\n",
       "    </tr>\n",
       "    <tr>\n",
       "      <th>27853</th>\n",
       "      <td>0.305640</td>\n",
       "      <td>-0.350240</td>\n",
       "      <td>0.390448</td>\n",
       "      <td>-0.360342</td>\n",
       "      <td>0.371081</td>\n",
       "      <td>-0.131645</td>\n",
       "      <td>-0.660532</td>\n",
       "      <td>-0.655032</td>\n",
       "      <td>0.341459</td>\n",
       "      <td>0.123363</td>\n",
       "      <td>...</td>\n",
       "      <td>1.376072</td>\n",
       "      <td>-0.196378</td>\n",
       "      <td>0.613398</td>\n",
       "      <td>0.124153</td>\n",
       "      <td>-0.161965</td>\n",
       "      <td>-0.167197</td>\n",
       "      <td>-0.156880</td>\n",
       "      <td>-0.045630</td>\n",
       "      <td>-0.300222</td>\n",
       "      <td>-0.653289</td>\n",
       "    </tr>\n",
       "    <tr>\n",
       "      <th>26440</th>\n",
       "      <td>-0.780161</td>\n",
       "      <td>-0.898618</td>\n",
       "      <td>-0.804144</td>\n",
       "      <td>-0.541802</td>\n",
       "      <td>-0.432098</td>\n",
       "      <td>-0.131645</td>\n",
       "      <td>-0.162572</td>\n",
       "      <td>-0.647101</td>\n",
       "      <td>-0.665577</td>\n",
       "      <td>-0.382970</td>\n",
       "      <td>...</td>\n",
       "      <td>-0.565923</td>\n",
       "      <td>-0.196378</td>\n",
       "      <td>-0.655712</td>\n",
       "      <td>-0.243590</td>\n",
       "      <td>-0.152891</td>\n",
       "      <td>-0.167197</td>\n",
       "      <td>-0.156880</td>\n",
       "      <td>2.465777</td>\n",
       "      <td>0.056422</td>\n",
       "      <td>-0.653289</td>\n",
       "    </tr>\n",
       "    <tr>\n",
       "      <th>32299</th>\n",
       "      <td>0.306359</td>\n",
       "      <td>0.740576</td>\n",
       "      <td>1.054110</td>\n",
       "      <td>3.769699</td>\n",
       "      <td>-0.025008</td>\n",
       "      <td>-0.131645</td>\n",
       "      <td>1.092130</td>\n",
       "      <td>1.454435</td>\n",
       "      <td>-0.441791</td>\n",
       "      <td>1.747450</td>\n",
       "      <td>...</td>\n",
       "      <td>-0.195141</td>\n",
       "      <td>-0.196378</td>\n",
       "      <td>-0.549475</td>\n",
       "      <td>0.339272</td>\n",
       "      <td>-0.370496</td>\n",
       "      <td>-0.133395</td>\n",
       "      <td>0.017204</td>\n",
       "      <td>0.896927</td>\n",
       "      <td>0.646016</td>\n",
       "      <td>0.756553</td>\n",
       "    </tr>\n",
       "    <tr>\n",
       "      <th>25751</th>\n",
       "      <td>-0.437478</td>\n",
       "      <td>-0.534352</td>\n",
       "      <td>-0.273214</td>\n",
       "      <td>-0.360342</td>\n",
       "      <td>-0.432098</td>\n",
       "      <td>-0.131645</td>\n",
       "      <td>-0.170414</td>\n",
       "      <td>0.032263</td>\n",
       "      <td>-0.632009</td>\n",
       "      <td>-0.125027</td>\n",
       "      <td>...</td>\n",
       "      <td>-0.565923</td>\n",
       "      <td>-0.196378</td>\n",
       "      <td>-0.597016</td>\n",
       "      <td>0.016345</td>\n",
       "      <td>0.475260</td>\n",
       "      <td>-0.167197</td>\n",
       "      <td>-0.156880</td>\n",
       "      <td>-0.120999</td>\n",
       "      <td>-0.069088</td>\n",
       "      <td>-0.653289</td>\n",
       "    </tr>\n",
       "  </tbody>\n",
       "</table>\n",
       "<p>5 rows × 55 columns</p>\n",
       "</div>"
      ],
      "text/plain": [
       "       MonthlyRevenue  MonthlyMinutes  TotalRecurringCharge  \\\n",
       "21601       -0.597077       -0.732323             -0.627168   \n",
       "27853        0.305640       -0.350240              0.390448   \n",
       "26440       -0.780161       -0.898618             -0.804144   \n",
       "32299        0.306359        0.740576              1.054110   \n",
       "25751       -0.437478       -0.534352             -0.273214   \n",
       "\n",
       "       DirectorAssistedCalls  OverageMinutes  RoamingCalls  PercChangeMinutes  \\\n",
       "21601              -0.360342       -0.432098     -0.131645          -0.339015   \n",
       "27853              -0.360342        0.371081     -0.131645          -0.660532   \n",
       "26440              -0.541802       -0.432098     -0.131645          -0.162572   \n",
       "32299               3.769699       -0.025008     -0.131645           1.092130   \n",
       "25751              -0.360342       -0.432098     -0.131645          -0.170414   \n",
       "\n",
       "       PercChangeRevenues  DroppedCalls  BlockedCalls  ...  \\\n",
       "21601            0.011116     -0.475359     -0.220561  ...   \n",
       "27853           -0.655032      0.341459      0.123363  ...   \n",
       "26440           -0.647101     -0.665577     -0.382970  ...   \n",
       "32299            1.454435     -0.441791      1.747450  ...   \n",
       "25751            0.032263     -0.632009     -0.125027  ...   \n",
       "\n",
       "       perc_overage_minute  perc_roaming_calls  perc_droppped_calls  \\\n",
       "21601            -0.565923           -0.196378            -0.085519   \n",
       "27853             1.376072           -0.196378             0.613398   \n",
       "26440            -0.565923           -0.196378            -0.655712   \n",
       "32299            -0.195141           -0.196378            -0.549475   \n",
       "25751            -0.565923           -0.196378            -0.597016   \n",
       "\n",
       "       perc_blocked_calls  perc_unanswered_calls  perc_customercare_calls  \\\n",
       "21601            0.036975               0.609394                -0.167197   \n",
       "27853            0.124153              -0.161965                -0.167197   \n",
       "26440           -0.243590              -0.152891                -0.167197   \n",
       "32299            0.339272              -0.370496                -0.133395   \n",
       "25751            0.016345               0.475260                -0.167197   \n",
       "\n",
       "       perc_threeway_calls  perc_received_calls  perc_outbound_calls  \\\n",
       "21601             0.314214            -0.043259            -0.468648   \n",
       "27853            -0.156880            -0.045630            -0.300222   \n",
       "26440            -0.156880             2.465777             0.056422   \n",
       "32299             0.017204             0.896927             0.646016   \n",
       "25751            -0.156880            -0.120999            -0.069088   \n",
       "\n",
       "       perc_inbound_calls  \n",
       "21601            0.260619  \n",
       "27853           -0.653289  \n",
       "26440           -0.653289  \n",
       "32299            0.756553  \n",
       "25751           -0.653289  \n",
       "\n",
       "[5 rows x 55 columns]"
      ]
     },
     "execution_count": 67,
     "metadata": {},
     "output_type": "execute_result"
    }
   ],
   "source": [
    "cust_df.head()"
   ]
  },
  {
   "cell_type": "code",
   "execution_count": 68,
   "metadata": {},
   "outputs": [
    {
     "data": {
      "text/html": [
       "<div>\n",
       "<style scoped>\n",
       "    .dataframe tbody tr th:only-of-type {\n",
       "        vertical-align: middle;\n",
       "    }\n",
       "\n",
       "    .dataframe tbody tr th {\n",
       "        vertical-align: top;\n",
       "    }\n",
       "\n",
       "    .dataframe thead th {\n",
       "        text-align: right;\n",
       "    }\n",
       "</style>\n",
       "<table border=\"1\" class=\"dataframe\">\n",
       "  <thead>\n",
       "    <tr style=\"text-align: right;\">\n",
       "      <th></th>\n",
       "      <th>MonthlyRevenue</th>\n",
       "      <th>MonthlyMinutes</th>\n",
       "      <th>TotalRecurringCharge</th>\n",
       "      <th>DirectorAssistedCalls</th>\n",
       "      <th>OverageMinutes</th>\n",
       "      <th>RoamingCalls</th>\n",
       "      <th>PercChangeMinutes</th>\n",
       "      <th>PercChangeRevenues</th>\n",
       "      <th>DroppedCalls</th>\n",
       "      <th>BlockedCalls</th>\n",
       "      <th>...</th>\n",
       "      <th>perc_overage_minute</th>\n",
       "      <th>perc_roaming_calls</th>\n",
       "      <th>perc_droppped_calls</th>\n",
       "      <th>perc_blocked_calls</th>\n",
       "      <th>perc_unanswered_calls</th>\n",
       "      <th>perc_customercare_calls</th>\n",
       "      <th>perc_threeway_calls</th>\n",
       "      <th>perc_received_calls</th>\n",
       "      <th>perc_outbound_calls</th>\n",
       "      <th>perc_inbound_calls</th>\n",
       "    </tr>\n",
       "  </thead>\n",
       "  <tbody>\n",
       "    <tr>\n",
       "      <th>0</th>\n",
       "      <td>-0.040680</td>\n",
       "      <td>-0.093713</td>\n",
       "      <td>-0.428776</td>\n",
       "      <td>-0.309466</td>\n",
       "      <td>-0.183139</td>\n",
       "      <td>-0.176998</td>\n",
       "      <td>2.160071</td>\n",
       "      <td>1.420871</td>\n",
       "      <td>0.246531</td>\n",
       "      <td>-0.307604</td>\n",
       "      <td>...</td>\n",
       "      <td>-0.130789</td>\n",
       "      <td>-0.205157</td>\n",
       "      <td>0.128916</td>\n",
       "      <td>-0.132018</td>\n",
       "      <td>0.394023</td>\n",
       "      <td>-0.011907</td>\n",
       "      <td>-0.022460</td>\n",
       "      <td>-0.457388</td>\n",
       "      <td>0.895964</td>\n",
       "      <td>-0.044673</td>\n",
       "    </tr>\n",
       "    <tr>\n",
       "      <th>1</th>\n",
       "      <td>-0.092707</td>\n",
       "      <td>0.070703</td>\n",
       "      <td>1.033751</td>\n",
       "      <td>-0.428130</td>\n",
       "      <td>-0.423189</td>\n",
       "      <td>-0.176998</td>\n",
       "      <td>0.188812</td>\n",
       "      <td>0.034072</td>\n",
       "      <td>0.403143</td>\n",
       "      <td>-0.337527</td>\n",
       "      <td>...</td>\n",
       "      <td>-0.563222</td>\n",
       "      <td>-0.205157</td>\n",
       "      <td>0.122746</td>\n",
       "      <td>-0.144407</td>\n",
       "      <td>0.447638</td>\n",
       "      <td>0.260713</td>\n",
       "      <td>-0.195206</td>\n",
       "      <td>0.071204</td>\n",
       "      <td>-0.491040</td>\n",
       "      <td>-0.599894</td>\n",
       "    </tr>\n",
       "    <tr>\n",
       "      <th>2</th>\n",
       "      <td>0.876705</td>\n",
       "      <td>0.957036</td>\n",
       "      <td>0.114448</td>\n",
       "      <td>1.921411</td>\n",
       "      <td>3.960330</td>\n",
       "      <td>-0.176998</td>\n",
       "      <td>0.827276</td>\n",
       "      <td>0.667648</td>\n",
       "      <td>0.738741</td>\n",
       "      <td>-0.108118</td>\n",
       "      <td>...</td>\n",
       "      <td>3.107677</td>\n",
       "      <td>-0.205157</td>\n",
       "      <td>-0.054678</td>\n",
       "      <td>-0.120001</td>\n",
       "      <td>0.672696</td>\n",
       "      <td>0.158863</td>\n",
       "      <td>-0.114902</td>\n",
       "      <td>0.213485</td>\n",
       "      <td>0.966499</td>\n",
       "      <td>-0.644034</td>\n",
       "    </tr>\n",
       "    <tr>\n",
       "      <th>3</th>\n",
       "      <td>-0.544838</td>\n",
       "      <td>-0.717358</td>\n",
       "      <td>-0.721281</td>\n",
       "      <td>-0.428130</td>\n",
       "      <td>-0.256198</td>\n",
       "      <td>-0.176998</td>\n",
       "      <td>0.156889</td>\n",
       "      <td>0.232574</td>\n",
       "      <td>-0.458224</td>\n",
       "      <td>-0.337527</td>\n",
       "      <td>...</td>\n",
       "      <td>0.386436</td>\n",
       "      <td>-0.205157</td>\n",
       "      <td>-0.023273</td>\n",
       "      <td>-0.095176</td>\n",
       "      <td>0.303206</td>\n",
       "      <td>-0.093615</td>\n",
       "      <td>-0.195206</td>\n",
       "      <td>0.290344</td>\n",
       "      <td>0.033480</td>\n",
       "      <td>0.785921</td>\n",
       "    </tr>\n",
       "    <tr>\n",
       "      <th>4</th>\n",
       "      <td>-0.091786</td>\n",
       "      <td>1.285867</td>\n",
       "      <td>0.114448</td>\n",
       "      <td>-0.076885</td>\n",
       "      <td>-0.423189</td>\n",
       "      <td>0.015500</td>\n",
       "      <td>0.711555</td>\n",
       "      <td>0.061264</td>\n",
       "      <td>-0.379918</td>\n",
       "      <td>0.191111</td>\n",
       "      <td>...</td>\n",
       "      <td>-0.563222</td>\n",
       "      <td>-0.145256</td>\n",
       "      <td>-0.424658</td>\n",
       "      <td>-0.089715</td>\n",
       "      <td>-0.202238</td>\n",
       "      <td>-0.011321</td>\n",
       "      <td>-0.195206</td>\n",
       "      <td>1.668380</td>\n",
       "      <td>-0.174173</td>\n",
       "      <td>-0.336063</td>\n",
       "    </tr>\n",
       "  </tbody>\n",
       "</table>\n",
       "<p>5 rows × 55 columns</p>\n",
       "</div>"
      ],
      "text/plain": [
       "   MonthlyRevenue  MonthlyMinutes  TotalRecurringCharge  \\\n",
       "0       -0.040680       -0.093713             -0.428776   \n",
       "1       -0.092707        0.070703              1.033751   \n",
       "2        0.876705        0.957036              0.114448   \n",
       "3       -0.544838       -0.717358             -0.721281   \n",
       "4       -0.091786        1.285867              0.114448   \n",
       "\n",
       "   DirectorAssistedCalls  OverageMinutes  RoamingCalls  PercChangeMinutes  \\\n",
       "0              -0.309466       -0.183139     -0.176998           2.160071   \n",
       "1              -0.428130       -0.423189     -0.176998           0.188812   \n",
       "2               1.921411        3.960330     -0.176998           0.827276   \n",
       "3              -0.428130       -0.256198     -0.176998           0.156889   \n",
       "4              -0.076885       -0.423189      0.015500           0.711555   \n",
       "\n",
       "   PercChangeRevenues  DroppedCalls  BlockedCalls  ...  perc_overage_minute  \\\n",
       "0            1.420871      0.246531     -0.307604  ...            -0.130789   \n",
       "1            0.034072      0.403143     -0.337527  ...            -0.563222   \n",
       "2            0.667648      0.738741     -0.108118  ...             3.107677   \n",
       "3            0.232574     -0.458224     -0.337527  ...             0.386436   \n",
       "4            0.061264     -0.379918      0.191111  ...            -0.563222   \n",
       "\n",
       "   perc_roaming_calls  perc_droppped_calls  perc_blocked_calls  \\\n",
       "0           -0.205157             0.128916           -0.132018   \n",
       "1           -0.205157             0.122746           -0.144407   \n",
       "2           -0.205157            -0.054678           -0.120001   \n",
       "3           -0.205157            -0.023273           -0.095176   \n",
       "4           -0.145256            -0.424658           -0.089715   \n",
       "\n",
       "   perc_unanswered_calls  perc_customercare_calls  perc_threeway_calls  \\\n",
       "0               0.394023                -0.011907            -0.022460   \n",
       "1               0.447638                 0.260713            -0.195206   \n",
       "2               0.672696                 0.158863            -0.114902   \n",
       "3               0.303206                -0.093615            -0.195206   \n",
       "4              -0.202238                -0.011321            -0.195206   \n",
       "\n",
       "   perc_received_calls  perc_outbound_calls  perc_inbound_calls  \n",
       "0            -0.457388             0.895964           -0.044673  \n",
       "1             0.071204            -0.491040           -0.599894  \n",
       "2             0.213485             0.966499           -0.644034  \n",
       "3             0.290344             0.033480            0.785921  \n",
       "4             1.668380            -0.174173           -0.336063  \n",
       "\n",
       "[5 rows x 55 columns]"
      ]
     },
     "execution_count": 68,
     "metadata": {},
     "output_type": "execute_result"
    }
   ],
   "source": [
    "pred_df.head()"
   ]
  },
  {
   "cell_type": "code",
   "execution_count": 69,
   "metadata": {},
   "outputs": [
    {
     "data": {
      "text/plain": [
       "1    34730\n",
       "0    34730\n",
       "Name: Churn, dtype: int64"
      ]
     },
     "execution_count": 69,
     "metadata": {},
     "output_type": "execute_result"
    }
   ],
   "source": [
    "y.value_counts()"
   ]
  },
  {
   "cell_type": "code",
   "execution_count": 70,
   "metadata": {},
   "outputs": [
    {
     "data": {
      "text/plain": [
       "1    50.0\n",
       "0    50.0\n",
       "Name: Churn, dtype: float64"
      ]
     },
     "execution_count": 70,
     "metadata": {},
     "output_type": "execute_result"
    }
   ],
   "source": [
    "y.value_counts()/len(y)*100"
   ]
  },
  {
   "cell_type": "code",
   "execution_count": 71,
   "metadata": {},
   "outputs": [
    {
     "data": {
      "text/plain": [
       "18"
      ]
     },
     "execution_count": 71,
     "metadata": {},
     "output_type": "execute_result"
    }
   ],
   "source": [
    "len(imp_categorical_cols)"
   ]
  },
  {
   "cell_type": "code",
   "execution_count": 72,
   "metadata": {},
   "outputs": [
    {
     "data": {
      "text/html": [
       "<div>\n",
       "<style scoped>\n",
       "    .dataframe tbody tr th:only-of-type {\n",
       "        vertical-align: middle;\n",
       "    }\n",
       "\n",
       "    .dataframe tbody tr th {\n",
       "        vertical-align: top;\n",
       "    }\n",
       "\n",
       "    .dataframe thead th {\n",
       "        text-align: right;\n",
       "    }\n",
       "</style>\n",
       "<table border=\"1\" class=\"dataframe\">\n",
       "  <thead>\n",
       "    <tr style=\"text-align: right;\">\n",
       "      <th></th>\n",
       "      <th>MonthlyRevenue</th>\n",
       "      <th>MonthlyMinutes</th>\n",
       "      <th>TotalRecurringCharge</th>\n",
       "      <th>DirectorAssistedCalls</th>\n",
       "      <th>OverageMinutes</th>\n",
       "      <th>RoamingCalls</th>\n",
       "      <th>PercChangeMinutes</th>\n",
       "      <th>PercChangeRevenues</th>\n",
       "      <th>DroppedCalls</th>\n",
       "      <th>BlockedCalls</th>\n",
       "      <th>...</th>\n",
       "      <th>perc_overage_minute</th>\n",
       "      <th>perc_roaming_calls</th>\n",
       "      <th>perc_droppped_calls</th>\n",
       "      <th>perc_blocked_calls</th>\n",
       "      <th>perc_unanswered_calls</th>\n",
       "      <th>perc_customercare_calls</th>\n",
       "      <th>perc_threeway_calls</th>\n",
       "      <th>perc_received_calls</th>\n",
       "      <th>perc_outbound_calls</th>\n",
       "      <th>perc_inbound_calls</th>\n",
       "    </tr>\n",
       "  </thead>\n",
       "  <tbody>\n",
       "    <tr>\n",
       "      <th>21601</th>\n",
       "      <td>-0.597077</td>\n",
       "      <td>-0.732323</td>\n",
       "      <td>-0.627168</td>\n",
       "      <td>-0.360342</td>\n",
       "      <td>-0.432098</td>\n",
       "      <td>-0.131645</td>\n",
       "      <td>-0.339015</td>\n",
       "      <td>0.011116</td>\n",
       "      <td>-0.475359</td>\n",
       "      <td>-0.220561</td>\n",
       "      <td>...</td>\n",
       "      <td>-0.565923</td>\n",
       "      <td>-0.196378</td>\n",
       "      <td>-0.085519</td>\n",
       "      <td>0.036975</td>\n",
       "      <td>0.609394</td>\n",
       "      <td>-0.167197</td>\n",
       "      <td>0.314214</td>\n",
       "      <td>-0.043259</td>\n",
       "      <td>-0.468648</td>\n",
       "      <td>0.260619</td>\n",
       "    </tr>\n",
       "    <tr>\n",
       "      <th>27853</th>\n",
       "      <td>0.305640</td>\n",
       "      <td>-0.350240</td>\n",
       "      <td>0.390448</td>\n",
       "      <td>-0.360342</td>\n",
       "      <td>0.371081</td>\n",
       "      <td>-0.131645</td>\n",
       "      <td>-0.660532</td>\n",
       "      <td>-0.655032</td>\n",
       "      <td>0.341459</td>\n",
       "      <td>0.123363</td>\n",
       "      <td>...</td>\n",
       "      <td>1.376072</td>\n",
       "      <td>-0.196378</td>\n",
       "      <td>0.613398</td>\n",
       "      <td>0.124153</td>\n",
       "      <td>-0.161965</td>\n",
       "      <td>-0.167197</td>\n",
       "      <td>-0.156880</td>\n",
       "      <td>-0.045630</td>\n",
       "      <td>-0.300222</td>\n",
       "      <td>-0.653289</td>\n",
       "    </tr>\n",
       "    <tr>\n",
       "      <th>26440</th>\n",
       "      <td>-0.780161</td>\n",
       "      <td>-0.898618</td>\n",
       "      <td>-0.804144</td>\n",
       "      <td>-0.541802</td>\n",
       "      <td>-0.432098</td>\n",
       "      <td>-0.131645</td>\n",
       "      <td>-0.162572</td>\n",
       "      <td>-0.647101</td>\n",
       "      <td>-0.665577</td>\n",
       "      <td>-0.382970</td>\n",
       "      <td>...</td>\n",
       "      <td>-0.565923</td>\n",
       "      <td>-0.196378</td>\n",
       "      <td>-0.655712</td>\n",
       "      <td>-0.243590</td>\n",
       "      <td>-0.152891</td>\n",
       "      <td>-0.167197</td>\n",
       "      <td>-0.156880</td>\n",
       "      <td>2.465777</td>\n",
       "      <td>0.056422</td>\n",
       "      <td>-0.653289</td>\n",
       "    </tr>\n",
       "    <tr>\n",
       "      <th>32299</th>\n",
       "      <td>0.306359</td>\n",
       "      <td>0.740576</td>\n",
       "      <td>1.054110</td>\n",
       "      <td>3.769699</td>\n",
       "      <td>-0.025008</td>\n",
       "      <td>-0.131645</td>\n",
       "      <td>1.092130</td>\n",
       "      <td>1.454435</td>\n",
       "      <td>-0.441791</td>\n",
       "      <td>1.747450</td>\n",
       "      <td>...</td>\n",
       "      <td>-0.195141</td>\n",
       "      <td>-0.196378</td>\n",
       "      <td>-0.549475</td>\n",
       "      <td>0.339272</td>\n",
       "      <td>-0.370496</td>\n",
       "      <td>-0.133395</td>\n",
       "      <td>0.017204</td>\n",
       "      <td>0.896927</td>\n",
       "      <td>0.646016</td>\n",
       "      <td>0.756553</td>\n",
       "    </tr>\n",
       "    <tr>\n",
       "      <th>25751</th>\n",
       "      <td>-0.437478</td>\n",
       "      <td>-0.534352</td>\n",
       "      <td>-0.273214</td>\n",
       "      <td>-0.360342</td>\n",
       "      <td>-0.432098</td>\n",
       "      <td>-0.131645</td>\n",
       "      <td>-0.170414</td>\n",
       "      <td>0.032263</td>\n",
       "      <td>-0.632009</td>\n",
       "      <td>-0.125027</td>\n",
       "      <td>...</td>\n",
       "      <td>-0.565923</td>\n",
       "      <td>-0.196378</td>\n",
       "      <td>-0.597016</td>\n",
       "      <td>0.016345</td>\n",
       "      <td>0.475260</td>\n",
       "      <td>-0.167197</td>\n",
       "      <td>-0.156880</td>\n",
       "      <td>-0.120999</td>\n",
       "      <td>-0.069088</td>\n",
       "      <td>-0.653289</td>\n",
       "    </tr>\n",
       "  </tbody>\n",
       "</table>\n",
       "<p>5 rows × 55 columns</p>\n",
       "</div>"
      ],
      "text/plain": [
       "       MonthlyRevenue  MonthlyMinutes  TotalRecurringCharge  \\\n",
       "21601       -0.597077       -0.732323             -0.627168   \n",
       "27853        0.305640       -0.350240              0.390448   \n",
       "26440       -0.780161       -0.898618             -0.804144   \n",
       "32299        0.306359        0.740576              1.054110   \n",
       "25751       -0.437478       -0.534352             -0.273214   \n",
       "\n",
       "       DirectorAssistedCalls  OverageMinutes  RoamingCalls  PercChangeMinutes  \\\n",
       "21601              -0.360342       -0.432098     -0.131645          -0.339015   \n",
       "27853              -0.360342        0.371081     -0.131645          -0.660532   \n",
       "26440              -0.541802       -0.432098     -0.131645          -0.162572   \n",
       "32299               3.769699       -0.025008     -0.131645           1.092130   \n",
       "25751              -0.360342       -0.432098     -0.131645          -0.170414   \n",
       "\n",
       "       PercChangeRevenues  DroppedCalls  BlockedCalls  ...  \\\n",
       "21601            0.011116     -0.475359     -0.220561  ...   \n",
       "27853           -0.655032      0.341459      0.123363  ...   \n",
       "26440           -0.647101     -0.665577     -0.382970  ...   \n",
       "32299            1.454435     -0.441791      1.747450  ...   \n",
       "25751            0.032263     -0.632009     -0.125027  ...   \n",
       "\n",
       "       perc_overage_minute  perc_roaming_calls  perc_droppped_calls  \\\n",
       "21601            -0.565923           -0.196378            -0.085519   \n",
       "27853             1.376072           -0.196378             0.613398   \n",
       "26440            -0.565923           -0.196378            -0.655712   \n",
       "32299            -0.195141           -0.196378            -0.549475   \n",
       "25751            -0.565923           -0.196378            -0.597016   \n",
       "\n",
       "       perc_blocked_calls  perc_unanswered_calls  perc_customercare_calls  \\\n",
       "21601            0.036975               0.609394                -0.167197   \n",
       "27853            0.124153              -0.161965                -0.167197   \n",
       "26440           -0.243590              -0.152891                -0.167197   \n",
       "32299            0.339272              -0.370496                -0.133395   \n",
       "25751            0.016345               0.475260                -0.167197   \n",
       "\n",
       "       perc_threeway_calls  perc_received_calls  perc_outbound_calls  \\\n",
       "21601             0.314214            -0.043259            -0.468648   \n",
       "27853            -0.156880            -0.045630            -0.300222   \n",
       "26440            -0.156880             2.465777             0.056422   \n",
       "32299             0.017204             0.896927             0.646016   \n",
       "25751            -0.156880            -0.120999            -0.069088   \n",
       "\n",
       "       perc_inbound_calls  \n",
       "21601            0.260619  \n",
       "27853           -0.653289  \n",
       "26440           -0.653289  \n",
       "32299            0.756553  \n",
       "25751           -0.653289  \n",
       "\n",
       "[5 rows x 55 columns]"
      ]
     },
     "execution_count": 72,
     "metadata": {},
     "output_type": "execute_result"
    }
   ],
   "source": [
    "cust_df.head()"
   ]
  },
  {
   "cell_type": "code",
   "execution_count": 73,
   "metadata": {},
   "outputs": [
    {
     "data": {
      "text/html": [
       "<div>\n",
       "<style scoped>\n",
       "    .dataframe tbody tr th:only-of-type {\n",
       "        vertical-align: middle;\n",
       "    }\n",
       "\n",
       "    .dataframe tbody tr th {\n",
       "        vertical-align: top;\n",
       "    }\n",
       "\n",
       "    .dataframe thead th {\n",
       "        text-align: right;\n",
       "    }\n",
       "</style>\n",
       "<table border=\"1\" class=\"dataframe\">\n",
       "  <thead>\n",
       "    <tr style=\"text-align: right;\">\n",
       "      <th></th>\n",
       "      <th>UniqueSubs</th>\n",
       "      <th>ActiveSubs</th>\n",
       "      <th>HandsetModels</th>\n",
       "      <th>HandsetRefurbished</th>\n",
       "      <th>HandsetWebCapable</th>\n",
       "      <th>Homeownership</th>\n",
       "      <th>BuysViaMailOrder</th>\n",
       "      <th>RespondsToMailOffers</th>\n",
       "      <th>HasCreditCard</th>\n",
       "      <th>RetentionCalls</th>\n",
       "      <th>RetentionOffersAccepted</th>\n",
       "      <th>IncomeGroup</th>\n",
       "      <th>HandsetPrice</th>\n",
       "      <th>MadeCallToRetentionTeam</th>\n",
       "      <th>CreditRating</th>\n",
       "      <th>PrizmCode</th>\n",
       "      <th>MaritalStatus</th>\n",
       "      <th>perc_active_subs</th>\n",
       "    </tr>\n",
       "  </thead>\n",
       "  <tbody>\n",
       "    <tr>\n",
       "      <th>21601</th>\n",
       "      <td>2</td>\n",
       "      <td>2</td>\n",
       "      <td>1.0</td>\n",
       "      <td>No</td>\n",
       "      <td>Yes</td>\n",
       "      <td>Known</td>\n",
       "      <td>Yes</td>\n",
       "      <td>Yes</td>\n",
       "      <td>Yes</td>\n",
       "      <td>0</td>\n",
       "      <td>0</td>\n",
       "      <td>4</td>\n",
       "      <td>Unknown</td>\n",
       "      <td>No</td>\n",
       "      <td>3-Good</td>\n",
       "      <td>Other</td>\n",
       "      <td>Unknown</td>\n",
       "      <td>1.0</td>\n",
       "    </tr>\n",
       "    <tr>\n",
       "      <th>27853</th>\n",
       "      <td>1</td>\n",
       "      <td>1</td>\n",
       "      <td>1.0</td>\n",
       "      <td>No</td>\n",
       "      <td>Yes</td>\n",
       "      <td>Unknown</td>\n",
       "      <td>No</td>\n",
       "      <td>No</td>\n",
       "      <td>No</td>\n",
       "      <td>0</td>\n",
       "      <td>0</td>\n",
       "      <td>0</td>\n",
       "      <td>Unknown</td>\n",
       "      <td>No</td>\n",
       "      <td>2-High</td>\n",
       "      <td>Town</td>\n",
       "      <td>Unknown</td>\n",
       "      <td>1.0</td>\n",
       "    </tr>\n",
       "    <tr>\n",
       "      <th>26440</th>\n",
       "      <td>2</td>\n",
       "      <td>1</td>\n",
       "      <td>1.0</td>\n",
       "      <td>No</td>\n",
       "      <td>Yes</td>\n",
       "      <td>Known</td>\n",
       "      <td>No</td>\n",
       "      <td>No</td>\n",
       "      <td>Yes</td>\n",
       "      <td>0</td>\n",
       "      <td>0</td>\n",
       "      <td>7</td>\n",
       "      <td>Unknown</td>\n",
       "      <td>No</td>\n",
       "      <td>5-Low</td>\n",
       "      <td>Suburban</td>\n",
       "      <td>Yes</td>\n",
       "      <td>0.5</td>\n",
       "    </tr>\n",
       "    <tr>\n",
       "      <th>32299</th>\n",
       "      <td>1</td>\n",
       "      <td>1</td>\n",
       "      <td>2.0</td>\n",
       "      <td>Yes</td>\n",
       "      <td>Yes</td>\n",
       "      <td>Known</td>\n",
       "      <td>No</td>\n",
       "      <td>No</td>\n",
       "      <td>Yes</td>\n",
       "      <td>0</td>\n",
       "      <td>0</td>\n",
       "      <td>4</td>\n",
       "      <td>150</td>\n",
       "      <td>No</td>\n",
       "      <td>6-VeryLow</td>\n",
       "      <td>Other</td>\n",
       "      <td>Unknown</td>\n",
       "      <td>1.0</td>\n",
       "    </tr>\n",
       "    <tr>\n",
       "      <th>25751</th>\n",
       "      <td>1</td>\n",
       "      <td>1</td>\n",
       "      <td>2.0</td>\n",
       "      <td>No</td>\n",
       "      <td>Yes</td>\n",
       "      <td>Known</td>\n",
       "      <td>No</td>\n",
       "      <td>No</td>\n",
       "      <td>Yes</td>\n",
       "      <td>0</td>\n",
       "      <td>0</td>\n",
       "      <td>6</td>\n",
       "      <td>30</td>\n",
       "      <td>No</td>\n",
       "      <td>3-Good</td>\n",
       "      <td>Other</td>\n",
       "      <td>No</td>\n",
       "      <td>1.0</td>\n",
       "    </tr>\n",
       "    <tr>\n",
       "      <th>...</th>\n",
       "      <td>...</td>\n",
       "      <td>...</td>\n",
       "      <td>...</td>\n",
       "      <td>...</td>\n",
       "      <td>...</td>\n",
       "      <td>...</td>\n",
       "      <td>...</td>\n",
       "      <td>...</td>\n",
       "      <td>...</td>\n",
       "      <td>...</td>\n",
       "      <td>...</td>\n",
       "      <td>...</td>\n",
       "      <td>...</td>\n",
       "      <td>...</td>\n",
       "      <td>...</td>\n",
       "      <td>...</td>\n",
       "      <td>...</td>\n",
       "      <td>...</td>\n",
       "    </tr>\n",
       "    <tr>\n",
       "      <th>51030</th>\n",
       "      <td>1</td>\n",
       "      <td>1</td>\n",
       "      <td>3.0</td>\n",
       "      <td>No</td>\n",
       "      <td>Yes</td>\n",
       "      <td>Known</td>\n",
       "      <td>No</td>\n",
       "      <td>No</td>\n",
       "      <td>No</td>\n",
       "      <td>0</td>\n",
       "      <td>0</td>\n",
       "      <td>2</td>\n",
       "      <td>80</td>\n",
       "      <td>No</td>\n",
       "      <td>3-Good</td>\n",
       "      <td>Other</td>\n",
       "      <td>No</td>\n",
       "      <td>1.0</td>\n",
       "    </tr>\n",
       "    <tr>\n",
       "      <th>51032</th>\n",
       "      <td>1</td>\n",
       "      <td>1</td>\n",
       "      <td>2.0</td>\n",
       "      <td>No</td>\n",
       "      <td>Yes</td>\n",
       "      <td>Unknown</td>\n",
       "      <td>No</td>\n",
       "      <td>Yes</td>\n",
       "      <td>No</td>\n",
       "      <td>1</td>\n",
       "      <td>1</td>\n",
       "      <td>3</td>\n",
       "      <td>30</td>\n",
       "      <td>Yes</td>\n",
       "      <td>1-Highest</td>\n",
       "      <td>Town</td>\n",
       "      <td>Unknown</td>\n",
       "      <td>1.0</td>\n",
       "    </tr>\n",
       "    <tr>\n",
       "      <th>51037</th>\n",
       "      <td>1</td>\n",
       "      <td>1</td>\n",
       "      <td>1.0</td>\n",
       "      <td>No</td>\n",
       "      <td>Yes</td>\n",
       "      <td>Known</td>\n",
       "      <td>Yes</td>\n",
       "      <td>Yes</td>\n",
       "      <td>Yes</td>\n",
       "      <td>0</td>\n",
       "      <td>0</td>\n",
       "      <td>3</td>\n",
       "      <td>Unknown</td>\n",
       "      <td>No</td>\n",
       "      <td>3-Good</td>\n",
       "      <td>Other</td>\n",
       "      <td>Yes</td>\n",
       "      <td>1.0</td>\n",
       "    </tr>\n",
       "    <tr>\n",
       "      <th>51040</th>\n",
       "      <td>1</td>\n",
       "      <td>1</td>\n",
       "      <td>1.0</td>\n",
       "      <td>No</td>\n",
       "      <td>No</td>\n",
       "      <td>Known</td>\n",
       "      <td>Yes</td>\n",
       "      <td>Yes</td>\n",
       "      <td>Yes</td>\n",
       "      <td>0</td>\n",
       "      <td>0</td>\n",
       "      <td>7</td>\n",
       "      <td>Unknown</td>\n",
       "      <td>No</td>\n",
       "      <td>1-Highest</td>\n",
       "      <td>Other</td>\n",
       "      <td>Unknown</td>\n",
       "      <td>1.0</td>\n",
       "    </tr>\n",
       "    <tr>\n",
       "      <th>51043</th>\n",
       "      <td>1</td>\n",
       "      <td>1</td>\n",
       "      <td>2.0</td>\n",
       "      <td>No</td>\n",
       "      <td>Yes</td>\n",
       "      <td>Known</td>\n",
       "      <td>Yes</td>\n",
       "      <td>Yes</td>\n",
       "      <td>Yes</td>\n",
       "      <td>0</td>\n",
       "      <td>0</td>\n",
       "      <td>9</td>\n",
       "      <td>60</td>\n",
       "      <td>No</td>\n",
       "      <td>3-Good</td>\n",
       "      <td>Other</td>\n",
       "      <td>No</td>\n",
       "      <td>1.0</td>\n",
       "    </tr>\n",
       "  </tbody>\n",
       "</table>\n",
       "<p>69460 rows × 18 columns</p>\n",
       "</div>"
      ],
      "text/plain": [
       "       UniqueSubs  ActiveSubs  HandsetModels HandsetRefurbished  \\\n",
       "21601           2           2            1.0                 No   \n",
       "27853           1           1            1.0                 No   \n",
       "26440           2           1            1.0                 No   \n",
       "32299           1           1            2.0                Yes   \n",
       "25751           1           1            2.0                 No   \n",
       "...           ...         ...            ...                ...   \n",
       "51030           1           1            3.0                 No   \n",
       "51032           1           1            2.0                 No   \n",
       "51037           1           1            1.0                 No   \n",
       "51040           1           1            1.0                 No   \n",
       "51043           1           1            2.0                 No   \n",
       "\n",
       "      HandsetWebCapable Homeownership BuysViaMailOrder RespondsToMailOffers  \\\n",
       "21601               Yes         Known              Yes                  Yes   \n",
       "27853               Yes       Unknown               No                   No   \n",
       "26440               Yes         Known               No                   No   \n",
       "32299               Yes         Known               No                   No   \n",
       "25751               Yes         Known               No                   No   \n",
       "...                 ...           ...              ...                  ...   \n",
       "51030               Yes         Known               No                   No   \n",
       "51032               Yes       Unknown               No                  Yes   \n",
       "51037               Yes         Known              Yes                  Yes   \n",
       "51040                No         Known              Yes                  Yes   \n",
       "51043               Yes         Known              Yes                  Yes   \n",
       "\n",
       "      HasCreditCard  RetentionCalls  RetentionOffersAccepted  IncomeGroup  \\\n",
       "21601           Yes               0                        0            4   \n",
       "27853            No               0                        0            0   \n",
       "26440           Yes               0                        0            7   \n",
       "32299           Yes               0                        0            4   \n",
       "25751           Yes               0                        0            6   \n",
       "...             ...             ...                      ...          ...   \n",
       "51030            No               0                        0            2   \n",
       "51032            No               1                        1            3   \n",
       "51037           Yes               0                        0            3   \n",
       "51040           Yes               0                        0            7   \n",
       "51043           Yes               0                        0            9   \n",
       "\n",
       "      HandsetPrice MadeCallToRetentionTeam CreditRating PrizmCode  \\\n",
       "21601      Unknown                      No       3-Good     Other   \n",
       "27853      Unknown                      No       2-High      Town   \n",
       "26440      Unknown                      No        5-Low  Suburban   \n",
       "32299          150                      No    6-VeryLow     Other   \n",
       "25751           30                      No       3-Good     Other   \n",
       "...            ...                     ...          ...       ...   \n",
       "51030           80                      No       3-Good     Other   \n",
       "51032           30                     Yes    1-Highest      Town   \n",
       "51037      Unknown                      No       3-Good     Other   \n",
       "51040      Unknown                      No    1-Highest     Other   \n",
       "51043           60                      No       3-Good     Other   \n",
       "\n",
       "      MaritalStatus  perc_active_subs  \n",
       "21601       Unknown               1.0  \n",
       "27853       Unknown               1.0  \n",
       "26440           Yes               0.5  \n",
       "32299       Unknown               1.0  \n",
       "25751            No               1.0  \n",
       "...             ...               ...  \n",
       "51030            No               1.0  \n",
       "51032       Unknown               1.0  \n",
       "51037           Yes               1.0  \n",
       "51040       Unknown               1.0  \n",
       "51043            No               1.0  \n",
       "\n",
       "[69460 rows x 18 columns]"
      ]
     },
     "execution_count": 73,
     "metadata": {},
     "output_type": "execute_result"
    }
   ],
   "source": [
    "cust_df[imp_categorical_cols]"
   ]
  },
  {
   "cell_type": "code",
   "execution_count": 74,
   "metadata": {},
   "outputs": [
    {
     "data": {
      "text/plain": [
       "(88716, 55)"
      ]
     },
     "execution_count": 74,
     "metadata": {},
     "output_type": "execute_result"
    }
   ],
   "source": [
    "completeDataset = pd.concat(objs=[cust_df, pred_df], axis=0)\n",
    "completeDataset.shape"
   ]
  },
  {
   "cell_type": "code",
   "execution_count": 75,
   "metadata": {},
   "outputs": [],
   "source": [
    "dataset_preprocessed = pd.get_dummies(completeDataset)\n",
    "cust_df = dataset_preprocessed[:len(cust_df)]\n",
    "pred_df = dataset_preprocessed[len(cust_df):]"
   ]
  },
  {
   "cell_type": "code",
   "execution_count": 76,
   "metadata": {},
   "outputs": [
    {
     "data": {
      "text/plain": [
       "(69460, 88)"
      ]
     },
     "execution_count": 76,
     "metadata": {},
     "output_type": "execute_result"
    }
   ],
   "source": [
    "cust_df.shape"
   ]
  },
  {
   "cell_type": "code",
   "execution_count": 77,
   "metadata": {},
   "outputs": [
    {
     "data": {
      "text/plain": [
       "(19256, 88)"
      ]
     },
     "execution_count": 77,
     "metadata": {},
     "output_type": "execute_result"
    }
   ],
   "source": [
    "pred_df.shape"
   ]
  },
  {
   "cell_type": "code",
   "execution_count": 78,
   "metadata": {},
   "outputs": [
    {
     "data": {
      "text/plain": [
       "(69460, 88)"
      ]
     },
     "execution_count": 78,
     "metadata": {},
     "output_type": "execute_result"
    }
   ],
   "source": [
    "cust_df.shape"
   ]
  },
  {
   "cell_type": "code",
   "execution_count": 79,
   "metadata": {},
   "outputs": [
    {
     "data": {
      "text/plain": [
       "Index(['MonthlyRevenue', 'MonthlyMinutes', 'TotalRecurringCharge',\n",
       "       'DirectorAssistedCalls', 'OverageMinutes', 'RoamingCalls',\n",
       "       'PercChangeMinutes', 'PercChangeRevenues', 'DroppedCalls',\n",
       "       'BlockedCalls', 'UnansweredCalls', 'CustomerCareCalls', 'ThreewayCalls',\n",
       "       'ReceivedCalls', 'OutboundCalls', 'InboundCalls', 'PeakCallsInOut',\n",
       "       'OffPeakCallsInOut', 'DroppedBlockedCalls', 'CallForwardingCalls',\n",
       "       'CallWaitingCalls', 'MonthsInService', 'UniqueSubs', 'ActiveSubs',\n",
       "       'Handsets', 'HandsetModels', 'CurrentEquipmentDays', 'AgeHH1', 'AgeHH2',\n",
       "       'RetentionCalls', 'RetentionOffersAccepted', 'IncomeGroup',\n",
       "       'perc_active_subs', 'perc_recurrent_charge', 'perc_overage_minute',\n",
       "       'perc_roaming_calls', 'perc_droppped_calls', 'perc_blocked_calls',\n",
       "       'perc_unanswered_calls', 'perc_customercare_calls',\n",
       "       'perc_threeway_calls', 'perc_received_calls', 'perc_outbound_calls',\n",
       "       'perc_inbound_calls', 'HandsetRefurbished_No', 'HandsetRefurbished_Yes',\n",
       "       'HandsetWebCapable_No', 'HandsetWebCapable_Yes', 'Homeownership_Known',\n",
       "       'Homeownership_Unknown', 'BuysViaMailOrder_No', 'BuysViaMailOrder_Yes',\n",
       "       'RespondsToMailOffers_No', 'RespondsToMailOffers_Yes',\n",
       "       'HasCreditCard_No', 'HasCreditCard_Yes', 'HandsetPrice_10',\n",
       "       'HandsetPrice_100', 'HandsetPrice_130', 'HandsetPrice_150',\n",
       "       'HandsetPrice_180', 'HandsetPrice_200', 'HandsetPrice_240',\n",
       "       'HandsetPrice_250', 'HandsetPrice_30', 'HandsetPrice_300',\n",
       "       'HandsetPrice_40', 'HandsetPrice_400', 'HandsetPrice_500',\n",
       "       'HandsetPrice_60', 'HandsetPrice_80', 'HandsetPrice_Unknown',\n",
       "       'MadeCallToRetentionTeam_No', 'MadeCallToRetentionTeam_Yes',\n",
       "       'CreditRating_1-Highest', 'CreditRating_2-High', 'CreditRating_3-Good',\n",
       "       'CreditRating_4-Medium', 'CreditRating_5-Low', 'CreditRating_6-VeryLow',\n",
       "       'CreditRating_7-Lowest', 'PrizmCode_Other', 'PrizmCode_Rural',\n",
       "       'PrizmCode_Suburban', 'PrizmCode_Town', 'MaritalStatus_No',\n",
       "       'MaritalStatus_Unknown', 'MaritalStatus_Yes'],\n",
       "      dtype='object')"
      ]
     },
     "execution_count": 79,
     "metadata": {},
     "output_type": "execute_result"
    }
   ],
   "source": [
    "cust_df.columns"
   ]
  },
  {
   "cell_type": "code",
   "execution_count": 80,
   "metadata": {},
   "outputs": [],
   "source": [
    "X=cust_df\n",
    "X_train, X_test, y_train, y_test = train_test_split(X, y, test_size=0.3, random_state=0)\n"
   ]
  },
  {
   "cell_type": "code",
   "execution_count": 81,
   "metadata": {},
   "outputs": [
    {
     "data": {
      "text/plain": [
       "((48622, 88), (20838, 88), (48622,), (20838,))"
      ]
     },
     "execution_count": 81,
     "metadata": {},
     "output_type": "execute_result"
    }
   ],
   "source": [
    "X_train.shape,X_test.shape,y_train.shape,y_test.shape"
   ]
  },
  {
   "cell_type": "code",
   "execution_count": 82,
   "metadata": {},
   "outputs": [
    {
     "data": {
      "text/plain": [
       "1    24462\n",
       "0    24160\n",
       "Name: Churn, dtype: int64"
      ]
     },
     "execution_count": 82,
     "metadata": {},
     "output_type": "execute_result"
    }
   ],
   "source": [
    "y_train.value_counts()"
   ]
  },
  {
   "cell_type": "markdown",
   "metadata": {
    "id": "lj89clILlFIY"
   },
   "source": [
    "### Q4.1 Build a simple logistic regression model to predict churn and evaluate model accuracy on test data set\n"
   ]
  },
  {
   "cell_type": "code",
   "execution_count": 83,
   "metadata": {
    "id": "R3j70GX1lFIY"
   },
   "outputs": [],
   "source": [
    "\n",
    "from sklearn.linear_model import LogisticRegression\n",
    "from sklearn.metrics import accuracy_score, classification_report,ConfusionMatrixDisplay,confusion_matrix,roc_auc_score,f1_score,plot_confusion_matrix, average_precision_score\n"
   ]
  },
  {
   "cell_type": "code",
   "execution_count": 84,
   "metadata": {},
   "outputs": [],
   "source": [
    "#type your code to build logistic regression model on training data set\n",
    "model=LogisticRegression(random_state=0)\n",
    "logistic_classifier=model.fit(X_train,y_train)\n",
    "logistic_predict_train_output=logistic_classifier.predict_proba(X_train)[:,1]"
   ]
  },
  {
   "cell_type": "code",
   "execution_count": 85,
   "metadata": {
    "id": "KlCdJ472lFIZ"
   },
   "outputs": [],
   "source": [
    "#-------------------------------- Model testing ---------------------------------#\n",
    "#type your code here to predict for X_test data set using the fitted model\n",
    "logistic_predict_test_output=logistic_classifier.predict_proba(X_test)[:,1]"
   ]
  },
  {
   "cell_type": "markdown",
   "metadata": {},
   "source": [
    "### Evaluate model accuracy using fitted y value and actual y_test"
   ]
  },
  {
   "cell_type": "code",
   "execution_count": 86,
   "metadata": {},
   "outputs": [],
   "source": [
    "import copy\n",
    "def efficient_cutoff(actual_value,predicted):\n",
    "    prob_cutoff=[]\n",
    "    f1_score_val=[]\n",
    "    for i in range(0,101):\n",
    "        predicted_x=copy.deepcopy(predicted)\n",
    "        predicted_x[predicted_x >= i/100 ]=1\n",
    "        predicted_x[predicted_x < i/100 ]=0\n",
    "        prob_cutoff.append(i/100)\n",
    "        f1_score_val.append(f1_score(actual_value,predicted_x))\n",
    "    return (prob_cutoff,f1_score_val)\n"
   ]
  },
  {
   "cell_type": "code",
   "execution_count": 87,
   "metadata": {},
   "outputs": [],
   "source": [
    "#Use a probability threshold to classify customers as churners and non churners (Default = 0.5)\n",
    "prob_cutoff_train,f1_score_val_train=efficient_cutoff(y_train,logistic_predict_train_output)"
   ]
  },
  {
   "cell_type": "code",
   "execution_count": 88,
   "metadata": {},
   "outputs": [
    {
     "data": {
      "text/plain": [
       "Text(0.5, 0, 'Probability cutoff value - train-set')"
      ]
     },
     "execution_count": 88,
     "metadata": {},
     "output_type": "execute_result"
    },
    {
     "data": {
      "text/plain": [
       "<matplotlib.lines.Line2D at 0x207924677c0>"
      ]
     },
     "execution_count": 88,
     "metadata": {},
     "output_type": "execute_result"
    },
    {
     "data": {
      "text/plain": [
       "Text(0, 0.5, 'f1 score train')"
      ]
     },
     "execution_count": 88,
     "metadata": {},
     "output_type": "execute_result"
    },
    {
     "data": {
      "text/plain": [
       "[<matplotlib.lines.Line2D at 0x2079248c460>]"
      ]
     },
     "execution_count": 88,
     "metadata": {},
     "output_type": "execute_result"
    },
    {
     "data": {
      "image/png": "[encoded data removed]",
      "text/plain": [
       "<Figure size 432x288 with 1 Axes>"
      ]
     },
     "metadata": {
      "needs_background": "light"
     },
     "output_type": "display_data"
    }
   ],
   "source": [
    "plt.xlabel(\"Probability cutoff value - train-set\")\n",
    "plt.axvline(x=0.4,color='b',label='avxline-full height')\n",
    "plt.ylabel(\"f1 score train\")\n",
    "plt.plot(prob_cutoff_train,f1_score_val_train)\n",
    "plt.show()"
   ]
  },
  {
   "cell_type": "code",
   "execution_count": 89,
   "metadata": {},
   "outputs": [],
   "source": [
    "prob_cutoff_test,f1_score_val_test=efficient_cutoff(y_test,logistic_predict_test_output)"
   ]
  },
  {
   "cell_type": "code",
   "execution_count": 90,
   "metadata": {},
   "outputs": [
    {
     "data": {
      "text/plain": [
       "Text(0.5, 0, 'Probability cutoff value - test-set')"
      ]
     },
     "execution_count": 90,
     "metadata": {},
     "output_type": "execute_result"
    },
    {
     "data": {
      "text/plain": [
       "<matplotlib.lines.Line2D at 0x207924a46d0>"
      ]
     },
     "execution_count": 90,
     "metadata": {},
     "output_type": "execute_result"
    },
    {
     "data": {
      "text/plain": [
       "Text(0, 0.5, 'f1 score train')"
      ]
     },
     "execution_count": 90,
     "metadata": {},
     "output_type": "execute_result"
    },
    {
     "data": {
      "text/plain": [
       "[<matplotlib.lines.Line2D at 0x207924d5970>]"
      ]
     },
     "execution_count": 90,
     "metadata": {},
     "output_type": "execute_result"
    },
    {
     "data": {
      "image/png": "[encoded data removed]",
      "text/plain": [
       "<Figure size 432x288 with 1 Axes>"
      ]
     },
     "metadata": {
      "needs_background": "light"
     },
     "output_type": "display_data"
    }
   ],
   "source": [
    "plt.xlabel(\"Probability cutoff value - test-set\")\n",
    "plt.axvline(x=0.4,color='b',label='avxline-full height')\n",
    "plt.ylabel(\"f1 score train\")\n",
    "plt.plot(prob_cutoff_test,f1_score_val_test)\n",
    "plt.show()"
   ]
  },
  {
   "cell_type": "code",
   "execution_count": 91,
   "metadata": {},
   "outputs": [],
   "source": [
    "logistic_predict_test_class=copy.deepcopy(logistic_predict_test_output)"
   ]
  },
  {
   "cell_type": "code",
   "execution_count": 92,
   "metadata": {},
   "outputs": [],
   "source": [
    "\n",
    "logistic_predict_test_class[logistic_predict_test_output>=0.4]=1\n",
    "logistic_predict_test_class[logistic_predict_test_output<0.4]=0\n"
   ]
  },
  {
   "cell_type": "code",
   "execution_count": 93,
   "metadata": {},
   "outputs": [
    {
     "data": {
      "text/plain": [
       "<sklearn.metrics._plot.confusion_matrix.ConfusionMatrixDisplay at 0x207924a4610>"
      ]
     },
     "execution_count": 93,
     "metadata": {},
     "output_type": "execute_result"
    },
    {
     "data": {
      "image/png": "[encoded data removed]",
      "text/plain": [
       "<Figure size 432x288 with 2 Axes>"
      ]
     },
     "metadata": {
      "needs_background": "light"
     },
     "output_type": "display_data"
    }
   ],
   "source": [
    "#confusion matrix\n",
    "cm=confusion_matrix(y_test,logistic_predict_test_class)\n",
    "disp=ConfusionMatrixDisplay(cm)\n",
    "disp.plot()\n"
   ]
  },
  {
   "cell_type": "code",
   "execution_count": 94,
   "metadata": {},
   "outputs": [
    {
     "name": "stdout",
     "output_type": "stream",
     "text": [
      "              precision    recall  f1-score   support\n",
      "\n",
      "           0       0.66      0.22      0.33     10570\n",
      "           1       0.52      0.88      0.66     10268\n",
      "\n",
      "    accuracy                           0.55     20838\n",
      "   macro avg       0.59      0.55      0.50     20838\n",
      "weighted avg       0.60      0.55      0.49     20838\n",
      "\n"
     ]
    }
   ],
   "source": [
    "# Precision, Recall\n",
    "print(classification_report(y_test,logistic_predict_test_class))\n"
   ]
  },
  {
   "cell_type": "code",
   "execution_count": 95,
   "metadata": {},
   "outputs": [
    {
     "name": "stdout",
     "output_type": "stream",
     "text": [
      "gini:0.23596779442446691\n",
      "ROC-AUC Score:0.6179838972122335\n",
      "Auccuracy:0.548325175160764\n"
     ]
    }
   ],
   "source": [
    " test_auc_score=roc_auc_score(y_test, logistic_predict_test_output)\n",
    "print(\"gini:{}\".format(2*test_auc_score-1))\n",
    "print(\"ROC-AUC Score:{}\".format(test_auc_score))\n",
    "print(\"Auccuracy:{}\".format(accuracy_score(y_test, logistic_predict_test_class)))"
   ]
  },
  {
   "cell_type": "markdown",
   "metadata": {
    "id": "5c_9lNnclFIZ"
   },
   "source": [
    "### Q4.2 Build Random Forest classifier to compare model accuracy over the logistic regression model\n"
   ]
  },
  {
   "cell_type": "code",
   "execution_count": 96,
   "metadata": {},
   "outputs": [],
   "source": [
    "from sklearn.ensemble import RandomForestClassifier\n"
   ]
  },
  {
   "cell_type": "code",
   "execution_count": 97,
   "metadata": {
    "id": "-PqkT3eRlFIa"
   },
   "outputs": [
    {
     "data": {
      "text/plain": [
       "RandomForestClassifier(criterion='entropy', max_depth=15, min_samples_split=50,\n",
       "                       n_estimators=350, n_jobs=-1, random_state=40)"
      ]
     },
     "execution_count": 97,
     "metadata": {},
     "output_type": "execute_result"
    }
   ],
   "source": [
    "#-------------------------------- Model training -------------------------------#\n",
    "clf=RandomForestClassifier(max_depth=15,min_samples_split=50,random_state=40,criterion=\"entropy\",n_estimators=350,n_jobs=-1)\n",
    "#type your code to build random forest classifier model on training data set\n",
    "clf.fit(X_train,y_train)\n",
    "\n",
    "\n"
   ]
  },
  {
   "cell_type": "code",
   "execution_count": 98,
   "metadata": {
    "id": "yoMJOpkvlFIa"
   },
   "outputs": [],
   "source": [
    "#-------------------------------- Model testing ---------------------------------#\n",
    "\n",
    "#type your code here to predict for X_test data set using the fitted RF model\n",
    "rf_train_output=clf.predict_proba(X_train)[:,1]\n",
    "\n",
    "rf_test_output=clf.predict_proba(X_test)[:,1]\n",
    "\n",
    "\n",
    "\n"
   ]
  },
  {
   "cell_type": "code",
   "execution_count": 99,
   "metadata": {},
   "outputs": [],
   "source": [
    "#Use a probability threshold to classify customers as churners and non churners (Default = 0.5)\n",
    "rf_prob_cutoff_train,rf_f1_score_val_train=efficient_cutoff(y_train,rf_train_output)\n",
    "rf_prob_cutoff_test,rf_f1_score_val_test=efficient_cutoff(y_test,rf_test_output)\n",
    "\n",
    "\n"
   ]
  },
  {
   "cell_type": "code",
   "execution_count": 100,
   "metadata": {},
   "outputs": [
    {
     "data": {
      "text/plain": [
       "Text(0.5, 0, 'Probability cutoff value - train-set')"
      ]
     },
     "execution_count": 100,
     "metadata": {},
     "output_type": "execute_result"
    },
    {
     "data": {
      "text/plain": [
       "<matplotlib.lines.Line2D at 0x207972f0130>"
      ]
     },
     "execution_count": 100,
     "metadata": {},
     "output_type": "execute_result"
    },
    {
     "data": {
      "text/plain": [
       "Text(0, 0.5, 'f1 score train')"
      ]
     },
     "execution_count": 100,
     "metadata": {},
     "output_type": "execute_result"
    },
    {
     "data": {
      "text/plain": [
       "[<matplotlib.lines.Line2D at 0x207972f2310>]"
      ]
     },
     "execution_count": 100,
     "metadata": {},
     "output_type": "execute_result"
    },
    {
     "data": {
      "image/png": "[encoded data removed]",
      "text/plain": [
       "<Figure size 432x288 with 1 Axes>"
      ]
     },
     "metadata": {
      "needs_background": "light"
     },
     "output_type": "display_data"
    }
   ],
   "source": [
    "plt.xlabel(\"Probability cutoff value - train-set\")\n",
    "plt.axvline(x=0.53,color='b',label='avxline-full height')\n",
    "plt.ylabel(\"f1 score train\")\n",
    "plt.plot(rf_prob_cutoff_train,rf_f1_score_val_train)\n",
    "plt.show()"
   ]
  },
  {
   "cell_type": "code",
   "execution_count": 101,
   "metadata": {},
   "outputs": [
    {
     "data": {
      "text/plain": [
       "Text(0.5, 0, 'Probability cutoff value - test-set')"
      ]
     },
     "execution_count": 101,
     "metadata": {},
     "output_type": "execute_result"
    },
    {
     "data": {
      "text/plain": [
       "<matplotlib.lines.Line2D at 0x207990cc760>"
      ]
     },
     "execution_count": 101,
     "metadata": {},
     "output_type": "execute_result"
    },
    {
     "data": {
      "text/plain": [
       "Text(0, 0.5, 'f1 score train')"
      ]
     },
     "execution_count": 101,
     "metadata": {},
     "output_type": "execute_result"
    },
    {
     "data": {
      "text/plain": [
       "[<matplotlib.lines.Line2D at 0x207998633a0>]"
      ]
     },
     "execution_count": 101,
     "metadata": {},
     "output_type": "execute_result"
    },
    {
     "data": {
      "image/png": "[encoded data removed]",
      "text/plain": [
       "<Figure size 432x288 with 1 Axes>"
      ]
     },
     "metadata": {
      "needs_background": "light"
     },
     "output_type": "display_data"
    }
   ],
   "source": [
    "plt.xlabel(\"Probability cutoff value - test-set\")\n",
    "plt.axvline(x=0.53,color='b',label='avxline-full height')\n",
    "plt.ylabel(\"f1 score train\")\n",
    "plt.plot(rf_prob_cutoff_test,rf_f1_score_val_test)\n",
    "plt.show()"
   ]
  },
  {
   "cell_type": "code",
   "execution_count": 102,
   "metadata": {},
   "outputs": [
    {
     "data": {
      "text/plain": [
       "(array([  487.,  1928.,  4027.,  5678.,  8672., 10779.,  9561.,  5912.,\n",
       "         1479.,    99.]),\n",
       " array([0.09327138, 0.17289726, 0.25252315, 0.33214903, 0.41177492,\n",
       "        0.4914008 , 0.57102669, 0.65065257, 0.73027846, 0.80990434,\n",
       "        0.88953023]),\n",
       " <a list of 10 Patch objects>)"
      ]
     },
     "execution_count": 102,
     "metadata": {},
     "output_type": "execute_result"
    },
    {
     "data": {
      "image/png": "[encoded data removed]",
      "text/plain": [
       "<Figure size 432x288 with 1 Axes>"
      ]
     },
     "metadata": {
      "needs_background": "light"
     },
     "output_type": "display_data"
    }
   ],
   "source": [
    "plt.hist(rf_train_output)"
   ]
  },
  {
   "cell_type": "code",
   "execution_count": 103,
   "metadata": {},
   "outputs": [
    {
     "data": {
      "text/plain": [
       "(array([ 196.,  679., 1376., 2607., 4095., 5672., 4266., 1635.,  295.,\n",
       "          17.]),\n",
       " array([0.10767563, 0.18586109, 0.26404655, 0.34223201, 0.42041747,\n",
       "        0.49860293, 0.57678839, 0.65497385, 0.73315931, 0.81134477,\n",
       "        0.88953023]),\n",
       " <a list of 10 Patch objects>)"
      ]
     },
     "execution_count": 103,
     "metadata": {},
     "output_type": "execute_result"
    },
    {
     "data": {
      "image/png": "[encoded data removed]",
      "text/plain": [
       "<Figure size 432x288 with 1 Axes>"
      ]
     },
     "metadata": {
      "needs_background": "light"
     },
     "output_type": "display_data"
    }
   ],
   "source": [
    "plt.hist(rf_test_output)"
   ]
  },
  {
   "cell_type": "code",
   "execution_count": 104,
   "metadata": {},
   "outputs": [],
   "source": [
    "#Evaluate model accuracy using fitted y value and actual y_test\n",
    "rf_test_class=copy.deepcopy(rf_test_output)\n",
    "\n"
   ]
  },
  {
   "cell_type": "code",
   "execution_count": 105,
   "metadata": {},
   "outputs": [],
   "source": [
    "\n",
    "rf_test_class[rf_test_output>=0.53]=1\n",
    "rf_test_class[rf_test_output<0.53]=0\n"
   ]
  },
  {
   "cell_type": "code",
   "execution_count": 106,
   "metadata": {},
   "outputs": [
    {
     "data": {
      "text/plain": [
       "<sklearn.metrics._plot.confusion_matrix.ConfusionMatrixDisplay at 0x20799f468e0>"
      ]
     },
     "execution_count": 106,
     "metadata": {},
     "output_type": "execute_result"
    },
    {
     "data": {
      "image/png": "[encoded data removed]",
      "text/plain": [
       "<Figure size 432x288 with 2 Axes>"
      ]
     },
     "metadata": {
      "needs_background": "light"
     },
     "output_type": "display_data"
    }
   ],
   "source": [
    "#confusion matrix\n",
    "cm=confusion_matrix(y_test,rf_test_class)\n",
    "disp=ConfusionMatrixDisplay(cm)\n",
    "disp.plot()"
   ]
  },
  {
   "cell_type": "code",
   "execution_count": 107,
   "metadata": {},
   "outputs": [
    {
     "name": "stdout",
     "output_type": "stream",
     "text": [
      "              precision    recall  f1-score   support\n",
      "\n",
      "           0       0.72      0.76      0.74     10570\n",
      "           1       0.74      0.70      0.72     10268\n",
      "\n",
      "    accuracy                           0.73     20838\n",
      "   macro avg       0.73      0.73      0.73     20838\n",
      "weighted avg       0.73      0.73      0.73     20838\n",
      "\n"
     ]
    }
   ],
   "source": [
    "# Precision, Recall\n",
    "print(classification_report(y_test,rf_test_class))"
   ]
  },
  {
   "cell_type": "code",
   "execution_count": 108,
   "metadata": {},
   "outputs": [
    {
     "name": "stdout",
     "output_type": "stream",
     "text": [
      "gini:0.6127731940107302\n",
      "ROC-AUC Score:0.8063865970053651\n",
      "Accuracy:0.7280449179383818\n"
     ]
    }
   ],
   "source": [
    " rf_test_auc_score=roc_auc_score(y_test, rf_test_output)\n",
    "print(\"gini:{}\".format(2*rf_test_auc_score-1))\n",
    "print(\"ROC-AUC Score:{}\".format(rf_test_auc_score))\n",
    "print(\"Accuracy:{}\".format(accuracy_score(y_test, rf_test_class)))"
   ]
  },
  {
   "cell_type": "markdown",
   "metadata": {
    "id": "iKAR6bUolFIb"
   },
   "source": [
    "<mark>__Result:__\n",
    "    \n",
    "According below metrics, random forest gives accuracy.\n",
    "    \n",
    "|Metric |Logistic Regression|Random Forest|\n",
    "|:-----|:----|:----:|\n",
    "|Accuracy |55%|72.6%|\n",
    "|Precision |60%|73%|\n",
    "|Recall |55%|72%|\n",
    "|F1-score|50%|73%|\n",
    "|Gini|24%|61.1%|\n",
    "|ROC-AUC Score|62%|80.%| "
   ]
  },
  {
   "cell_type": "markdown",
   "metadata": {
    "id": "AixoKv9GlFIb"
   },
   "source": [
    "### Q4.3 Identify most important features impacting churn"
   ]
  },
  {
   "cell_type": "code",
   "execution_count": 109,
   "metadata": {
    "id": "k4T4iPJilFIc"
   },
   "outputs": [
    {
     "data": {
      "text/plain": [
       "<Figure size 360x720 with 0 Axes>"
      ]
     },
     "execution_count": 109,
     "metadata": {},
     "output_type": "execute_result"
    },
    {
     "data": {
      "text/plain": [
       "Text(0.5, 1.0, 'feature Importance plot')"
      ]
     },
     "execution_count": 109,
     "metadata": {},
     "output_type": "execute_result"
    },
    {
     "data": {
      "text/plain": [
       "<matplotlib.axes._subplots.AxesSubplot at 0x2079b70cdc0>"
      ]
     },
     "execution_count": 109,
     "metadata": {},
     "output_type": "execute_result"
    },
    {
     "data": {
      "image/png": "[encoded data removed]",
      "text/plain": [
       "<Figure size 360x720 with 1 Axes>"
      ]
     },
     "metadata": {
      "needs_background": "light"
     },
     "output_type": "display_data"
    }
   ],
   "source": [
    "# Type your code here to plot the top 20 important predictor features impacting churn using the Random Forest model created\n",
    "\n",
    "feat_imporatances=pd.Series(clf.feature_importances_, index=X_train.columns)\n",
    "plt.figure(figsize=(5,10))\n",
    "plt.title(\"feature Importance plot\")\n",
    "feat_imporatances.nlargest(20).sort_values(ascending=True).plot(kind='barh',)\n"
   ]
  },
  {
   "cell_type": "markdown",
   "metadata": {
    "id": "b34fvkuvlFId"
   },
   "source": [
    "## Q5. Use the hold out data provided to predict churners using the best model identified in step 4 "
   ]
  },
  {
   "cell_type": "code",
   "execution_count": 110,
   "metadata": {
    "id": "inhr0oBulFIe"
   },
   "outputs": [],
   "source": [
    "#Type your code here to predict churners based on the hold out data set provided\n",
    "#Note #1: use \"create_features(cust_df)\" functions to create the additional list of features in the hold out data set\n",
    "#Note #2: Also, perform feature scaling and dummy variables creation as performed during the initial stages of step #4\n",
    "\n",
    "#Use \"predict\" function on the transformend data using the best fitted model object\n",
    "\n"
   ]
  },
  {
   "cell_type": "code",
   "execution_count": 111,
   "metadata": {},
   "outputs": [
    {
     "data": {
      "text/html": [
       "<div>\n",
       "<style scoped>\n",
       "    .dataframe tbody tr th:only-of-type {\n",
       "        vertical-align: middle;\n",
       "    }\n",
       "\n",
       "    .dataframe tbody tr th {\n",
       "        vertical-align: top;\n",
       "    }\n",
       "\n",
       "    .dataframe thead th {\n",
       "        text-align: right;\n",
       "    }\n",
       "</style>\n",
       "<table border=\"1\" class=\"dataframe\">\n",
       "  <thead>\n",
       "    <tr style=\"text-align: right;\">\n",
       "      <th></th>\n",
       "      <th>MonthlyRevenue</th>\n",
       "      <th>MonthlyMinutes</th>\n",
       "      <th>TotalRecurringCharge</th>\n",
       "      <th>DirectorAssistedCalls</th>\n",
       "      <th>OverageMinutes</th>\n",
       "      <th>RoamingCalls</th>\n",
       "      <th>PercChangeMinutes</th>\n",
       "      <th>PercChangeRevenues</th>\n",
       "      <th>DroppedCalls</th>\n",
       "      <th>BlockedCalls</th>\n",
       "      <th>...</th>\n",
       "      <th>CreditRating_5-Low</th>\n",
       "      <th>CreditRating_6-VeryLow</th>\n",
       "      <th>CreditRating_7-Lowest</th>\n",
       "      <th>PrizmCode_Other</th>\n",
       "      <th>PrizmCode_Rural</th>\n",
       "      <th>PrizmCode_Suburban</th>\n",
       "      <th>PrizmCode_Town</th>\n",
       "      <th>MaritalStatus_No</th>\n",
       "      <th>MaritalStatus_Unknown</th>\n",
       "      <th>MaritalStatus_Yes</th>\n",
       "    </tr>\n",
       "  </thead>\n",
       "  <tbody>\n",
       "    <tr>\n",
       "      <th>0</th>\n",
       "      <td>-0.040680</td>\n",
       "      <td>-0.093713</td>\n",
       "      <td>-0.428776</td>\n",
       "      <td>-0.309466</td>\n",
       "      <td>-0.183139</td>\n",
       "      <td>-0.176998</td>\n",
       "      <td>2.160071</td>\n",
       "      <td>1.420871</td>\n",
       "      <td>0.246531</td>\n",
       "      <td>-0.307604</td>\n",
       "      <td>...</td>\n",
       "      <td>1</td>\n",
       "      <td>0</td>\n",
       "      <td>0</td>\n",
       "      <td>1</td>\n",
       "      <td>0</td>\n",
       "      <td>0</td>\n",
       "      <td>0</td>\n",
       "      <td>1</td>\n",
       "      <td>0</td>\n",
       "      <td>0</td>\n",
       "    </tr>\n",
       "    <tr>\n",
       "      <th>1</th>\n",
       "      <td>-0.092707</td>\n",
       "      <td>0.070703</td>\n",
       "      <td>1.033751</td>\n",
       "      <td>-0.428130</td>\n",
       "      <td>-0.423189</td>\n",
       "      <td>-0.176998</td>\n",
       "      <td>0.188812</td>\n",
       "      <td>0.034072</td>\n",
       "      <td>0.403143</td>\n",
       "      <td>-0.337527</td>\n",
       "      <td>...</td>\n",
       "      <td>0</td>\n",
       "      <td>0</td>\n",
       "      <td>0</td>\n",
       "      <td>1</td>\n",
       "      <td>0</td>\n",
       "      <td>0</td>\n",
       "      <td>0</td>\n",
       "      <td>1</td>\n",
       "      <td>0</td>\n",
       "      <td>0</td>\n",
       "    </tr>\n",
       "    <tr>\n",
       "      <th>2</th>\n",
       "      <td>0.876705</td>\n",
       "      <td>0.957036</td>\n",
       "      <td>0.114448</td>\n",
       "      <td>1.921411</td>\n",
       "      <td>3.960330</td>\n",
       "      <td>-0.176998</td>\n",
       "      <td>0.827276</td>\n",
       "      <td>0.667648</td>\n",
       "      <td>0.738741</td>\n",
       "      <td>-0.108118</td>\n",
       "      <td>...</td>\n",
       "      <td>0</td>\n",
       "      <td>0</td>\n",
       "      <td>0</td>\n",
       "      <td>0</td>\n",
       "      <td>0</td>\n",
       "      <td>1</td>\n",
       "      <td>0</td>\n",
       "      <td>0</td>\n",
       "      <td>0</td>\n",
       "      <td>1</td>\n",
       "    </tr>\n",
       "    <tr>\n",
       "      <th>3</th>\n",
       "      <td>-0.544838</td>\n",
       "      <td>-0.717358</td>\n",
       "      <td>-0.721281</td>\n",
       "      <td>-0.428130</td>\n",
       "      <td>-0.256198</td>\n",
       "      <td>-0.176998</td>\n",
       "      <td>0.156889</td>\n",
       "      <td>0.232574</td>\n",
       "      <td>-0.458224</td>\n",
       "      <td>-0.337527</td>\n",
       "      <td>...</td>\n",
       "      <td>0</td>\n",
       "      <td>0</td>\n",
       "      <td>0</td>\n",
       "      <td>1</td>\n",
       "      <td>0</td>\n",
       "      <td>0</td>\n",
       "      <td>0</td>\n",
       "      <td>1</td>\n",
       "      <td>0</td>\n",
       "      <td>0</td>\n",
       "    </tr>\n",
       "    <tr>\n",
       "      <th>4</th>\n",
       "      <td>-0.091786</td>\n",
       "      <td>1.285867</td>\n",
       "      <td>0.114448</td>\n",
       "      <td>-0.076885</td>\n",
       "      <td>-0.423189</td>\n",
       "      <td>0.015500</td>\n",
       "      <td>0.711555</td>\n",
       "      <td>0.061264</td>\n",
       "      <td>-0.379918</td>\n",
       "      <td>0.191111</td>\n",
       "      <td>...</td>\n",
       "      <td>0</td>\n",
       "      <td>0</td>\n",
       "      <td>0</td>\n",
       "      <td>0</td>\n",
       "      <td>0</td>\n",
       "      <td>1</td>\n",
       "      <td>0</td>\n",
       "      <td>1</td>\n",
       "      <td>0</td>\n",
       "      <td>0</td>\n",
       "    </tr>\n",
       "  </tbody>\n",
       "</table>\n",
       "<p>5 rows × 88 columns</p>\n",
       "</div>"
      ],
      "text/plain": [
       "   MonthlyRevenue  MonthlyMinutes  TotalRecurringCharge  \\\n",
       "0       -0.040680       -0.093713             -0.428776   \n",
       "1       -0.092707        0.070703              1.033751   \n",
       "2        0.876705        0.957036              0.114448   \n",
       "3       -0.544838       -0.717358             -0.721281   \n",
       "4       -0.091786        1.285867              0.114448   \n",
       "\n",
       "   DirectorAssistedCalls  OverageMinutes  RoamingCalls  PercChangeMinutes  \\\n",
       "0              -0.309466       -0.183139     -0.176998           2.160071   \n",
       "1              -0.428130       -0.423189     -0.176998           0.188812   \n",
       "2               1.921411        3.960330     -0.176998           0.827276   \n",
       "3              -0.428130       -0.256198     -0.176998           0.156889   \n",
       "4              -0.076885       -0.423189      0.015500           0.711555   \n",
       "\n",
       "   PercChangeRevenues  DroppedCalls  BlockedCalls  ...  CreditRating_5-Low  \\\n",
       "0            1.420871      0.246531     -0.307604  ...                   1   \n",
       "1            0.034072      0.403143     -0.337527  ...                   0   \n",
       "2            0.667648      0.738741     -0.108118  ...                   0   \n",
       "3            0.232574     -0.458224     -0.337527  ...                   0   \n",
       "4            0.061264     -0.379918      0.191111  ...                   0   \n",
       "\n",
       "   CreditRating_6-VeryLow  CreditRating_7-Lowest  PrizmCode_Other  \\\n",
       "0                       0                      0                1   \n",
       "1                       0                      0                1   \n",
       "2                       0                      0                0   \n",
       "3                       0                      0                1   \n",
       "4                       0                      0                0   \n",
       "\n",
       "   PrizmCode_Rural  PrizmCode_Suburban  PrizmCode_Town  MaritalStatus_No  \\\n",
       "0                0                   0               0                 1   \n",
       "1                0                   0               0                 1   \n",
       "2                0                   1               0                 0   \n",
       "3                0                   0               0                 1   \n",
       "4                0                   1               0                 1   \n",
       "\n",
       "   MaritalStatus_Unknown  MaritalStatus_Yes  \n",
       "0                      0                  0  \n",
       "1                      0                  0  \n",
       "2                      0                  1  \n",
       "3                      0                  0  \n",
       "4                      0                  0  \n",
       "\n",
       "[5 rows x 88 columns]"
      ]
     },
     "execution_count": 111,
     "metadata": {},
     "output_type": "execute_result"
    }
   ],
   "source": [
    "pred_df.head()"
   ]
  },
  {
   "cell_type": "code",
   "execution_count": 112,
   "metadata": {},
   "outputs": [
    {
     "data": {
      "text/plain": [
       "(19256, 88)"
      ]
     },
     "execution_count": 112,
     "metadata": {},
     "output_type": "execute_result"
    }
   ],
   "source": [
    "pred_df.shape"
   ]
  },
  {
   "cell_type": "markdown",
   "metadata": {},
   "source": [
    "### Use \"predict\" function on the transformend data using the best fitted model object"
   ]
  },
  {
   "cell_type": "code",
   "execution_count": 113,
   "metadata": {},
   "outputs": [],
   "source": [
    "pred_df[\"Churn\"]=clf.predict_proba(pred_df)[:,1]\n"
   ]
  },
  {
   "cell_type": "code",
   "execution_count": 114,
   "metadata": {},
   "outputs": [
    {
     "data": {
      "text/plain": [
       "(19256, 89)"
      ]
     },
     "execution_count": 114,
     "metadata": {},
     "output_type": "execute_result"
    }
   ],
   "source": [
    "pred_df.shape"
   ]
  },
  {
   "cell_type": "code",
   "execution_count": 115,
   "metadata": {},
   "outputs": [
    {
     "data": {
      "text/html": [
       "<div>\n",
       "<style scoped>\n",
       "    .dataframe tbody tr th:only-of-type {\n",
       "        vertical-align: middle;\n",
       "    }\n",
       "\n",
       "    .dataframe tbody tr th {\n",
       "        vertical-align: top;\n",
       "    }\n",
       "\n",
       "    .dataframe thead th {\n",
       "        text-align: right;\n",
       "    }\n",
       "</style>\n",
       "<table border=\"1\" class=\"dataframe\">\n",
       "  <thead>\n",
       "    <tr style=\"text-align: right;\">\n",
       "      <th></th>\n",
       "      <th>MonthlyRevenue</th>\n",
       "      <th>MonthlyMinutes</th>\n",
       "      <th>TotalRecurringCharge</th>\n",
       "      <th>DirectorAssistedCalls</th>\n",
       "      <th>OverageMinutes</th>\n",
       "      <th>RoamingCalls</th>\n",
       "      <th>PercChangeMinutes</th>\n",
       "      <th>PercChangeRevenues</th>\n",
       "      <th>DroppedCalls</th>\n",
       "      <th>BlockedCalls</th>\n",
       "      <th>...</th>\n",
       "      <th>CreditRating_6-VeryLow</th>\n",
       "      <th>CreditRating_7-Lowest</th>\n",
       "      <th>PrizmCode_Other</th>\n",
       "      <th>PrizmCode_Rural</th>\n",
       "      <th>PrizmCode_Suburban</th>\n",
       "      <th>PrizmCode_Town</th>\n",
       "      <th>MaritalStatus_No</th>\n",
       "      <th>MaritalStatus_Unknown</th>\n",
       "      <th>MaritalStatus_Yes</th>\n",
       "      <th>Churn</th>\n",
       "    </tr>\n",
       "  </thead>\n",
       "  <tbody>\n",
       "    <tr>\n",
       "      <th>0</th>\n",
       "      <td>-0.040680</td>\n",
       "      <td>-0.093713</td>\n",
       "      <td>-0.428776</td>\n",
       "      <td>-0.309466</td>\n",
       "      <td>-0.183139</td>\n",
       "      <td>-0.176998</td>\n",
       "      <td>2.160071</td>\n",
       "      <td>1.420871</td>\n",
       "      <td>0.246531</td>\n",
       "      <td>-0.307604</td>\n",
       "      <td>...</td>\n",
       "      <td>0</td>\n",
       "      <td>0</td>\n",
       "      <td>1</td>\n",
       "      <td>0</td>\n",
       "      <td>0</td>\n",
       "      <td>0</td>\n",
       "      <td>1</td>\n",
       "      <td>0</td>\n",
       "      <td>0</td>\n",
       "      <td>0.338596</td>\n",
       "    </tr>\n",
       "    <tr>\n",
       "      <th>1</th>\n",
       "      <td>-0.092707</td>\n",
       "      <td>0.070703</td>\n",
       "      <td>1.033751</td>\n",
       "      <td>-0.428130</td>\n",
       "      <td>-0.423189</td>\n",
       "      <td>-0.176998</td>\n",
       "      <td>0.188812</td>\n",
       "      <td>0.034072</td>\n",
       "      <td>0.403143</td>\n",
       "      <td>-0.337527</td>\n",
       "      <td>...</td>\n",
       "      <td>0</td>\n",
       "      <td>0</td>\n",
       "      <td>1</td>\n",
       "      <td>0</td>\n",
       "      <td>0</td>\n",
       "      <td>0</td>\n",
       "      <td>1</td>\n",
       "      <td>0</td>\n",
       "      <td>0</td>\n",
       "      <td>0.414610</td>\n",
       "    </tr>\n",
       "    <tr>\n",
       "      <th>2</th>\n",
       "      <td>0.876705</td>\n",
       "      <td>0.957036</td>\n",
       "      <td>0.114448</td>\n",
       "      <td>1.921411</td>\n",
       "      <td>3.960330</td>\n",
       "      <td>-0.176998</td>\n",
       "      <td>0.827276</td>\n",
       "      <td>0.667648</td>\n",
       "      <td>0.738741</td>\n",
       "      <td>-0.108118</td>\n",
       "      <td>...</td>\n",
       "      <td>0</td>\n",
       "      <td>0</td>\n",
       "      <td>0</td>\n",
       "      <td>0</td>\n",
       "      <td>1</td>\n",
       "      <td>0</td>\n",
       "      <td>0</td>\n",
       "      <td>0</td>\n",
       "      <td>1</td>\n",
       "      <td>0.439523</td>\n",
       "    </tr>\n",
       "    <tr>\n",
       "      <th>3</th>\n",
       "      <td>-0.544838</td>\n",
       "      <td>-0.717358</td>\n",
       "      <td>-0.721281</td>\n",
       "      <td>-0.428130</td>\n",
       "      <td>-0.256198</td>\n",
       "      <td>-0.176998</td>\n",
       "      <td>0.156889</td>\n",
       "      <td>0.232574</td>\n",
       "      <td>-0.458224</td>\n",
       "      <td>-0.337527</td>\n",
       "      <td>...</td>\n",
       "      <td>0</td>\n",
       "      <td>0</td>\n",
       "      <td>1</td>\n",
       "      <td>0</td>\n",
       "      <td>0</td>\n",
       "      <td>0</td>\n",
       "      <td>1</td>\n",
       "      <td>0</td>\n",
       "      <td>0</td>\n",
       "      <td>0.378932</td>\n",
       "    </tr>\n",
       "    <tr>\n",
       "      <th>4</th>\n",
       "      <td>-0.091786</td>\n",
       "      <td>1.285867</td>\n",
       "      <td>0.114448</td>\n",
       "      <td>-0.076885</td>\n",
       "      <td>-0.423189</td>\n",
       "      <td>0.015500</td>\n",
       "      <td>0.711555</td>\n",
       "      <td>0.061264</td>\n",
       "      <td>-0.379918</td>\n",
       "      <td>0.191111</td>\n",
       "      <td>...</td>\n",
       "      <td>0</td>\n",
       "      <td>0</td>\n",
       "      <td>0</td>\n",
       "      <td>0</td>\n",
       "      <td>1</td>\n",
       "      <td>0</td>\n",
       "      <td>1</td>\n",
       "      <td>0</td>\n",
       "      <td>0</td>\n",
       "      <td>0.346175</td>\n",
       "    </tr>\n",
       "  </tbody>\n",
       "</table>\n",
       "<p>5 rows × 89 columns</p>\n",
       "</div>"
      ],
      "text/plain": [
       "   MonthlyRevenue  MonthlyMinutes  TotalRecurringCharge  \\\n",
       "0       -0.040680       -0.093713             -0.428776   \n",
       "1       -0.092707        0.070703              1.033751   \n",
       "2        0.876705        0.957036              0.114448   \n",
       "3       -0.544838       -0.717358             -0.721281   \n",
       "4       -0.091786        1.285867              0.114448   \n",
       "\n",
       "   DirectorAssistedCalls  OverageMinutes  RoamingCalls  PercChangeMinutes  \\\n",
       "0              -0.309466       -0.183139     -0.176998           2.160071   \n",
       "1              -0.428130       -0.423189     -0.176998           0.188812   \n",
       "2               1.921411        3.960330     -0.176998           0.827276   \n",
       "3              -0.428130       -0.256198     -0.176998           0.156889   \n",
       "4              -0.076885       -0.423189      0.015500           0.711555   \n",
       "\n",
       "   PercChangeRevenues  DroppedCalls  BlockedCalls  ...  \\\n",
       "0            1.420871      0.246531     -0.307604  ...   \n",
       "1            0.034072      0.403143     -0.337527  ...   \n",
       "2            0.667648      0.738741     -0.108118  ...   \n",
       "3            0.232574     -0.458224     -0.337527  ...   \n",
       "4            0.061264     -0.379918      0.191111  ...   \n",
       "\n",
       "   CreditRating_6-VeryLow  CreditRating_7-Lowest  PrizmCode_Other  \\\n",
       "0                       0                      0                1   \n",
       "1                       0                      0                1   \n",
       "2                       0                      0                0   \n",
       "3                       0                      0                1   \n",
       "4                       0                      0                0   \n",
       "\n",
       "   PrizmCode_Rural  PrizmCode_Suburban  PrizmCode_Town  MaritalStatus_No  \\\n",
       "0                0                   0               0                 1   \n",
       "1                0                   0               0                 1   \n",
       "2                0                   1               0                 0   \n",
       "3                0                   0               0                 1   \n",
       "4                0                   1               0                 1   \n",
       "\n",
       "   MaritalStatus_Unknown  MaritalStatus_Yes     Churn  \n",
       "0                      0                  0  0.338596  \n",
       "1                      0                  0  0.414610  \n",
       "2                      0                  1  0.439523  \n",
       "3                      0                  0  0.378932  \n",
       "4                      0                  0  0.346175  \n",
       "\n",
       "[5 rows x 89 columns]"
      ]
     },
     "execution_count": 115,
     "metadata": {},
     "output_type": "execute_result"
    }
   ],
   "source": [
    "pred_df.head()"
   ]
  },
  {
   "cell_type": "code",
   "execution_count": 116,
   "metadata": {},
   "outputs": [],
   "source": [
    "pred_df.loc[pred_df['Churn'] >=0.53, 'Churn']=1\n",
    "pred_df.loc[pred_df['Churn'] < 0.53, 'Churn']=0"
   ]
  },
  {
   "cell_type": "code",
   "execution_count": 117,
   "metadata": {},
   "outputs": [
    {
     "data": {
      "text/plain": [
       "0.0    13375\n",
       "1.0     5881\n",
       "Name: Churn, dtype: int64"
      ]
     },
     "execution_count": 117,
     "metadata": {},
     "output_type": "execute_result"
    }
   ],
   "source": [
    "pred_df.Churn.value_counts()"
   ]
  },
  {
   "cell_type": "markdown",
   "metadata": {
    "id": "abauS3GolFIe"
   },
   "source": [
    "## Q6. [Bonus Question] Calculate lift chart and total monthly revenue saved by targeting top 10-20% of the customers using your best predictive model"
   ]
  },
  {
   "cell_type": "code",
   "execution_count": 118,
   "metadata": {
    "id": "6q6go8_olFIe"
   },
   "outputs": [],
   "source": [
    "#Type your code here to plot the lift chart from the best model\n",
    "#Identify the lift i.e. 3x of capturing churn with and without using the model \n",
    "#(Assume: only top 20% high risk customers are to be targetted)\n",
    "\n",
    "\n",
    "\n",
    "\n"
   ]
  },
  {
   "cell_type": "markdown",
   "metadata": {
    "id": "5BCprZwTlFIe"
   },
   "source": [
    "<mark>__Result:__\n",
    "    \n",
    "1. What is the % actual churn captured by targeting top 20% (top 2 deciles) of the customers sorted by their churn probability?\n",
    "2. What is the total monthly revenue of actual churn customers identified in the top 20% of the customers?\n",
    "   "
   ]
  }
 ],
 "metadata": {
  "colab": {
   "name": "Project 8 Starter Code.ipynb",
   "provenance": []
  },
  "kernelspec": {
   "display_name": "Python 3",
   "language": "python",
   "name": "python3"
  },
  "language_info": {
   "codemirror_mode": {
    "name": "ipython",
    "version": 3
   },
   "file_extension": ".py",
   "mimetype": "text/x-python",
   "name": "python",
   "nbconvert_exporter": "python",
   "pygments_lexer": "ipython3",
   "version": "3.8.3"
  }
 },
 "nbformat": 4,
 "nbformat_minor": 1
}
